{
 "cells": [
  {
   "cell_type": "code",
   "execution_count": 6,
   "metadata": {},
   "outputs": [],
   "source": [
    "from Simulations.SingleRunSimulation import SingleRunSimulation\n",
    "from Mice.RandomWalker import RandomWalker\n",
    "from Mazes.DFS_R import DFS_R\n",
    "from Evaluators.PathLengthEvaluator import PathLengthEvaluator\n",
    "from DataBases.Mysql import Mysql"
   ]
  },
  {
   "cell_type": "code",
   "execution_count": 7,
   "metadata": {},
   "outputs": [],
   "source": [
    "mouse = RandomWalker()\n",
    "\n",
    "sim = SingleRunSimulation(mouse, DFS_R, PathLengthEvaluator)"
   ]
  },
  {
   "cell_type": "code",
   "execution_count": 8,
   "metadata": {},
   "outputs": [
    {
     "name": "stdout",
     "output_type": "stream",
     "text": [
      "Simulation result: 638 steps to solve the maze in 0:00:00.010391\n"
     ]
    }
   ],
   "source": [
    "sim.run()\n",
    "print(f'Simulation result: {sim.results[\"score\"]} steps to solve the maze in {sim.results[\"time\"]}')"
   ]
  },
  {
   "cell_type": "code",
   "execution_count": 9,
   "metadata": {},
   "outputs": [
    {
     "data": {
      "application/vnd.plotly.v1+json": {
       "config": {
        "plotlyServerURL": "https://plot.ly"
       },
       "data": [
        {
         "type": "scatter",
         "x": [],
         "xaxis": "x",
         "y": [],
         "yaxis": "y"
        }
       ],
       "layout": {
        "shapes": [
         {
          "fillcolor": "green",
          "line": {
           "width": 0
          },
          "opacity": 0.2,
          "type": "rect",
          "x0": 0,
          "x1": 1,
          "xref": "x",
          "y0": 0,
          "y1": 1,
          "yref": "y"
         },
         {
          "line": {
           "color": "black",
           "width": 3
          },
          "type": "line",
          "x0": 0,
          "x1": 1,
          "xref": "x",
          "y0": 0,
          "y1": 0,
          "yref": "y"
         },
         {
          "line": {
           "color": "black",
           "width": 3
          },
          "type": "line",
          "x0": 0,
          "x1": 1,
          "xref": "x",
          "y0": 1,
          "y1": 1,
          "yref": "y"
         },
         {
          "line": {
           "color": "black",
           "width": 3
          },
          "type": "line",
          "x0": 0,
          "x1": 0,
          "xref": "x",
          "y0": 0,
          "y1": 1,
          "yref": "y"
         },
         {
          "line": {
           "color": "black",
           "width": 3
          },
          "type": "line",
          "x0": 1,
          "x1": 2,
          "xref": "x",
          "y0": 0,
          "y1": 0,
          "yref": "y"
         },
         {
          "line": {
           "color": "black",
           "width": 3
          },
          "type": "line",
          "x0": 1,
          "x1": 2,
          "xref": "x",
          "y0": 1,
          "y1": 1,
          "yref": "y"
         },
         {
          "line": {
           "color": "black",
           "width": 3
          },
          "type": "line",
          "x0": 2,
          "x1": 3,
          "xref": "x",
          "y0": 0,
          "y1": 0,
          "yref": "y"
         },
         {
          "line": {
           "color": "black",
           "width": 3
          },
          "type": "line",
          "x0": 3,
          "x1": 3,
          "xref": "x",
          "y0": 0,
          "y1": 1,
          "yref": "y"
         },
         {
          "line": {
           "color": "black",
           "width": 3
          },
          "type": "line",
          "x0": 3,
          "x1": 4,
          "xref": "x",
          "y0": 0,
          "y1": 0,
          "yref": "y"
         },
         {
          "line": {
           "color": "black",
           "width": 3
          },
          "type": "line",
          "x0": 3,
          "x1": 4,
          "xref": "x",
          "y0": 1,
          "y1": 1,
          "yref": "y"
         },
         {
          "line": {
           "color": "black",
           "width": 3
          },
          "type": "line",
          "x0": 3,
          "x1": 3,
          "xref": "x",
          "y0": 0,
          "y1": 1,
          "yref": "y"
         },
         {
          "line": {
           "color": "black",
           "width": 3
          },
          "type": "line",
          "x0": 4,
          "x1": 5,
          "xref": "x",
          "y0": 0,
          "y1": 0,
          "yref": "y"
         },
         {
          "line": {
           "color": "black",
           "width": 3
          },
          "type": "line",
          "x0": 5,
          "x1": 6,
          "xref": "x",
          "y0": 0,
          "y1": 0,
          "yref": "y"
         },
         {
          "line": {
           "color": "black",
           "width": 3
          },
          "type": "line",
          "x0": 6,
          "x1": 7,
          "xref": "x",
          "y0": 0,
          "y1": 0,
          "yref": "y"
         },
         {
          "line": {
           "color": "black",
           "width": 3
          },
          "type": "line",
          "x0": 6,
          "x1": 7,
          "xref": "x",
          "y0": 1,
          "y1": 1,
          "yref": "y"
         },
         {
          "line": {
           "color": "black",
           "width": 3
          },
          "type": "line",
          "x0": 7,
          "x1": 8,
          "xref": "x",
          "y0": 0,
          "y1": 0,
          "yref": "y"
         },
         {
          "line": {
           "color": "black",
           "width": 3
          },
          "type": "line",
          "x0": 8,
          "x1": 8,
          "xref": "x",
          "y0": 0,
          "y1": 1,
          "yref": "y"
         },
         {
          "line": {
           "color": "black",
           "width": 3
          },
          "type": "line",
          "x0": 8,
          "x1": 9,
          "xref": "x",
          "y0": 0,
          "y1": 0,
          "yref": "y"
         },
         {
          "line": {
           "color": "black",
           "width": 3
          },
          "type": "line",
          "x0": 8,
          "x1": 8,
          "xref": "x",
          "y0": 0,
          "y1": 1,
          "yref": "y"
         },
         {
          "line": {
           "color": "black",
           "width": 3
          },
          "type": "line",
          "x0": 9,
          "x1": 10,
          "xref": "x",
          "y0": 0,
          "y1": 0,
          "yref": "y"
         },
         {
          "line": {
           "color": "black",
           "width": 3
          },
          "type": "line",
          "x0": 9,
          "x1": 10,
          "xref": "x",
          "y0": 1,
          "y1": 1,
          "yref": "y"
         },
         {
          "line": {
           "color": "black",
           "width": 3
          },
          "type": "line",
          "x0": 10,
          "x1": 11,
          "xref": "x",
          "y0": 0,
          "y1": 0,
          "yref": "y"
         },
         {
          "line": {
           "color": "black",
           "width": 3
          },
          "type": "line",
          "x0": 11,
          "x1": 11,
          "xref": "x",
          "y0": 0,
          "y1": 1,
          "yref": "y"
         },
         {
          "line": {
           "color": "black",
           "width": 3
          },
          "type": "line",
          "x0": 11,
          "x1": 12,
          "xref": "x",
          "y0": 0,
          "y1": 0,
          "yref": "y"
         },
         {
          "line": {
           "color": "black",
           "width": 3
          },
          "type": "line",
          "x0": 11,
          "x1": 12,
          "xref": "x",
          "y0": 1,
          "y1": 1,
          "yref": "y"
         },
         {
          "line": {
           "color": "black",
           "width": 3
          },
          "type": "line",
          "x0": 11,
          "x1": 11,
          "xref": "x",
          "y0": 0,
          "y1": 1,
          "yref": "y"
         },
         {
          "line": {
           "color": "black",
           "width": 3
          },
          "type": "line",
          "x0": 12,
          "x1": 13,
          "xref": "x",
          "y0": 0,
          "y1": 0,
          "yref": "y"
         },
         {
          "line": {
           "color": "black",
           "width": 3
          },
          "type": "line",
          "x0": 12,
          "x1": 13,
          "xref": "x",
          "y0": 1,
          "y1": 1,
          "yref": "y"
         },
         {
          "line": {
           "color": "black",
           "width": 3
          },
          "type": "line",
          "x0": 13,
          "x1": 14,
          "xref": "x",
          "y0": 0,
          "y1": 0,
          "yref": "y"
         },
         {
          "line": {
           "color": "black",
           "width": 3
          },
          "type": "line",
          "x0": 14,
          "x1": 15,
          "xref": "x",
          "y0": 0,
          "y1": 0,
          "yref": "y"
         },
         {
          "line": {
           "color": "black",
           "width": 3
          },
          "type": "line",
          "x0": 15,
          "x1": 15,
          "xref": "x",
          "y0": 0,
          "y1": 1,
          "yref": "y"
         },
         {
          "line": {
           "color": "black",
           "width": 3
          },
          "type": "line",
          "x0": 15,
          "x1": 16,
          "xref": "x",
          "y0": 0,
          "y1": 0,
          "yref": "y"
         },
         {
          "line": {
           "color": "black",
           "width": 3
          },
          "type": "line",
          "x0": 16,
          "x1": 16,
          "xref": "x",
          "y0": 0,
          "y1": 1,
          "yref": "y"
         },
         {
          "line": {
           "color": "black",
           "width": 3
          },
          "type": "line",
          "x0": 15,
          "x1": 15,
          "xref": "x",
          "y0": 0,
          "y1": 1,
          "yref": "y"
         },
         {
          "line": {
           "color": "black",
           "width": 3
          },
          "type": "line",
          "x0": 0,
          "x1": 1,
          "xref": "x",
          "y0": 1,
          "y1": 1,
          "yref": "y"
         },
         {
          "line": {
           "color": "black",
           "width": 3
          },
          "type": "line",
          "x0": 0,
          "x1": 1,
          "xref": "x",
          "y0": 2,
          "y1": 2,
          "yref": "y"
         },
         {
          "line": {
           "color": "black",
           "width": 3
          },
          "type": "line",
          "x0": 0,
          "x1": 0,
          "xref": "x",
          "y0": 1,
          "y1": 2,
          "yref": "y"
         },
         {
          "line": {
           "color": "black",
           "width": 3
          },
          "type": "line",
          "x0": 1,
          "x1": 2,
          "xref": "x",
          "y0": 1,
          "y1": 1,
          "yref": "y"
         },
         {
          "line": {
           "color": "black",
           "width": 3
          },
          "type": "line",
          "x0": 2,
          "x1": 2,
          "xref": "x",
          "y0": 1,
          "y1": 2,
          "yref": "y"
         },
         {
          "line": {
           "color": "black",
           "width": 3
          },
          "type": "line",
          "x0": 2,
          "x1": 3,
          "xref": "x",
          "y0": 2,
          "y1": 2,
          "yref": "y"
         },
         {
          "line": {
           "color": "black",
           "width": 3
          },
          "type": "line",
          "x0": 2,
          "x1": 2,
          "xref": "x",
          "y0": 1,
          "y1": 2,
          "yref": "y"
         },
         {
          "line": {
           "color": "black",
           "width": 3
          },
          "type": "line",
          "x0": 3,
          "x1": 4,
          "xref": "x",
          "y0": 1,
          "y1": 1,
          "yref": "y"
         },
         {
          "line": {
           "color": "black",
           "width": 3
          },
          "type": "line",
          "x0": 4,
          "x1": 4,
          "xref": "x",
          "y0": 1,
          "y1": 2,
          "yref": "y"
         },
         {
          "line": {
           "color": "black",
           "width": 3
          },
          "type": "line",
          "x0": 5,
          "x1": 5,
          "xref": "x",
          "y0": 1,
          "y1": 2,
          "yref": "y"
         },
         {
          "line": {
           "color": "black",
           "width": 3
          },
          "type": "line",
          "x0": 4,
          "x1": 4,
          "xref": "x",
          "y0": 1,
          "y1": 2,
          "yref": "y"
         },
         {
          "line": {
           "color": "black",
           "width": 3
          },
          "type": "line",
          "x0": 5,
          "x1": 6,
          "xref": "x",
          "y0": 2,
          "y1": 2,
          "yref": "y"
         },
         {
          "line": {
           "color": "black",
           "width": 3
          },
          "type": "line",
          "x0": 5,
          "x1": 5,
          "xref": "x",
          "y0": 1,
          "y1": 2,
          "yref": "y"
         },
         {
          "line": {
           "color": "black",
           "width": 3
          },
          "type": "line",
          "x0": 6,
          "x1": 7,
          "xref": "x",
          "y0": 1,
          "y1": 1,
          "yref": "y"
         },
         {
          "line": {
           "color": "black",
           "width": 3
          },
          "type": "line",
          "x0": 7,
          "x1": 7,
          "xref": "x",
          "y0": 1,
          "y1": 2,
          "yref": "y"
         },
         {
          "line": {
           "color": "black",
           "width": 3
          },
          "type": "line",
          "x0": 8,
          "x1": 8,
          "xref": "x",
          "y0": 1,
          "y1": 2,
          "yref": "y"
         },
         {
          "line": {
           "color": "black",
           "width": 3
          },
          "type": "line",
          "x0": 7,
          "x1": 7,
          "xref": "x",
          "y0": 1,
          "y1": 2,
          "yref": "y"
         },
         {
          "line": {
           "color": "black",
           "width": 3
          },
          "type": "line",
          "x0": 9,
          "x1": 9,
          "xref": "x",
          "y0": 1,
          "y1": 2,
          "yref": "y"
         },
         {
          "line": {
           "color": "black",
           "width": 3
          },
          "type": "line",
          "x0": 8,
          "x1": 8,
          "xref": "x",
          "y0": 1,
          "y1": 2,
          "yref": "y"
         },
         {
          "line": {
           "color": "black",
           "width": 3
          },
          "type": "line",
          "x0": 9,
          "x1": 10,
          "xref": "x",
          "y0": 1,
          "y1": 1,
          "yref": "y"
         },
         {
          "line": {
           "color": "black",
           "width": 3
          },
          "type": "line",
          "x0": 9,
          "x1": 9,
          "xref": "x",
          "y0": 1,
          "y1": 2,
          "yref": "y"
         },
         {
          "line": {
           "color": "black",
           "width": 3
          },
          "type": "line",
          "x0": 11,
          "x1": 11,
          "xref": "x",
          "y0": 1,
          "y1": 2,
          "yref": "y"
         },
         {
          "line": {
           "color": "black",
           "width": 3
          },
          "type": "line",
          "x0": 10,
          "x1": 11,
          "xref": "x",
          "y0": 2,
          "y1": 2,
          "yref": "y"
         },
         {
          "line": {
           "color": "black",
           "width": 3
          },
          "type": "line",
          "x0": 11,
          "x1": 12,
          "xref": "x",
          "y0": 1,
          "y1": 1,
          "yref": "y"
         },
         {
          "line": {
           "color": "black",
           "width": 3
          },
          "type": "line",
          "x0": 11,
          "x1": 11,
          "xref": "x",
          "y0": 1,
          "y1": 2,
          "yref": "y"
         },
         {
          "line": {
           "color": "black",
           "width": 3
          },
          "type": "line",
          "x0": 12,
          "x1": 13,
          "xref": "x",
          "y0": 1,
          "y1": 1,
          "yref": "y"
         },
         {
          "line": {
           "color": "black",
           "width": 3
          },
          "type": "line",
          "x0": 12,
          "x1": 13,
          "xref": "x",
          "y0": 2,
          "y1": 2,
          "yref": "y"
         },
         {
          "line": {
           "color": "black",
           "width": 3
          },
          "type": "line",
          "x0": 14,
          "x1": 14,
          "xref": "x",
          "y0": 1,
          "y1": 2,
          "yref": "y"
         },
         {
          "line": {
           "color": "black",
           "width": 3
          },
          "type": "line",
          "x0": 13,
          "x1": 14,
          "xref": "x",
          "y0": 2,
          "y1": 2,
          "yref": "y"
         },
         {
          "line": {
           "color": "black",
           "width": 3
          },
          "type": "line",
          "x0": 14,
          "x1": 15,
          "xref": "x",
          "y0": 2,
          "y1": 2,
          "yref": "y"
         },
         {
          "line": {
           "color": "black",
           "width": 3
          },
          "type": "line",
          "x0": 14,
          "x1": 14,
          "xref": "x",
          "y0": 1,
          "y1": 2,
          "yref": "y"
         },
         {
          "line": {
           "color": "black",
           "width": 3
          },
          "type": "line",
          "x0": 16,
          "x1": 16,
          "xref": "x",
          "y0": 1,
          "y1": 2,
          "yref": "y"
         },
         {
          "line": {
           "color": "black",
           "width": 3
          },
          "type": "line",
          "x0": 0,
          "x1": 1,
          "xref": "x",
          "y0": 2,
          "y1": 2,
          "yref": "y"
         },
         {
          "line": {
           "color": "black",
           "width": 3
          },
          "type": "line",
          "x0": 0,
          "x1": 0,
          "xref": "x",
          "y0": 2,
          "y1": 3,
          "yref": "y"
         },
         {
          "line": {
           "color": "black",
           "width": 3
          },
          "type": "line",
          "x0": 2,
          "x1": 2,
          "xref": "x",
          "y0": 2,
          "y1": 3,
          "yref": "y"
         },
         {
          "line": {
           "color": "black",
           "width": 3
          },
          "type": "line",
          "x0": 1,
          "x1": 2,
          "xref": "x",
          "y0": 3,
          "y1": 3,
          "yref": "y"
         },
         {
          "line": {
           "color": "black",
           "width": 3
          },
          "type": "line",
          "x0": 2,
          "x1": 3,
          "xref": "x",
          "y0": 2,
          "y1": 2,
          "yref": "y"
         },
         {
          "line": {
           "color": "black",
           "width": 3
          },
          "type": "line",
          "x0": 2,
          "x1": 2,
          "xref": "x",
          "y0": 2,
          "y1": 3,
          "yref": "y"
         },
         {
          "line": {
           "color": "black",
           "width": 3
          },
          "type": "line",
          "x0": 4,
          "x1": 4,
          "xref": "x",
          "y0": 2,
          "y1": 3,
          "yref": "y"
         },
         {
          "line": {
           "color": "black",
           "width": 3
          },
          "type": "line",
          "x0": 3,
          "x1": 4,
          "xref": "x",
          "y0": 3,
          "y1": 3,
          "yref": "y"
         },
         {
          "line": {
           "color": "black",
           "width": 3
          },
          "type": "line",
          "x0": 4,
          "x1": 5,
          "xref": "x",
          "y0": 3,
          "y1": 3,
          "yref": "y"
         },
         {
          "line": {
           "color": "black",
           "width": 3
          },
          "type": "line",
          "x0": 4,
          "x1": 4,
          "xref": "x",
          "y0": 2,
          "y1": 3,
          "yref": "y"
         },
         {
          "line": {
           "color": "black",
           "width": 3
          },
          "type": "line",
          "x0": 5,
          "x1": 6,
          "xref": "x",
          "y0": 2,
          "y1": 2,
          "yref": "y"
         },
         {
          "line": {
           "color": "black",
           "width": 3
          },
          "type": "line",
          "x0": 6,
          "x1": 6,
          "xref": "x",
          "y0": 2,
          "y1": 3,
          "yref": "y"
         },
         {
          "line": {
           "color": "black",
           "width": 3
          },
          "type": "line",
          "x0": 5,
          "x1": 6,
          "xref": "x",
          "y0": 3,
          "y1": 3,
          "yref": "y"
         },
         {
          "line": {
           "color": "black",
           "width": 3
          },
          "type": "line",
          "x0": 7,
          "x1": 7,
          "xref": "x",
          "y0": 2,
          "y1": 3,
          "yref": "y"
         },
         {
          "line": {
           "color": "black",
           "width": 3
          },
          "type": "line",
          "x0": 6,
          "x1": 6,
          "xref": "x",
          "y0": 2,
          "y1": 3,
          "yref": "y"
         },
         {
          "line": {
           "color": "black",
           "width": 3
          },
          "type": "line",
          "x0": 8,
          "x1": 8,
          "xref": "x",
          "y0": 2,
          "y1": 3,
          "yref": "y"
         },
         {
          "line": {
           "color": "black",
           "width": 3
          },
          "type": "line",
          "x0": 7,
          "x1": 7,
          "xref": "x",
          "y0": 2,
          "y1": 3,
          "yref": "y"
         },
         {
          "line": {
           "color": "black",
           "width": 3
          },
          "type": "line",
          "x0": 9,
          "x1": 9,
          "xref": "x",
          "y0": 2,
          "y1": 3,
          "yref": "y"
         },
         {
          "line": {
           "color": "black",
           "width": 3
          },
          "type": "line",
          "x0": 8,
          "x1": 8,
          "xref": "x",
          "y0": 2,
          "y1": 3,
          "yref": "y"
         },
         {
          "line": {
           "color": "black",
           "width": 3
          },
          "type": "line",
          "x0": 9,
          "x1": 10,
          "xref": "x",
          "y0": 3,
          "y1": 3,
          "yref": "y"
         },
         {
          "line": {
           "color": "black",
           "width": 3
          },
          "type": "line",
          "x0": 9,
          "x1": 9,
          "xref": "x",
          "y0": 2,
          "y1": 3,
          "yref": "y"
         },
         {
          "line": {
           "color": "black",
           "width": 3
          },
          "type": "line",
          "x0": 10,
          "x1": 11,
          "xref": "x",
          "y0": 2,
          "y1": 2,
          "yref": "y"
         },
         {
          "line": {
           "color": "black",
           "width": 3
          },
          "type": "line",
          "x0": 11,
          "x1": 11,
          "xref": "x",
          "y0": 2,
          "y1": 3,
          "yref": "y"
         },
         {
          "line": {
           "color": "black",
           "width": 3
          },
          "type": "line",
          "x0": 12,
          "x1": 12,
          "xref": "x",
          "y0": 2,
          "y1": 3,
          "yref": "y"
         },
         {
          "line": {
           "color": "black",
           "width": 3
          },
          "type": "line",
          "x0": 11,
          "x1": 11,
          "xref": "x",
          "y0": 2,
          "y1": 3,
          "yref": "y"
         },
         {
          "line": {
           "color": "black",
           "width": 3
          },
          "type": "line",
          "x0": 12,
          "x1": 13,
          "xref": "x",
          "y0": 2,
          "y1": 2,
          "yref": "y"
         },
         {
          "line": {
           "color": "black",
           "width": 3
          },
          "type": "line",
          "x0": 12,
          "x1": 12,
          "xref": "x",
          "y0": 2,
          "y1": 3,
          "yref": "y"
         },
         {
          "line": {
           "color": "black",
           "width": 3
          },
          "type": "line",
          "x0": 13,
          "x1": 14,
          "xref": "x",
          "y0": 2,
          "y1": 2,
          "yref": "y"
         },
         {
          "line": {
           "color": "black",
           "width": 3
          },
          "type": "line",
          "x0": 13,
          "x1": 14,
          "xref": "x",
          "y0": 3,
          "y1": 3,
          "yref": "y"
         },
         {
          "line": {
           "color": "black",
           "width": 3
          },
          "type": "line",
          "x0": 14,
          "x1": 15,
          "xref": "x",
          "y0": 2,
          "y1": 2,
          "yref": "y"
         },
         {
          "line": {
           "color": "black",
           "width": 3
          },
          "type": "line",
          "x0": 15,
          "x1": 15,
          "xref": "x",
          "y0": 2,
          "y1": 3,
          "yref": "y"
         },
         {
          "line": {
           "color": "black",
           "width": 3
          },
          "type": "line",
          "x0": 14,
          "x1": 15,
          "xref": "x",
          "y0": 3,
          "y1": 3,
          "yref": "y"
         },
         {
          "line": {
           "color": "black",
           "width": 3
          },
          "type": "line",
          "x0": 16,
          "x1": 16,
          "xref": "x",
          "y0": 2,
          "y1": 3,
          "yref": "y"
         },
         {
          "line": {
           "color": "black",
           "width": 3
          },
          "type": "line",
          "x0": 15,
          "x1": 15,
          "xref": "x",
          "y0": 2,
          "y1": 3,
          "yref": "y"
         },
         {
          "line": {
           "color": "black",
           "width": 3
          },
          "type": "line",
          "x0": 0,
          "x1": 1,
          "xref": "x",
          "y0": 4,
          "y1": 4,
          "yref": "y"
         },
         {
          "line": {
           "color": "black",
           "width": 3
          },
          "type": "line",
          "x0": 0,
          "x1": 0,
          "xref": "x",
          "y0": 3,
          "y1": 4,
          "yref": "y"
         },
         {
          "line": {
           "color": "black",
           "width": 3
          },
          "type": "line",
          "x0": 1,
          "x1": 2,
          "xref": "x",
          "y0": 3,
          "y1": 3,
          "yref": "y"
         },
         {
          "line": {
           "color": "black",
           "width": 3
          },
          "type": "line",
          "x0": 2,
          "x1": 2,
          "xref": "x",
          "y0": 3,
          "y1": 4,
          "yref": "y"
         },
         {
          "line": {
           "color": "black",
           "width": 3
          },
          "type": "line",
          "x0": 2,
          "x1": 3,
          "xref": "x",
          "y0": 4,
          "y1": 4,
          "yref": "y"
         },
         {
          "line": {
           "color": "black",
           "width": 3
          },
          "type": "line",
          "x0": 2,
          "x1": 2,
          "xref": "x",
          "y0": 3,
          "y1": 4,
          "yref": "y"
         },
         {
          "line": {
           "color": "black",
           "width": 3
          },
          "type": "line",
          "x0": 3,
          "x1": 4,
          "xref": "x",
          "y0": 3,
          "y1": 3,
          "yref": "y"
         },
         {
          "line": {
           "color": "black",
           "width": 3
          },
          "type": "line",
          "x0": 3,
          "x1": 4,
          "xref": "x",
          "y0": 4,
          "y1": 4,
          "yref": "y"
         },
         {
          "line": {
           "color": "black",
           "width": 3
          },
          "type": "line",
          "x0": 4,
          "x1": 5,
          "xref": "x",
          "y0": 3,
          "y1": 3,
          "yref": "y"
         },
         {
          "line": {
           "color": "black",
           "width": 3
          },
          "type": "line",
          "x0": 4,
          "x1": 5,
          "xref": "x",
          "y0": 4,
          "y1": 4,
          "yref": "y"
         },
         {
          "line": {
           "color": "black",
           "width": 3
          },
          "type": "line",
          "x0": 5,
          "x1": 6,
          "xref": "x",
          "y0": 3,
          "y1": 3,
          "yref": "y"
         },
         {
          "line": {
           "color": "black",
           "width": 3
          },
          "type": "line",
          "x0": 5,
          "x1": 6,
          "xref": "x",
          "y0": 4,
          "y1": 4,
          "yref": "y"
         },
         {
          "line": {
           "color": "black",
           "width": 3
          },
          "type": "line",
          "x0": 7,
          "x1": 7,
          "xref": "x",
          "y0": 3,
          "y1": 4,
          "yref": "y"
         },
         {
          "line": {
           "color": "black",
           "width": 3
          },
          "type": "line",
          "x0": 6,
          "x1": 7,
          "xref": "x",
          "y0": 4,
          "y1": 4,
          "yref": "y"
         },
         {
          "line": {
           "color": "black",
           "width": 3
          },
          "type": "line",
          "x0": 8,
          "x1": 8,
          "xref": "x",
          "y0": 3,
          "y1": 4,
          "yref": "y"
         },
         {
          "line": {
           "color": "black",
           "width": 3
          },
          "type": "line",
          "x0": 7,
          "x1": 7,
          "xref": "x",
          "y0": 3,
          "y1": 4,
          "yref": "y"
         },
         {
          "line": {
           "color": "black",
           "width": 3
          },
          "type": "line",
          "x0": 8,
          "x1": 8,
          "xref": "x",
          "y0": 3,
          "y1": 4,
          "yref": "y"
         },
         {
          "line": {
           "color": "black",
           "width": 3
          },
          "type": "line",
          "x0": 9,
          "x1": 10,
          "xref": "x",
          "y0": 3,
          "y1": 3,
          "yref": "y"
         },
         {
          "line": {
           "color": "black",
           "width": 3
          },
          "type": "line",
          "x0": 10,
          "x1": 10,
          "xref": "x",
          "y0": 3,
          "y1": 4,
          "yref": "y"
         },
         {
          "line": {
           "color": "black",
           "width": 3
          },
          "type": "line",
          "x0": 10,
          "x1": 11,
          "xref": "x",
          "y0": 4,
          "y1": 4,
          "yref": "y"
         },
         {
          "line": {
           "color": "black",
           "width": 3
          },
          "type": "line",
          "x0": 10,
          "x1": 10,
          "xref": "x",
          "y0": 3,
          "y1": 4,
          "yref": "y"
         },
         {
          "line": {
           "color": "black",
           "width": 3
          },
          "type": "line",
          "x0": 12,
          "x1": 12,
          "xref": "x",
          "y0": 3,
          "y1": 4,
          "yref": "y"
         },
         {
          "line": {
           "color": "black",
           "width": 3
          },
          "type": "line",
          "x0": 11,
          "x1": 12,
          "xref": "x",
          "y0": 4,
          "y1": 4,
          "yref": "y"
         },
         {
          "line": {
           "color": "black",
           "width": 3
          },
          "type": "line",
          "x0": 12,
          "x1": 12,
          "xref": "x",
          "y0": 3,
          "y1": 4,
          "yref": "y"
         },
         {
          "line": {
           "color": "black",
           "width": 3
          },
          "type": "line",
          "x0": 13,
          "x1": 14,
          "xref": "x",
          "y0": 3,
          "y1": 3,
          "yref": "y"
         },
         {
          "line": {
           "color": "black",
           "width": 3
          },
          "type": "line",
          "x0": 14,
          "x1": 14,
          "xref": "x",
          "y0": 3,
          "y1": 4,
          "yref": "y"
         },
         {
          "line": {
           "color": "black",
           "width": 3
          },
          "type": "line",
          "x0": 14,
          "x1": 15,
          "xref": "x",
          "y0": 3,
          "y1": 3,
          "yref": "y"
         },
         {
          "line": {
           "color": "black",
           "width": 3
          },
          "type": "line",
          "x0": 14,
          "x1": 14,
          "xref": "x",
          "y0": 3,
          "y1": 4,
          "yref": "y"
         },
         {
          "line": {
           "color": "black",
           "width": 3
          },
          "type": "line",
          "x0": 16,
          "x1": 16,
          "xref": "x",
          "y0": 3,
          "y1": 4,
          "yref": "y"
         },
         {
          "line": {
           "color": "black",
           "width": 3
          },
          "type": "line",
          "x0": 15,
          "x1": 16,
          "xref": "x",
          "y0": 4,
          "y1": 4,
          "yref": "y"
         },
         {
          "line": {
           "color": "black",
           "width": 3
          },
          "type": "line",
          "x0": 0,
          "x1": 1,
          "xref": "x",
          "y0": 4,
          "y1": 4,
          "yref": "y"
         },
         {
          "line": {
           "color": "black",
           "width": 3
          },
          "type": "line",
          "x0": 0,
          "x1": 0,
          "xref": "x",
          "y0": 4,
          "y1": 5,
          "yref": "y"
         },
         {
          "line": {
           "color": "black",
           "width": 3
          },
          "type": "line",
          "x0": 1,
          "x1": 2,
          "xref": "x",
          "y0": 5,
          "y1": 5,
          "yref": "y"
         },
         {
          "line": {
           "color": "black",
           "width": 3
          },
          "type": "line",
          "x0": 2,
          "x1": 3,
          "xref": "x",
          "y0": 4,
          "y1": 4,
          "yref": "y"
         },
         {
          "line": {
           "color": "black",
           "width": 3
          },
          "type": "line",
          "x0": 2,
          "x1": 3,
          "xref": "x",
          "y0": 5,
          "y1": 5,
          "yref": "y"
         },
         {
          "line": {
           "color": "black",
           "width": 3
          },
          "type": "line",
          "x0": 3,
          "x1": 4,
          "xref": "x",
          "y0": 4,
          "y1": 4,
          "yref": "y"
         },
         {
          "line": {
           "color": "black",
           "width": 3
          },
          "type": "line",
          "x0": 3,
          "x1": 4,
          "xref": "x",
          "y0": 5,
          "y1": 5,
          "yref": "y"
         },
         {
          "line": {
           "color": "black",
           "width": 3
          },
          "type": "line",
          "x0": 4,
          "x1": 5,
          "xref": "x",
          "y0": 4,
          "y1": 4,
          "yref": "y"
         },
         {
          "line": {
           "color": "black",
           "width": 3
          },
          "type": "line",
          "x0": 5,
          "x1": 5,
          "xref": "x",
          "y0": 4,
          "y1": 5,
          "yref": "y"
         },
         {
          "line": {
           "color": "black",
           "width": 3
          },
          "type": "line",
          "x0": 5,
          "x1": 6,
          "xref": "x",
          "y0": 4,
          "y1": 4,
          "yref": "y"
         },
         {
          "line": {
           "color": "black",
           "width": 3
          },
          "type": "line",
          "x0": 5,
          "x1": 5,
          "xref": "x",
          "y0": 4,
          "y1": 5,
          "yref": "y"
         },
         {
          "line": {
           "color": "black",
           "width": 3
          },
          "type": "line",
          "x0": 6,
          "x1": 7,
          "xref": "x",
          "y0": 4,
          "y1": 4,
          "yref": "y"
         },
         {
          "line": {
           "color": "black",
           "width": 3
          },
          "type": "line",
          "x0": 6,
          "x1": 7,
          "xref": "x",
          "y0": 5,
          "y1": 5,
          "yref": "y"
         },
         {
          "line": {
           "color": "black",
           "width": 3
          },
          "type": "line",
          "x0": 8,
          "x1": 8,
          "xref": "x",
          "y0": 4,
          "y1": 5,
          "yref": "y"
         },
         {
          "line": {
           "color": "black",
           "width": 3
          },
          "type": "line",
          "x0": 7,
          "x1": 8,
          "xref": "x",
          "y0": 5,
          "y1": 5,
          "yref": "y"
         },
         {
          "line": {
           "color": "black",
           "width": 3
          },
          "type": "line",
          "x0": 9,
          "x1": 9,
          "xref": "x",
          "y0": 4,
          "y1": 5,
          "yref": "y"
         },
         {
          "line": {
           "color": "black",
           "width": 3
          },
          "type": "line",
          "x0": 8,
          "x1": 9,
          "xref": "x",
          "y0": 5,
          "y1": 5,
          "yref": "y"
         },
         {
          "line": {
           "color": "black",
           "width": 3
          },
          "type": "line",
          "x0": 8,
          "x1": 8,
          "xref": "x",
          "y0": 4,
          "y1": 5,
          "yref": "y"
         },
         {
          "line": {
           "color": "black",
           "width": 3
          },
          "type": "line",
          "x0": 9,
          "x1": 10,
          "xref": "x",
          "y0": 5,
          "y1": 5,
          "yref": "y"
         },
         {
          "line": {
           "color": "black",
           "width": 3
          },
          "type": "line",
          "x0": 9,
          "x1": 9,
          "xref": "x",
          "y0": 4,
          "y1": 5,
          "yref": "y"
         },
         {
          "line": {
           "color": "black",
           "width": 3
          },
          "type": "line",
          "x0": 10,
          "x1": 11,
          "xref": "x",
          "y0": 4,
          "y1": 4,
          "yref": "y"
         },
         {
          "line": {
           "color": "black",
           "width": 3
          },
          "type": "line",
          "x0": 11,
          "x1": 11,
          "xref": "x",
          "y0": 4,
          "y1": 5,
          "yref": "y"
         },
         {
          "line": {
           "color": "black",
           "width": 3
          },
          "type": "line",
          "x0": 11,
          "x1": 12,
          "xref": "x",
          "y0": 4,
          "y1": 4,
          "yref": "y"
         },
         {
          "line": {
           "color": "black",
           "width": 3
          },
          "type": "line",
          "x0": 11,
          "x1": 11,
          "xref": "x",
          "y0": 4,
          "y1": 5,
          "yref": "y"
         },
         {
          "line": {
           "color": "black",
           "width": 3
          },
          "type": "line",
          "x0": 13,
          "x1": 13,
          "xref": "x",
          "y0": 4,
          "y1": 5,
          "yref": "y"
         },
         {
          "line": {
           "color": "black",
           "width": 3
          },
          "type": "line",
          "x0": 12,
          "x1": 13,
          "xref": "x",
          "y0": 5,
          "y1": 5,
          "yref": "y"
         },
         {
          "line": {
           "color": "black",
           "width": 3
          },
          "type": "line",
          "x0": 14,
          "x1": 14,
          "xref": "x",
          "y0": 4,
          "y1": 5,
          "yref": "y"
         },
         {
          "line": {
           "color": "black",
           "width": 3
          },
          "type": "line",
          "x0": 13,
          "x1": 13,
          "xref": "x",
          "y0": 4,
          "y1": 5,
          "yref": "y"
         },
         {
          "line": {
           "color": "black",
           "width": 3
          },
          "type": "line",
          "x0": 15,
          "x1": 15,
          "xref": "x",
          "y0": 4,
          "y1": 5,
          "yref": "y"
         },
         {
          "line": {
           "color": "black",
           "width": 3
          },
          "type": "line",
          "x0": 14,
          "x1": 14,
          "xref": "x",
          "y0": 4,
          "y1": 5,
          "yref": "y"
         },
         {
          "line": {
           "color": "black",
           "width": 3
          },
          "type": "line",
          "x0": 15,
          "x1": 16,
          "xref": "x",
          "y0": 4,
          "y1": 4,
          "yref": "y"
         },
         {
          "line": {
           "color": "black",
           "width": 3
          },
          "type": "line",
          "x0": 16,
          "x1": 16,
          "xref": "x",
          "y0": 4,
          "y1": 5,
          "yref": "y"
         },
         {
          "line": {
           "color": "black",
           "width": 3
          },
          "type": "line",
          "x0": 15,
          "x1": 15,
          "xref": "x",
          "y0": 4,
          "y1": 5,
          "yref": "y"
         },
         {
          "line": {
           "color": "black",
           "width": 3
          },
          "type": "line",
          "x0": 0,
          "x1": 1,
          "xref": "x",
          "y0": 6,
          "y1": 6,
          "yref": "y"
         },
         {
          "line": {
           "color": "black",
           "width": 3
          },
          "type": "line",
          "x0": 0,
          "x1": 0,
          "xref": "x",
          "y0": 5,
          "y1": 6,
          "yref": "y"
         },
         {
          "line": {
           "color": "black",
           "width": 3
          },
          "type": "line",
          "x0": 1,
          "x1": 2,
          "xref": "x",
          "y0": 5,
          "y1": 5,
          "yref": "y"
         },
         {
          "line": {
           "color": "black",
           "width": 3
          },
          "type": "line",
          "x0": 2,
          "x1": 2,
          "xref": "x",
          "y0": 5,
          "y1": 6,
          "yref": "y"
         },
         {
          "line": {
           "color": "black",
           "width": 3
          },
          "type": "line",
          "x0": 2,
          "x1": 3,
          "xref": "x",
          "y0": 5,
          "y1": 5,
          "yref": "y"
         },
         {
          "line": {
           "color": "black",
           "width": 3
          },
          "type": "line",
          "x0": 3,
          "x1": 3,
          "xref": "x",
          "y0": 5,
          "y1": 6,
          "yref": "y"
         },
         {
          "line": {
           "color": "black",
           "width": 3
          },
          "type": "line",
          "x0": 2,
          "x1": 2,
          "xref": "x",
          "y0": 5,
          "y1": 6,
          "yref": "y"
         },
         {
          "line": {
           "color": "black",
           "width": 3
          },
          "type": "line",
          "x0": 3,
          "x1": 4,
          "xref": "x",
          "y0": 5,
          "y1": 5,
          "yref": "y"
         },
         {
          "line": {
           "color": "black",
           "width": 3
          },
          "type": "line",
          "x0": 3,
          "x1": 3,
          "xref": "x",
          "y0": 5,
          "y1": 6,
          "yref": "y"
         },
         {
          "line": {
           "color": "black",
           "width": 3
          },
          "type": "line",
          "x0": 5,
          "x1": 5,
          "xref": "x",
          "y0": 5,
          "y1": 6,
          "yref": "y"
         },
         {
          "line": {
           "color": "black",
           "width": 3
          },
          "type": "line",
          "x0": 4,
          "x1": 5,
          "xref": "x",
          "y0": 6,
          "y1": 6,
          "yref": "y"
         },
         {
          "line": {
           "color": "black",
           "width": 3
          },
          "type": "line",
          "x0": 6,
          "x1": 6,
          "xref": "x",
          "y0": 5,
          "y1": 6,
          "yref": "y"
         },
         {
          "line": {
           "color": "black",
           "width": 3
          },
          "type": "line",
          "x0": 5,
          "x1": 5,
          "xref": "x",
          "y0": 5,
          "y1": 6,
          "yref": "y"
         },
         {
          "line": {
           "color": "black",
           "width": 3
          },
          "type": "line",
          "x0": 6,
          "x1": 7,
          "xref": "x",
          "y0": 5,
          "y1": 5,
          "yref": "y"
         },
         {
          "line": {
           "color": "black",
           "width": 3
          },
          "type": "line",
          "x0": 6,
          "x1": 7,
          "xref": "x",
          "y0": 6,
          "y1": 6,
          "yref": "y"
         },
         {
          "line": {
           "color": "black",
           "width": 3
          },
          "type": "line",
          "x0": 6,
          "x1": 6,
          "xref": "x",
          "y0": 5,
          "y1": 6,
          "yref": "y"
         },
         {
          "line": {
           "color": "black",
           "width": 3
          },
          "type": "line",
          "x0": 7,
          "x1": 8,
          "xref": "x",
          "y0": 5,
          "y1": 5,
          "yref": "y"
         },
         {
          "line": {
           "color": "black",
           "width": 3
          },
          "type": "line",
          "x0": 7,
          "x1": 8,
          "xref": "x",
          "y0": 6,
          "y1": 6,
          "yref": "y"
         },
         {
          "line": {
           "color": "black",
           "width": 3
          },
          "type": "line",
          "x0": 8,
          "x1": 9,
          "xref": "x",
          "y0": 5,
          "y1": 5,
          "yref": "y"
         },
         {
          "line": {
           "color": "black",
           "width": 3
          },
          "type": "line",
          "x0": 9,
          "x1": 10,
          "xref": "x",
          "y0": 5,
          "y1": 5,
          "yref": "y"
         },
         {
          "line": {
           "color": "black",
           "width": 3
          },
          "type": "line",
          "x0": 9,
          "x1": 10,
          "xref": "x",
          "y0": 6,
          "y1": 6,
          "yref": "y"
         },
         {
          "line": {
           "color": "black",
           "width": 3
          },
          "type": "line",
          "x0": 11,
          "x1": 11,
          "xref": "x",
          "y0": 5,
          "y1": 6,
          "yref": "y"
         },
         {
          "line": {
           "color": "black",
           "width": 3
          },
          "type": "line",
          "x0": 10,
          "x1": 11,
          "xref": "x",
          "y0": 6,
          "y1": 6,
          "yref": "y"
         },
         {
          "line": {
           "color": "black",
           "width": 3
          },
          "type": "line",
          "x0": 12,
          "x1": 12,
          "xref": "x",
          "y0": 5,
          "y1": 6,
          "yref": "y"
         },
         {
          "line": {
           "color": "black",
           "width": 3
          },
          "type": "line",
          "x0": 11,
          "x1": 12,
          "xref": "x",
          "y0": 6,
          "y1": 6,
          "yref": "y"
         },
         {
          "line": {
           "color": "black",
           "width": 3
          },
          "type": "line",
          "x0": 11,
          "x1": 11,
          "xref": "x",
          "y0": 5,
          "y1": 6,
          "yref": "y"
         },
         {
          "line": {
           "color": "black",
           "width": 3
          },
          "type": "line",
          "x0": 12,
          "x1": 13,
          "xref": "x",
          "y0": 5,
          "y1": 5,
          "yref": "y"
         },
         {
          "line": {
           "color": "black",
           "width": 3
          },
          "type": "line",
          "x0": 12,
          "x1": 12,
          "xref": "x",
          "y0": 5,
          "y1": 6,
          "yref": "y"
         },
         {
          "line": {
           "color": "black",
           "width": 3
          },
          "type": "line",
          "x0": 14,
          "x1": 14,
          "xref": "x",
          "y0": 5,
          "y1": 6,
          "yref": "y"
         },
         {
          "line": {
           "color": "black",
           "width": 3
          },
          "type": "line",
          "x0": 15,
          "x1": 15,
          "xref": "x",
          "y0": 5,
          "y1": 6,
          "yref": "y"
         },
         {
          "line": {
           "color": "black",
           "width": 3
          },
          "type": "line",
          "x0": 14,
          "x1": 14,
          "xref": "x",
          "y0": 5,
          "y1": 6,
          "yref": "y"
         },
         {
          "line": {
           "color": "black",
           "width": 3
          },
          "type": "line",
          "x0": 16,
          "x1": 16,
          "xref": "x",
          "y0": 5,
          "y1": 6,
          "yref": "y"
         },
         {
          "line": {
           "color": "black",
           "width": 3
          },
          "type": "line",
          "x0": 15,
          "x1": 15,
          "xref": "x",
          "y0": 5,
          "y1": 6,
          "yref": "y"
         },
         {
          "line": {
           "color": "black",
           "width": 3
          },
          "type": "line",
          "x0": 0,
          "x1": 1,
          "xref": "x",
          "y0": 6,
          "y1": 6,
          "yref": "y"
         },
         {
          "line": {
           "color": "black",
           "width": 3
          },
          "type": "line",
          "x0": 0,
          "x1": 0,
          "xref": "x",
          "y0": 6,
          "y1": 7,
          "yref": "y"
         },
         {
          "line": {
           "color": "black",
           "width": 3
          },
          "type": "line",
          "x0": 2,
          "x1": 2,
          "xref": "x",
          "y0": 6,
          "y1": 7,
          "yref": "y"
         },
         {
          "line": {
           "color": "black",
           "width": 3
          },
          "type": "line",
          "x0": 1,
          "x1": 2,
          "xref": "x",
          "y0": 7,
          "y1": 7,
          "yref": "y"
         },
         {
          "line": {
           "color": "black",
           "width": 3
          },
          "type": "line",
          "x0": 2,
          "x1": 3,
          "xref": "x",
          "y0": 7,
          "y1": 7,
          "yref": "y"
         },
         {
          "line": {
           "color": "black",
           "width": 3
          },
          "type": "line",
          "x0": 2,
          "x1": 2,
          "xref": "x",
          "y0": 6,
          "y1": 7,
          "yref": "y"
         },
         {
          "line": {
           "color": "black",
           "width": 3
          },
          "type": "line",
          "x0": 4,
          "x1": 5,
          "xref": "x",
          "y0": 6,
          "y1": 6,
          "yref": "y"
         },
         {
          "line": {
           "color": "black",
           "width": 3
          },
          "type": "line",
          "x0": 5,
          "x1": 5,
          "xref": "x",
          "y0": 6,
          "y1": 7,
          "yref": "y"
         },
         {
          "line": {
           "color": "black",
           "width": 3
          },
          "type": "line",
          "x0": 4,
          "x1": 5,
          "xref": "x",
          "y0": 7,
          "y1": 7,
          "yref": "y"
         },
         {
          "line": {
           "color": "black",
           "width": 3
          },
          "type": "line",
          "x0": 6,
          "x1": 6,
          "xref": "x",
          "y0": 6,
          "y1": 7,
          "yref": "y"
         },
         {
          "line": {
           "color": "black",
           "width": 3
          },
          "type": "line",
          "x0": 5,
          "x1": 5,
          "xref": "x",
          "y0": 6,
          "y1": 7,
          "yref": "y"
         },
         {
          "line": {
           "color": "black",
           "width": 3
          },
          "type": "line",
          "x0": 6,
          "x1": 7,
          "xref": "x",
          "y0": 6,
          "y1": 6,
          "yref": "y"
         },
         {
          "line": {
           "color": "black",
           "width": 3
          },
          "type": "line",
          "x0": 6,
          "x1": 6,
          "xref": "x",
          "y0": 6,
          "y1": 7,
          "yref": "y"
         },
         {
          "line": {
           "color": "black",
           "width": 3
          },
          "type": "line",
          "x0": 7,
          "x1": 8,
          "xref": "x",
          "y0": 6,
          "y1": 6,
          "yref": "y"
         },
         {
          "line": {
           "color": "black",
           "width": 3
          },
          "type": "line",
          "x0": 9,
          "x1": 9,
          "xref": "x",
          "y0": 6,
          "y1": 7,
          "yref": "y"
         },
         {
          "line": {
           "color": "black",
           "width": 3
          },
          "type": "line",
          "x0": 8,
          "x1": 9,
          "xref": "x",
          "y0": 7,
          "y1": 7,
          "yref": "y"
         },
         {
          "line": {
           "color": "black",
           "width": 3
          },
          "type": "line",
          "x0": 9,
          "x1": 10,
          "xref": "x",
          "y0": 6,
          "y1": 6,
          "yref": "y"
         },
         {
          "line": {
           "color": "black",
           "width": 3
          },
          "type": "line",
          "x0": 9,
          "x1": 9,
          "xref": "x",
          "y0": 6,
          "y1": 7,
          "yref": "y"
         },
         {
          "line": {
           "color": "black",
           "width": 3
          },
          "type": "line",
          "x0": 10,
          "x1": 11,
          "xref": "x",
          "y0": 6,
          "y1": 6,
          "yref": "y"
         },
         {
          "line": {
           "color": "black",
           "width": 3
          },
          "type": "line",
          "x0": 10,
          "x1": 11,
          "xref": "x",
          "y0": 7,
          "y1": 7,
          "yref": "y"
         },
         {
          "line": {
           "color": "black",
           "width": 3
          },
          "type": "line",
          "x0": 11,
          "x1": 12,
          "xref": "x",
          "y0": 6,
          "y1": 6,
          "yref": "y"
         },
         {
          "line": {
           "color": "black",
           "width": 3
          },
          "type": "line",
          "x0": 13,
          "x1": 13,
          "xref": "x",
          "y0": 6,
          "y1": 7,
          "yref": "y"
         },
         {
          "line": {
           "color": "black",
           "width": 3
          },
          "type": "line",
          "x0": 12,
          "x1": 13,
          "xref": "x",
          "y0": 7,
          "y1": 7,
          "yref": "y"
         },
         {
          "line": {
           "color": "black",
           "width": 3
          },
          "type": "line",
          "x0": 14,
          "x1": 14,
          "xref": "x",
          "y0": 6,
          "y1": 7,
          "yref": "y"
         },
         {
          "line": {
           "color": "black",
           "width": 3
          },
          "type": "line",
          "x0": 13,
          "x1": 14,
          "xref": "x",
          "y0": 7,
          "y1": 7,
          "yref": "y"
         },
         {
          "line": {
           "color": "black",
           "width": 3
          },
          "type": "line",
          "x0": 13,
          "x1": 13,
          "xref": "x",
          "y0": 6,
          "y1": 7,
          "yref": "y"
         },
         {
          "line": {
           "color": "black",
           "width": 3
          },
          "type": "line",
          "x0": 15,
          "x1": 15,
          "xref": "x",
          "y0": 6,
          "y1": 7,
          "yref": "y"
         },
         {
          "line": {
           "color": "black",
           "width": 3
          },
          "type": "line",
          "x0": 14,
          "x1": 14,
          "xref": "x",
          "y0": 6,
          "y1": 7,
          "yref": "y"
         },
         {
          "line": {
           "color": "black",
           "width": 3
          },
          "type": "line",
          "x0": 16,
          "x1": 16,
          "xref": "x",
          "y0": 6,
          "y1": 7,
          "yref": "y"
         },
         {
          "line": {
           "color": "black",
           "width": 3
          },
          "type": "line",
          "x0": 15,
          "x1": 15,
          "xref": "x",
          "y0": 6,
          "y1": 7,
          "yref": "y"
         },
         {
          "line": {
           "color": "black",
           "width": 3
          },
          "type": "line",
          "x0": 0,
          "x1": 0,
          "xref": "x",
          "y0": 7,
          "y1": 8,
          "yref": "y"
         },
         {
          "line": {
           "color": "black",
           "width": 3
          },
          "type": "line",
          "x0": 1,
          "x1": 2,
          "xref": "x",
          "y0": 7,
          "y1": 7,
          "yref": "y"
         },
         {
          "line": {
           "color": "black",
           "width": 3
          },
          "type": "line",
          "x0": 1,
          "x1": 2,
          "xref": "x",
          "y0": 8,
          "y1": 8,
          "yref": "y"
         },
         {
          "line": {
           "color": "black",
           "width": 3
          },
          "type": "line",
          "x0": 2,
          "x1": 3,
          "xref": "x",
          "y0": 7,
          "y1": 7,
          "yref": "y"
         },
         {
          "line": {
           "color": "black",
           "width": 3
          },
          "type": "line",
          "x0": 3,
          "x1": 3,
          "xref": "x",
          "y0": 7,
          "y1": 8,
          "yref": "y"
         },
         {
          "line": {
           "color": "black",
           "width": 3
          },
          "type": "line",
          "x0": 4,
          "x1": 4,
          "xref": "x",
          "y0": 7,
          "y1": 8,
          "yref": "y"
         },
         {
          "line": {
           "color": "black",
           "width": 3
          },
          "type": "line",
          "x0": 3,
          "x1": 4,
          "xref": "x",
          "y0": 8,
          "y1": 8,
          "yref": "y"
         },
         {
          "line": {
           "color": "black",
           "width": 3
          },
          "type": "line",
          "x0": 3,
          "x1": 3,
          "xref": "x",
          "y0": 7,
          "y1": 8,
          "yref": "y"
         },
         {
          "line": {
           "color": "black",
           "width": 3
          },
          "type": "line",
          "x0": 4,
          "x1": 5,
          "xref": "x",
          "y0": 7,
          "y1": 7,
          "yref": "y"
         },
         {
          "line": {
           "color": "black",
           "width": 3
          },
          "type": "line",
          "x0": 4,
          "x1": 4,
          "xref": "x",
          "y0": 7,
          "y1": 8,
          "yref": "y"
         },
         {
          "line": {
           "color": "black",
           "width": 3
          },
          "type": "line",
          "x0": 6,
          "x1": 6,
          "xref": "x",
          "y0": 7,
          "y1": 8,
          "yref": "y"
         },
         {
          "line": {
           "color": "black",
           "width": 3
          },
          "type": "line",
          "x0": 5,
          "x1": 6,
          "xref": "x",
          "y0": 8,
          "y1": 8,
          "yref": "y"
         },
         {
          "line": {
           "color": "black",
           "width": 3
          },
          "type": "line",
          "x0": 7,
          "x1": 7,
          "xref": "x",
          "y0": 7,
          "y1": 8,
          "yref": "y"
         },
         {
          "line": {
           "color": "black",
           "width": 3
          },
          "type": "line",
          "x0": 6,
          "x1": 6,
          "xref": "x",
          "y0": 7,
          "y1": 8,
          "yref": "y"
         },
         {
          "fillcolor": "red",
          "line": {
           "width": 0
          },
          "opacity": 0.2,
          "type": "rect",
          "x0": 7,
          "x1": 8,
          "xref": "x",
          "y0": 7,
          "y1": 8,
          "yref": "y"
         },
         {
          "line": {
           "color": "black",
           "width": 3
          },
          "type": "line",
          "x0": 7,
          "x1": 7,
          "xref": "x",
          "y0": 7,
          "y1": 8,
          "yref": "y"
         },
         {
          "fillcolor": "red",
          "line": {
           "width": 0
          },
          "opacity": 0.2,
          "type": "rect",
          "x0": 8,
          "x1": 9,
          "xref": "x",
          "y0": 7,
          "y1": 8,
          "yref": "y"
         },
         {
          "line": {
           "color": "black",
           "width": 3
          },
          "type": "line",
          "x0": 8,
          "x1": 9,
          "xref": "x",
          "y0": 7,
          "y1": 7,
          "yref": "y"
         },
         {
          "line": {
           "color": "black",
           "width": 3
          },
          "type": "line",
          "x0": 9,
          "x1": 9,
          "xref": "x",
          "y0": 7,
          "y1": 8,
          "yref": "y"
         },
         {
          "line": {
           "color": "black",
           "width": 3
          },
          "type": "line",
          "x0": 10,
          "x1": 10,
          "xref": "x",
          "y0": 7,
          "y1": 8,
          "yref": "y"
         },
         {
          "line": {
           "color": "black",
           "width": 3
          },
          "type": "line",
          "x0": 9,
          "x1": 9,
          "xref": "x",
          "y0": 7,
          "y1": 8,
          "yref": "y"
         },
         {
          "line": {
           "color": "black",
           "width": 3
          },
          "type": "line",
          "x0": 10,
          "x1": 11,
          "xref": "x",
          "y0": 7,
          "y1": 7,
          "yref": "y"
         },
         {
          "line": {
           "color": "black",
           "width": 3
          },
          "type": "line",
          "x0": 11,
          "x1": 11,
          "xref": "x",
          "y0": 7,
          "y1": 8,
          "yref": "y"
         },
         {
          "line": {
           "color": "black",
           "width": 3
          },
          "type": "line",
          "x0": 10,
          "x1": 10,
          "xref": "x",
          "y0": 7,
          "y1": 8,
          "yref": "y"
         },
         {
          "line": {
           "color": "black",
           "width": 3
          },
          "type": "line",
          "x0": 11,
          "x1": 12,
          "xref": "x",
          "y0": 8,
          "y1": 8,
          "yref": "y"
         },
         {
          "line": {
           "color": "black",
           "width": 3
          },
          "type": "line",
          "x0": 11,
          "x1": 11,
          "xref": "x",
          "y0": 7,
          "y1": 8,
          "yref": "y"
         },
         {
          "line": {
           "color": "black",
           "width": 3
          },
          "type": "line",
          "x0": 12,
          "x1": 13,
          "xref": "x",
          "y0": 7,
          "y1": 7,
          "yref": "y"
         },
         {
          "line": {
           "color": "black",
           "width": 3
          },
          "type": "line",
          "x0": 12,
          "x1": 13,
          "xref": "x",
          "y0": 8,
          "y1": 8,
          "yref": "y"
         },
         {
          "line": {
           "color": "black",
           "width": 3
          },
          "type": "line",
          "x0": 13,
          "x1": 14,
          "xref": "x",
          "y0": 7,
          "y1": 7,
          "yref": "y"
         },
         {
          "line": {
           "color": "black",
           "width": 3
          },
          "type": "line",
          "x0": 14,
          "x1": 14,
          "xref": "x",
          "y0": 7,
          "y1": 8,
          "yref": "y"
         },
         {
          "line": {
           "color": "black",
           "width": 3
          },
          "type": "line",
          "x0": 14,
          "x1": 15,
          "xref": "x",
          "y0": 8,
          "y1": 8,
          "yref": "y"
         },
         {
          "line": {
           "color": "black",
           "width": 3
          },
          "type": "line",
          "x0": 14,
          "x1": 14,
          "xref": "x",
          "y0": 7,
          "y1": 8,
          "yref": "y"
         },
         {
          "line": {
           "color": "black",
           "width": 3
          },
          "type": "line",
          "x0": 16,
          "x1": 16,
          "xref": "x",
          "y0": 7,
          "y1": 8,
          "yref": "y"
         },
         {
          "line": {
           "color": "black",
           "width": 3
          },
          "type": "line",
          "x0": 0,
          "x1": 1,
          "xref": "x",
          "y0": 9,
          "y1": 9,
          "yref": "y"
         },
         {
          "line": {
           "color": "black",
           "width": 3
          },
          "type": "line",
          "x0": 0,
          "x1": 0,
          "xref": "x",
          "y0": 8,
          "y1": 9,
          "yref": "y"
         },
         {
          "line": {
           "color": "black",
           "width": 3
          },
          "type": "line",
          "x0": 1,
          "x1": 2,
          "xref": "x",
          "y0": 8,
          "y1": 8,
          "yref": "y"
         },
         {
          "line": {
           "color": "black",
           "width": 3
          },
          "type": "line",
          "x0": 2,
          "x1": 2,
          "xref": "x",
          "y0": 8,
          "y1": 9,
          "yref": "y"
         },
         {
          "line": {
           "color": "black",
           "width": 3
          },
          "type": "line",
          "x0": 1,
          "x1": 2,
          "xref": "x",
          "y0": 9,
          "y1": 9,
          "yref": "y"
         },
         {
          "line": {
           "color": "black",
           "width": 3
          },
          "type": "line",
          "x0": 3,
          "x1": 3,
          "xref": "x",
          "y0": 8,
          "y1": 9,
          "yref": "y"
         },
         {
          "line": {
           "color": "black",
           "width": 3
          },
          "type": "line",
          "x0": 2,
          "x1": 2,
          "xref": "x",
          "y0": 8,
          "y1": 9,
          "yref": "y"
         },
         {
          "line": {
           "color": "black",
           "width": 3
          },
          "type": "line",
          "x0": 3,
          "x1": 4,
          "xref": "x",
          "y0": 8,
          "y1": 8,
          "yref": "y"
         },
         {
          "line": {
           "color": "black",
           "width": 3
          },
          "type": "line",
          "x0": 3,
          "x1": 3,
          "xref": "x",
          "y0": 8,
          "y1": 9,
          "yref": "y"
         },
         {
          "line": {
           "color": "black",
           "width": 3
          },
          "type": "line",
          "x0": 5,
          "x1": 5,
          "xref": "x",
          "y0": 8,
          "y1": 9,
          "yref": "y"
         },
         {
          "line": {
           "color": "black",
           "width": 3
          },
          "type": "line",
          "x0": 4,
          "x1": 5,
          "xref": "x",
          "y0": 9,
          "y1": 9,
          "yref": "y"
         },
         {
          "line": {
           "color": "black",
           "width": 3
          },
          "type": "line",
          "x0": 5,
          "x1": 6,
          "xref": "x",
          "y0": 8,
          "y1": 8,
          "yref": "y"
         },
         {
          "line": {
           "color": "black",
           "width": 3
          },
          "type": "line",
          "x0": 5,
          "x1": 5,
          "xref": "x",
          "y0": 8,
          "y1": 9,
          "yref": "y"
         },
         {
          "line": {
           "color": "black",
           "width": 3
          },
          "type": "line",
          "x0": 7,
          "x1": 7,
          "xref": "x",
          "y0": 8,
          "y1": 9,
          "yref": "y"
         },
         {
          "line": {
           "color": "black",
           "width": 3
          },
          "type": "line",
          "x0": 6,
          "x1": 7,
          "xref": "x",
          "y0": 9,
          "y1": 9,
          "yref": "y"
         },
         {
          "fillcolor": "red",
          "line": {
           "width": 0
          },
          "opacity": 0.2,
          "type": "rect",
          "x0": 7,
          "x1": 8,
          "xref": "x",
          "y0": 8,
          "y1": 9,
          "yref": "y"
         },
         {
          "line": {
           "color": "black",
           "width": 3
          },
          "type": "line",
          "x0": 7,
          "x1": 8,
          "xref": "x",
          "y0": 9,
          "y1": 9,
          "yref": "y"
         },
         {
          "line": {
           "color": "black",
           "width": 3
          },
          "type": "line",
          "x0": 7,
          "x1": 7,
          "xref": "x",
          "y0": 8,
          "y1": 9,
          "yref": "y"
         },
         {
          "fillcolor": "red",
          "line": {
           "width": 0
          },
          "opacity": 0.2,
          "type": "rect",
          "x0": 8,
          "x1": 9,
          "xref": "x",
          "y0": 8,
          "y1": 9,
          "yref": "y"
         },
         {
          "line": {
           "color": "black",
           "width": 3
          },
          "type": "line",
          "x0": 9,
          "x1": 9,
          "xref": "x",
          "y0": 8,
          "y1": 9,
          "yref": "y"
         },
         {
          "line": {
           "color": "black",
           "width": 3
          },
          "type": "line",
          "x0": 8,
          "x1": 9,
          "xref": "x",
          "y0": 9,
          "y1": 9,
          "yref": "y"
         },
         {
          "line": {
           "color": "black",
           "width": 3
          },
          "type": "line",
          "x0": 10,
          "x1": 10,
          "xref": "x",
          "y0": 8,
          "y1": 9,
          "yref": "y"
         },
         {
          "line": {
           "color": "black",
           "width": 3
          },
          "type": "line",
          "x0": 9,
          "x1": 9,
          "xref": "x",
          "y0": 8,
          "y1": 9,
          "yref": "y"
         },
         {
          "line": {
           "color": "black",
           "width": 3
          },
          "type": "line",
          "x0": 10,
          "x1": 10,
          "xref": "x",
          "y0": 8,
          "y1": 9,
          "yref": "y"
         },
         {
          "line": {
           "color": "black",
           "width": 3
          },
          "type": "line",
          "x0": 11,
          "x1": 12,
          "xref": "x",
          "y0": 8,
          "y1": 8,
          "yref": "y"
         },
         {
          "line": {
           "color": "black",
           "width": 3
          },
          "type": "line",
          "x0": 12,
          "x1": 12,
          "xref": "x",
          "y0": 8,
          "y1": 9,
          "yref": "y"
         },
         {
          "line": {
           "color": "black",
           "width": 3
          },
          "type": "line",
          "x0": 12,
          "x1": 13,
          "xref": "x",
          "y0": 8,
          "y1": 8,
          "yref": "y"
         },
         {
          "line": {
           "color": "black",
           "width": 3
          },
          "type": "line",
          "x0": 13,
          "x1": 13,
          "xref": "x",
          "y0": 8,
          "y1": 9,
          "yref": "y"
         },
         {
          "line": {
           "color": "black",
           "width": 3
          },
          "type": "line",
          "x0": 12,
          "x1": 12,
          "xref": "x",
          "y0": 8,
          "y1": 9,
          "yref": "y"
         },
         {
          "line": {
           "color": "black",
           "width": 3
          },
          "type": "line",
          "x0": 13,
          "x1": 14,
          "xref": "x",
          "y0": 9,
          "y1": 9,
          "yref": "y"
         },
         {
          "line": {
           "color": "black",
           "width": 3
          },
          "type": "line",
          "x0": 13,
          "x1": 13,
          "xref": "x",
          "y0": 8,
          "y1": 9,
          "yref": "y"
         },
         {
          "line": {
           "color": "black",
           "width": 3
          },
          "type": "line",
          "x0": 14,
          "x1": 15,
          "xref": "x",
          "y0": 8,
          "y1": 8,
          "yref": "y"
         },
         {
          "line": {
           "color": "black",
           "width": 3
          },
          "type": "line",
          "x0": 15,
          "x1": 15,
          "xref": "x",
          "y0": 8,
          "y1": 9,
          "yref": "y"
         },
         {
          "line": {
           "color": "black",
           "width": 3
          },
          "type": "line",
          "x0": 16,
          "x1": 16,
          "xref": "x",
          "y0": 8,
          "y1": 9,
          "yref": "y"
         },
         {
          "line": {
           "color": "black",
           "width": 3
          },
          "type": "line",
          "x0": 15,
          "x1": 15,
          "xref": "x",
          "y0": 8,
          "y1": 9,
          "yref": "y"
         },
         {
          "line": {
           "color": "black",
           "width": 3
          },
          "type": "line",
          "x0": 0,
          "x1": 1,
          "xref": "x",
          "y0": 9,
          "y1": 9,
          "yref": "y"
         },
         {
          "line": {
           "color": "black",
           "width": 3
          },
          "type": "line",
          "x0": 0,
          "x1": 0,
          "xref": "x",
          "y0": 9,
          "y1": 10,
          "yref": "y"
         },
         {
          "line": {
           "color": "black",
           "width": 3
          },
          "type": "line",
          "x0": 1,
          "x1": 2,
          "xref": "x",
          "y0": 9,
          "y1": 9,
          "yref": "y"
         },
         {
          "line": {
           "color": "black",
           "width": 3
          },
          "type": "line",
          "x0": 1,
          "x1": 2,
          "xref": "x",
          "y0": 10,
          "y1": 10,
          "yref": "y"
         },
         {
          "line": {
           "color": "black",
           "width": 3
          },
          "type": "line",
          "x0": 3,
          "x1": 3,
          "xref": "x",
          "y0": 9,
          "y1": 10,
          "yref": "y"
         },
         {
          "line": {
           "color": "black",
           "width": 3
          },
          "type": "line",
          "x0": 4,
          "x1": 4,
          "xref": "x",
          "y0": 9,
          "y1": 10,
          "yref": "y"
         },
         {
          "line": {
           "color": "black",
           "width": 3
          },
          "type": "line",
          "x0": 3,
          "x1": 3,
          "xref": "x",
          "y0": 9,
          "y1": 10,
          "yref": "y"
         },
         {
          "line": {
           "color": "black",
           "width": 3
          },
          "type": "line",
          "x0": 4,
          "x1": 5,
          "xref": "x",
          "y0": 9,
          "y1": 9,
          "yref": "y"
         },
         {
          "line": {
           "color": "black",
           "width": 3
          },
          "type": "line",
          "x0": 4,
          "x1": 5,
          "xref": "x",
          "y0": 10,
          "y1": 10,
          "yref": "y"
         },
         {
          "line": {
           "color": "black",
           "width": 3
          },
          "type": "line",
          "x0": 4,
          "x1": 4,
          "xref": "x",
          "y0": 9,
          "y1": 10,
          "yref": "y"
         },
         {
          "line": {
           "color": "black",
           "width": 3
          },
          "type": "line",
          "x0": 6,
          "x1": 6,
          "xref": "x",
          "y0": 9,
          "y1": 10,
          "yref": "y"
         },
         {
          "line": {
           "color": "black",
           "width": 3
          },
          "type": "line",
          "x0": 6,
          "x1": 7,
          "xref": "x",
          "y0": 9,
          "y1": 9,
          "yref": "y"
         },
         {
          "line": {
           "color": "black",
           "width": 3
          },
          "type": "line",
          "x0": 7,
          "x1": 7,
          "xref": "x",
          "y0": 9,
          "y1": 10,
          "yref": "y"
         },
         {
          "line": {
           "color": "black",
           "width": 3
          },
          "type": "line",
          "x0": 6,
          "x1": 6,
          "xref": "x",
          "y0": 9,
          "y1": 10,
          "yref": "y"
         },
         {
          "line": {
           "color": "black",
           "width": 3
          },
          "type": "line",
          "x0": 7,
          "x1": 8,
          "xref": "x",
          "y0": 9,
          "y1": 9,
          "yref": "y"
         },
         {
          "line": {
           "color": "black",
           "width": 3
          },
          "type": "line",
          "x0": 7,
          "x1": 7,
          "xref": "x",
          "y0": 9,
          "y1": 10,
          "yref": "y"
         },
         {
          "line": {
           "color": "black",
           "width": 3
          },
          "type": "line",
          "x0": 8,
          "x1": 9,
          "xref": "x",
          "y0": 9,
          "y1": 9,
          "yref": "y"
         },
         {
          "line": {
           "color": "black",
           "width": 3
          },
          "type": "line",
          "x0": 8,
          "x1": 9,
          "xref": "x",
          "y0": 10,
          "y1": 10,
          "yref": "y"
         },
         {
          "line": {
           "color": "black",
           "width": 3
          },
          "type": "line",
          "x0": 10,
          "x1": 10,
          "xref": "x",
          "y0": 9,
          "y1": 10,
          "yref": "y"
         },
         {
          "line": {
           "color": "black",
           "width": 3
          },
          "type": "line",
          "x0": 9,
          "x1": 10,
          "xref": "x",
          "y0": 10,
          "y1": 10,
          "yref": "y"
         },
         {
          "line": {
           "color": "black",
           "width": 3
          },
          "type": "line",
          "x0": 11,
          "x1": 11,
          "xref": "x",
          "y0": 9,
          "y1": 10,
          "yref": "y"
         },
         {
          "line": {
           "color": "black",
           "width": 3
          },
          "type": "line",
          "x0": 10,
          "x1": 10,
          "xref": "x",
          "y0": 9,
          "y1": 10,
          "yref": "y"
         },
         {
          "line": {
           "color": "black",
           "width": 3
          },
          "type": "line",
          "x0": 12,
          "x1": 12,
          "xref": "x",
          "y0": 9,
          "y1": 10,
          "yref": "y"
         },
         {
          "line": {
           "color": "black",
           "width": 3
          },
          "type": "line",
          "x0": 11,
          "x1": 11,
          "xref": "x",
          "y0": 9,
          "y1": 10,
          "yref": "y"
         },
         {
          "line": {
           "color": "black",
           "width": 3
          },
          "type": "line",
          "x0": 12,
          "x1": 13,
          "xref": "x",
          "y0": 10,
          "y1": 10,
          "yref": "y"
         },
         {
          "line": {
           "color": "black",
           "width": 3
          },
          "type": "line",
          "x0": 12,
          "x1": 12,
          "xref": "x",
          "y0": 9,
          "y1": 10,
          "yref": "y"
         },
         {
          "line": {
           "color": "black",
           "width": 3
          },
          "type": "line",
          "x0": 13,
          "x1": 14,
          "xref": "x",
          "y0": 9,
          "y1": 9,
          "yref": "y"
         },
         {
          "line": {
           "color": "black",
           "width": 3
          },
          "type": "line",
          "x0": 14,
          "x1": 14,
          "xref": "x",
          "y0": 9,
          "y1": 10,
          "yref": "y"
         },
         {
          "line": {
           "color": "black",
           "width": 3
          },
          "type": "line",
          "x0": 14,
          "x1": 15,
          "xref": "x",
          "y0": 10,
          "y1": 10,
          "yref": "y"
         },
         {
          "line": {
           "color": "black",
           "width": 3
          },
          "type": "line",
          "x0": 14,
          "x1": 14,
          "xref": "x",
          "y0": 9,
          "y1": 10,
          "yref": "y"
         },
         {
          "line": {
           "color": "black",
           "width": 3
          },
          "type": "line",
          "x0": 16,
          "x1": 16,
          "xref": "x",
          "y0": 9,
          "y1": 10,
          "yref": "y"
         },
         {
          "line": {
           "color": "black",
           "width": 3
          },
          "type": "line",
          "x0": 15,
          "x1": 16,
          "xref": "x",
          "y0": 10,
          "y1": 10,
          "yref": "y"
         },
         {
          "line": {
           "color": "black",
           "width": 3
          },
          "type": "line",
          "x0": 1,
          "x1": 1,
          "xref": "x",
          "y0": 10,
          "y1": 11,
          "yref": "y"
         },
         {
          "line": {
           "color": "black",
           "width": 3
          },
          "type": "line",
          "x0": 0,
          "x1": 0,
          "xref": "x",
          "y0": 10,
          "y1": 11,
          "yref": "y"
         },
         {
          "line": {
           "color": "black",
           "width": 3
          },
          "type": "line",
          "x0": 1,
          "x1": 2,
          "xref": "x",
          "y0": 10,
          "y1": 10,
          "yref": "y"
         },
         {
          "line": {
           "color": "black",
           "width": 3
          },
          "type": "line",
          "x0": 1,
          "x1": 1,
          "xref": "x",
          "y0": 10,
          "y1": 11,
          "yref": "y"
         },
         {
          "line": {
           "color": "black",
           "width": 3
          },
          "type": "line",
          "x0": 3,
          "x1": 3,
          "xref": "x",
          "y0": 10,
          "y1": 11,
          "yref": "y"
         },
         {
          "line": {
           "color": "black",
           "width": 3
          },
          "type": "line",
          "x0": 2,
          "x1": 3,
          "xref": "x",
          "y0": 11,
          "y1": 11,
          "yref": "y"
         },
         {
          "line": {
           "color": "black",
           "width": 3
          },
          "type": "line",
          "x0": 3,
          "x1": 4,
          "xref": "x",
          "y0": 11,
          "y1": 11,
          "yref": "y"
         },
         {
          "line": {
           "color": "black",
           "width": 3
          },
          "type": "line",
          "x0": 3,
          "x1": 3,
          "xref": "x",
          "y0": 10,
          "y1": 11,
          "yref": "y"
         },
         {
          "line": {
           "color": "black",
           "width": 3
          },
          "type": "line",
          "x0": 4,
          "x1": 5,
          "xref": "x",
          "y0": 10,
          "y1": 10,
          "yref": "y"
         },
         {
          "line": {
           "color": "black",
           "width": 3
          },
          "type": "line",
          "x0": 4,
          "x1": 5,
          "xref": "x",
          "y0": 11,
          "y1": 11,
          "yref": "y"
         },
         {
          "line": {
           "color": "black",
           "width": 3
          },
          "type": "line",
          "x0": 6,
          "x1": 6,
          "xref": "x",
          "y0": 10,
          "y1": 11,
          "yref": "y"
         },
         {
          "line": {
           "color": "black",
           "width": 3
          },
          "type": "line",
          "x0": 5,
          "x1": 6,
          "xref": "x",
          "y0": 11,
          "y1": 11,
          "yref": "y"
         },
         {
          "line": {
           "color": "black",
           "width": 3
          },
          "type": "line",
          "x0": 6,
          "x1": 6,
          "xref": "x",
          "y0": 10,
          "y1": 11,
          "yref": "y"
         },
         {
          "line": {
           "color": "black",
           "width": 3
          },
          "type": "line",
          "x0": 8,
          "x1": 8,
          "xref": "x",
          "y0": 10,
          "y1": 11,
          "yref": "y"
         },
         {
          "line": {
           "color": "black",
           "width": 3
          },
          "type": "line",
          "x0": 7,
          "x1": 8,
          "xref": "x",
          "y0": 11,
          "y1": 11,
          "yref": "y"
         },
         {
          "line": {
           "color": "black",
           "width": 3
          },
          "type": "line",
          "x0": 8,
          "x1": 9,
          "xref": "x",
          "y0": 10,
          "y1": 10,
          "yref": "y"
         },
         {
          "line": {
           "color": "black",
           "width": 3
          },
          "type": "line",
          "x0": 8,
          "x1": 9,
          "xref": "x",
          "y0": 11,
          "y1": 11,
          "yref": "y"
         },
         {
          "line": {
           "color": "black",
           "width": 3
          },
          "type": "line",
          "x0": 8,
          "x1": 8,
          "xref": "x",
          "y0": 10,
          "y1": 11,
          "yref": "y"
         },
         {
          "line": {
           "color": "black",
           "width": 3
          },
          "type": "line",
          "x0": 9,
          "x1": 10,
          "xref": "x",
          "y0": 10,
          "y1": 10,
          "yref": "y"
         },
         {
          "line": {
           "color": "black",
           "width": 3
          },
          "type": "line",
          "x0": 9,
          "x1": 10,
          "xref": "x",
          "y0": 11,
          "y1": 11,
          "yref": "y"
         },
         {
          "line": {
           "color": "black",
           "width": 3
          },
          "type": "line",
          "x0": 11,
          "x1": 11,
          "xref": "x",
          "y0": 10,
          "y1": 11,
          "yref": "y"
         },
         {
          "line": {
           "color": "black",
           "width": 3
          },
          "type": "line",
          "x0": 12,
          "x1": 12,
          "xref": "x",
          "y0": 10,
          "y1": 11,
          "yref": "y"
         },
         {
          "line": {
           "color": "black",
           "width": 3
          },
          "type": "line",
          "x0": 11,
          "x1": 11,
          "xref": "x",
          "y0": 10,
          "y1": 11,
          "yref": "y"
         },
         {
          "line": {
           "color": "black",
           "width": 3
          },
          "type": "line",
          "x0": 12,
          "x1": 13,
          "xref": "x",
          "y0": 10,
          "y1": 10,
          "yref": "y"
         },
         {
          "line": {
           "color": "black",
           "width": 3
          },
          "type": "line",
          "x0": 12,
          "x1": 12,
          "xref": "x",
          "y0": 10,
          "y1": 11,
          "yref": "y"
         },
         {
          "line": {
           "color": "black",
           "width": 3
          },
          "type": "line",
          "x0": 13,
          "x1": 14,
          "xref": "x",
          "y0": 11,
          "y1": 11,
          "yref": "y"
         },
         {
          "line": {
           "color": "black",
           "width": 3
          },
          "type": "line",
          "x0": 14,
          "x1": 15,
          "xref": "x",
          "y0": 10,
          "y1": 10,
          "yref": "y"
         },
         {
          "line": {
           "color": "black",
           "width": 3
          },
          "type": "line",
          "x0": 14,
          "x1": 15,
          "xref": "x",
          "y0": 11,
          "y1": 11,
          "yref": "y"
         },
         {
          "line": {
           "color": "black",
           "width": 3
          },
          "type": "line",
          "x0": 15,
          "x1": 16,
          "xref": "x",
          "y0": 10,
          "y1": 10,
          "yref": "y"
         },
         {
          "line": {
           "color": "black",
           "width": 3
          },
          "type": "line",
          "x0": 16,
          "x1": 16,
          "xref": "x",
          "y0": 10,
          "y1": 11,
          "yref": "y"
         },
         {
          "line": {
           "color": "black",
           "width": 3
          },
          "type": "line",
          "x0": 1,
          "x1": 1,
          "xref": "x",
          "y0": 11,
          "y1": 12,
          "yref": "y"
         },
         {
          "line": {
           "color": "black",
           "width": 3
          },
          "type": "line",
          "x0": 0,
          "x1": 0,
          "xref": "x",
          "y0": 11,
          "y1": 12,
          "yref": "y"
         },
         {
          "line": {
           "color": "black",
           "width": 3
          },
          "type": "line",
          "x0": 2,
          "x1": 2,
          "xref": "x",
          "y0": 11,
          "y1": 12,
          "yref": "y"
         },
         {
          "line": {
           "color": "black",
           "width": 3
          },
          "type": "line",
          "x0": 1,
          "x1": 1,
          "xref": "x",
          "y0": 11,
          "y1": 12,
          "yref": "y"
         },
         {
          "line": {
           "color": "black",
           "width": 3
          },
          "type": "line",
          "x0": 2,
          "x1": 3,
          "xref": "x",
          "y0": 11,
          "y1": 11,
          "yref": "y"
         },
         {
          "line": {
           "color": "black",
           "width": 3
          },
          "type": "line",
          "x0": 2,
          "x1": 3,
          "xref": "x",
          "y0": 12,
          "y1": 12,
          "yref": "y"
         },
         {
          "line": {
           "color": "black",
           "width": 3
          },
          "type": "line",
          "x0": 2,
          "x1": 2,
          "xref": "x",
          "y0": 11,
          "y1": 12,
          "yref": "y"
         },
         {
          "line": {
           "color": "black",
           "width": 3
          },
          "type": "line",
          "x0": 3,
          "x1": 4,
          "xref": "x",
          "y0": 11,
          "y1": 11,
          "yref": "y"
         },
         {
          "line": {
           "color": "black",
           "width": 3
          },
          "type": "line",
          "x0": 4,
          "x1": 4,
          "xref": "x",
          "y0": 11,
          "y1": 12,
          "yref": "y"
         },
         {
          "line": {
           "color": "black",
           "width": 3
          },
          "type": "line",
          "x0": 4,
          "x1": 5,
          "xref": "x",
          "y0": 11,
          "y1": 11,
          "yref": "y"
         },
         {
          "line": {
           "color": "black",
           "width": 3
          },
          "type": "line",
          "x0": 4,
          "x1": 4,
          "xref": "x",
          "y0": 11,
          "y1": 12,
          "yref": "y"
         },
         {
          "line": {
           "color": "black",
           "width": 3
          },
          "type": "line",
          "x0": 5,
          "x1": 6,
          "xref": "x",
          "y0": 11,
          "y1": 11,
          "yref": "y"
         },
         {
          "line": {
           "color": "black",
           "width": 3
          },
          "type": "line",
          "x0": 6,
          "x1": 6,
          "xref": "x",
          "y0": 11,
          "y1": 12,
          "yref": "y"
         },
         {
          "line": {
           "color": "black",
           "width": 3
          },
          "type": "line",
          "x0": 6,
          "x1": 7,
          "xref": "x",
          "y0": 12,
          "y1": 12,
          "yref": "y"
         },
         {
          "line": {
           "color": "black",
           "width": 3
          },
          "type": "line",
          "x0": 6,
          "x1": 6,
          "xref": "x",
          "y0": 11,
          "y1": 12,
          "yref": "y"
         },
         {
          "line": {
           "color": "black",
           "width": 3
          },
          "type": "line",
          "x0": 7,
          "x1": 8,
          "xref": "x",
          "y0": 11,
          "y1": 11,
          "yref": "y"
         },
         {
          "line": {
           "color": "black",
           "width": 3
          },
          "type": "line",
          "x0": 7,
          "x1": 8,
          "xref": "x",
          "y0": 12,
          "y1": 12,
          "yref": "y"
         },
         {
          "line": {
           "color": "black",
           "width": 3
          },
          "type": "line",
          "x0": 8,
          "x1": 9,
          "xref": "x",
          "y0": 11,
          "y1": 11,
          "yref": "y"
         },
         {
          "line": {
           "color": "black",
           "width": 3
          },
          "type": "line",
          "x0": 8,
          "x1": 9,
          "xref": "x",
          "y0": 12,
          "y1": 12,
          "yref": "y"
         },
         {
          "line": {
           "color": "black",
           "width": 3
          },
          "type": "line",
          "x0": 9,
          "x1": 10,
          "xref": "x",
          "y0": 11,
          "y1": 11,
          "yref": "y"
         },
         {
          "line": {
           "color": "black",
           "width": 3
          },
          "type": "line",
          "x0": 9,
          "x1": 10,
          "xref": "x",
          "y0": 12,
          "y1": 12,
          "yref": "y"
         },
         {
          "line": {
           "color": "black",
           "width": 3
          },
          "type": "line",
          "x0": 11,
          "x1": 11,
          "xref": "x",
          "y0": 11,
          "y1": 12,
          "yref": "y"
         },
         {
          "line": {
           "color": "black",
           "width": 3
          },
          "type": "line",
          "x0": 10,
          "x1": 11,
          "xref": "x",
          "y0": 12,
          "y1": 12,
          "yref": "y"
         },
         {
          "line": {
           "color": "black",
           "width": 3
          },
          "type": "line",
          "x0": 12,
          "x1": 12,
          "xref": "x",
          "y0": 11,
          "y1": 12,
          "yref": "y"
         },
         {
          "line": {
           "color": "black",
           "width": 3
          },
          "type": "line",
          "x0": 11,
          "x1": 11,
          "xref": "x",
          "y0": 11,
          "y1": 12,
          "yref": "y"
         },
         {
          "line": {
           "color": "black",
           "width": 3
          },
          "type": "line",
          "x0": 13,
          "x1": 13,
          "xref": "x",
          "y0": 11,
          "y1": 12,
          "yref": "y"
         },
         {
          "line": {
           "color": "black",
           "width": 3
          },
          "type": "line",
          "x0": 12,
          "x1": 12,
          "xref": "x",
          "y0": 11,
          "y1": 12,
          "yref": "y"
         },
         {
          "line": {
           "color": "black",
           "width": 3
          },
          "type": "line",
          "x0": 13,
          "x1": 14,
          "xref": "x",
          "y0": 11,
          "y1": 11,
          "yref": "y"
         },
         {
          "line": {
           "color": "black",
           "width": 3
          },
          "type": "line",
          "x0": 13,
          "x1": 13,
          "xref": "x",
          "y0": 11,
          "y1": 12,
          "yref": "y"
         },
         {
          "line": {
           "color": "black",
           "width": 3
          },
          "type": "line",
          "x0": 14,
          "x1": 15,
          "xref": "x",
          "y0": 11,
          "y1": 11,
          "yref": "y"
         },
         {
          "line": {
           "color": "black",
           "width": 3
          },
          "type": "line",
          "x0": 14,
          "x1": 15,
          "xref": "x",
          "y0": 12,
          "y1": 12,
          "yref": "y"
         },
         {
          "line": {
           "color": "black",
           "width": 3
          },
          "type": "line",
          "x0": 16,
          "x1": 16,
          "xref": "x",
          "y0": 11,
          "y1": 12,
          "yref": "y"
         },
         {
          "line": {
           "color": "black",
           "width": 3
          },
          "type": "line",
          "x0": 15,
          "x1": 16,
          "xref": "x",
          "y0": 12,
          "y1": 12,
          "yref": "y"
         },
         {
          "line": {
           "color": "black",
           "width": 3
          },
          "type": "line",
          "x0": 1,
          "x1": 1,
          "xref": "x",
          "y0": 12,
          "y1": 13,
          "yref": "y"
         },
         {
          "line": {
           "color": "black",
           "width": 3
          },
          "type": "line",
          "x0": 0,
          "x1": 0,
          "xref": "x",
          "y0": 12,
          "y1": 13,
          "yref": "y"
         },
         {
          "line": {
           "color": "black",
           "width": 3
          },
          "type": "line",
          "x0": 1,
          "x1": 2,
          "xref": "x",
          "y0": 13,
          "y1": 13,
          "yref": "y"
         },
         {
          "line": {
           "color": "black",
           "width": 3
          },
          "type": "line",
          "x0": 1,
          "x1": 1,
          "xref": "x",
          "y0": 12,
          "y1": 13,
          "yref": "y"
         },
         {
          "line": {
           "color": "black",
           "width": 3
          },
          "type": "line",
          "x0": 2,
          "x1": 3,
          "xref": "x",
          "y0": 12,
          "y1": 12,
          "yref": "y"
         },
         {
          "line": {
           "color": "black",
           "width": 3
          },
          "type": "line",
          "x0": 2,
          "x1": 3,
          "xref": "x",
          "y0": 13,
          "y1": 13,
          "yref": "y"
         },
         {
          "line": {
           "color": "black",
           "width": 3
          },
          "type": "line",
          "x0": 4,
          "x1": 4,
          "xref": "x",
          "y0": 12,
          "y1": 13,
          "yref": "y"
         },
         {
          "line": {
           "color": "black",
           "width": 3
          },
          "type": "line",
          "x0": 5,
          "x1": 5,
          "xref": "x",
          "y0": 12,
          "y1": 13,
          "yref": "y"
         },
         {
          "line": {
           "color": "black",
           "width": 3
          },
          "type": "line",
          "x0": 4,
          "x1": 4,
          "xref": "x",
          "y0": 12,
          "y1": 13,
          "yref": "y"
         },
         {
          "line": {
           "color": "black",
           "width": 3
          },
          "type": "line",
          "x0": 5,
          "x1": 6,
          "xref": "x",
          "y0": 13,
          "y1": 13,
          "yref": "y"
         },
         {
          "line": {
           "color": "black",
           "width": 3
          },
          "type": "line",
          "x0": 5,
          "x1": 5,
          "xref": "x",
          "y0": 12,
          "y1": 13,
          "yref": "y"
         },
         {
          "line": {
           "color": "black",
           "width": 3
          },
          "type": "line",
          "x0": 6,
          "x1": 7,
          "xref": "x",
          "y0": 12,
          "y1": 12,
          "yref": "y"
         },
         {
          "line": {
           "color": "black",
           "width": 3
          },
          "type": "line",
          "x0": 7,
          "x1": 8,
          "xref": "x",
          "y0": 12,
          "y1": 12,
          "yref": "y"
         },
         {
          "line": {
           "color": "black",
           "width": 3
          },
          "type": "line",
          "x0": 8,
          "x1": 8,
          "xref": "x",
          "y0": 12,
          "y1": 13,
          "yref": "y"
         },
         {
          "line": {
           "color": "black",
           "width": 3
          },
          "type": "line",
          "x0": 7,
          "x1": 8,
          "xref": "x",
          "y0": 13,
          "y1": 13,
          "yref": "y"
         },
         {
          "line": {
           "color": "black",
           "width": 3
          },
          "type": "line",
          "x0": 8,
          "x1": 9,
          "xref": "x",
          "y0": 12,
          "y1": 12,
          "yref": "y"
         },
         {
          "line": {
           "color": "black",
           "width": 3
          },
          "type": "line",
          "x0": 8,
          "x1": 8,
          "xref": "x",
          "y0": 12,
          "y1": 13,
          "yref": "y"
         },
         {
          "line": {
           "color": "black",
           "width": 3
          },
          "type": "line",
          "x0": 9,
          "x1": 10,
          "xref": "x",
          "y0": 12,
          "y1": 12,
          "yref": "y"
         },
         {
          "line": {
           "color": "black",
           "width": 3
          },
          "type": "line",
          "x0": 9,
          "x1": 10,
          "xref": "x",
          "y0": 13,
          "y1": 13,
          "yref": "y"
         },
         {
          "line": {
           "color": "black",
           "width": 3
          },
          "type": "line",
          "x0": 10,
          "x1": 11,
          "xref": "x",
          "y0": 12,
          "y1": 12,
          "yref": "y"
         },
         {
          "line": {
           "color": "black",
           "width": 3
          },
          "type": "line",
          "x0": 11,
          "x1": 11,
          "xref": "x",
          "y0": 12,
          "y1": 13,
          "yref": "y"
         },
         {
          "line": {
           "color": "black",
           "width": 3
          },
          "type": "line",
          "x0": 11,
          "x1": 12,
          "xref": "x",
          "y0": 13,
          "y1": 13,
          "yref": "y"
         },
         {
          "line": {
           "color": "black",
           "width": 3
          },
          "type": "line",
          "x0": 11,
          "x1": 11,
          "xref": "x",
          "y0": 12,
          "y1": 13,
          "yref": "y"
         },
         {
          "line": {
           "color": "black",
           "width": 3
          },
          "type": "line",
          "x0": 13,
          "x1": 13,
          "xref": "x",
          "y0": 12,
          "y1": 13,
          "yref": "y"
         },
         {
          "line": {
           "color": "black",
           "width": 3
          },
          "type": "line",
          "x0": 12,
          "x1": 13,
          "xref": "x",
          "y0": 13,
          "y1": 13,
          "yref": "y"
         },
         {
          "line": {
           "color": "black",
           "width": 3
          },
          "type": "line",
          "x0": 14,
          "x1": 14,
          "xref": "x",
          "y0": 12,
          "y1": 13,
          "yref": "y"
         },
         {
          "line": {
           "color": "black",
           "width": 3
          },
          "type": "line",
          "x0": 13,
          "x1": 13,
          "xref": "x",
          "y0": 12,
          "y1": 13,
          "yref": "y"
         },
         {
          "line": {
           "color": "black",
           "width": 3
          },
          "type": "line",
          "x0": 14,
          "x1": 15,
          "xref": "x",
          "y0": 12,
          "y1": 12,
          "yref": "y"
         },
         {
          "line": {
           "color": "black",
           "width": 3
          },
          "type": "line",
          "x0": 14,
          "x1": 14,
          "xref": "x",
          "y0": 12,
          "y1": 13,
          "yref": "y"
         },
         {
          "line": {
           "color": "black",
           "width": 3
          },
          "type": "line",
          "x0": 15,
          "x1": 16,
          "xref": "x",
          "y0": 12,
          "y1": 12,
          "yref": "y"
         },
         {
          "line": {
           "color": "black",
           "width": 3
          },
          "type": "line",
          "x0": 16,
          "x1": 16,
          "xref": "x",
          "y0": 12,
          "y1": 13,
          "yref": "y"
         },
         {
          "line": {
           "color": "black",
           "width": 3
          },
          "type": "line",
          "x0": 1,
          "x1": 1,
          "xref": "x",
          "y0": 13,
          "y1": 14,
          "yref": "y"
         },
         {
          "line": {
           "color": "black",
           "width": 3
          },
          "type": "line",
          "x0": 0,
          "x1": 0,
          "xref": "x",
          "y0": 13,
          "y1": 14,
          "yref": "y"
         },
         {
          "line": {
           "color": "black",
           "width": 3
          },
          "type": "line",
          "x0": 1,
          "x1": 2,
          "xref": "x",
          "y0": 13,
          "y1": 13,
          "yref": "y"
         },
         {
          "line": {
           "color": "black",
           "width": 3
          },
          "type": "line",
          "x0": 1,
          "x1": 2,
          "xref": "x",
          "y0": 14,
          "y1": 14,
          "yref": "y"
         },
         {
          "line": {
           "color": "black",
           "width": 3
          },
          "type": "line",
          "x0": 1,
          "x1": 1,
          "xref": "x",
          "y0": 13,
          "y1": 14,
          "yref": "y"
         },
         {
          "line": {
           "color": "black",
           "width": 3
          },
          "type": "line",
          "x0": 2,
          "x1": 3,
          "xref": "x",
          "y0": 13,
          "y1": 13,
          "yref": "y"
         },
         {
          "line": {
           "color": "black",
           "width": 3
          },
          "type": "line",
          "x0": 2,
          "x1": 3,
          "xref": "x",
          "y0": 14,
          "y1": 14,
          "yref": "y"
         },
         {
          "line": {
           "color": "black",
           "width": 3
          },
          "type": "line",
          "x0": 4,
          "x1": 4,
          "xref": "x",
          "y0": 13,
          "y1": 14,
          "yref": "y"
         },
         {
          "line": {
           "color": "black",
           "width": 3
          },
          "type": "line",
          "x0": 3,
          "x1": 4,
          "xref": "x",
          "y0": 14,
          "y1": 14,
          "yref": "y"
         },
         {
          "line": {
           "color": "black",
           "width": 3
          },
          "type": "line",
          "x0": 4,
          "x1": 5,
          "xref": "x",
          "y0": 14,
          "y1": 14,
          "yref": "y"
         },
         {
          "line": {
           "color": "black",
           "width": 3
          },
          "type": "line",
          "x0": 4,
          "x1": 4,
          "xref": "x",
          "y0": 13,
          "y1": 14,
          "yref": "y"
         },
         {
          "line": {
           "color": "black",
           "width": 3
          },
          "type": "line",
          "x0": 5,
          "x1": 6,
          "xref": "x",
          "y0": 13,
          "y1": 13,
          "yref": "y"
         },
         {
          "line": {
           "color": "black",
           "width": 3
          },
          "type": "line",
          "x0": 6,
          "x1": 6,
          "xref": "x",
          "y0": 13,
          "y1": 14,
          "yref": "y"
         },
         {
          "line": {
           "color": "black",
           "width": 3
          },
          "type": "line",
          "x0": 6,
          "x1": 7,
          "xref": "x",
          "y0": 14,
          "y1": 14,
          "yref": "y"
         },
         {
          "line": {
           "color": "black",
           "width": 3
          },
          "type": "line",
          "x0": 6,
          "x1": 6,
          "xref": "x",
          "y0": 13,
          "y1": 14,
          "yref": "y"
         },
         {
          "line": {
           "color": "black",
           "width": 3
          },
          "type": "line",
          "x0": 7,
          "x1": 8,
          "xref": "x",
          "y0": 13,
          "y1": 13,
          "yref": "y"
         },
         {
          "line": {
           "color": "black",
           "width": 3
          },
          "type": "line",
          "x0": 8,
          "x1": 8,
          "xref": "x",
          "y0": 13,
          "y1": 14,
          "yref": "y"
         },
         {
          "line": {
           "color": "black",
           "width": 3
          },
          "type": "line",
          "x0": 9,
          "x1": 9,
          "xref": "x",
          "y0": 13,
          "y1": 14,
          "yref": "y"
         },
         {
          "line": {
           "color": "black",
           "width": 3
          },
          "type": "line",
          "x0": 8,
          "x1": 8,
          "xref": "x",
          "y0": 13,
          "y1": 14,
          "yref": "y"
         },
         {
          "line": {
           "color": "black",
           "width": 3
          },
          "type": "line",
          "x0": 9,
          "x1": 10,
          "xref": "x",
          "y0": 13,
          "y1": 13,
          "yref": "y"
         },
         {
          "line": {
           "color": "black",
           "width": 3
          },
          "type": "line",
          "x0": 10,
          "x1": 10,
          "xref": "x",
          "y0": 13,
          "y1": 14,
          "yref": "y"
         },
         {
          "line": {
           "color": "black",
           "width": 3
          },
          "type": "line",
          "x0": 9,
          "x1": 9,
          "xref": "x",
          "y0": 13,
          "y1": 14,
          "yref": "y"
         },
         {
          "line": {
           "color": "black",
           "width": 3
          },
          "type": "line",
          "x0": 10,
          "x1": 10,
          "xref": "x",
          "y0": 13,
          "y1": 14,
          "yref": "y"
         },
         {
          "line": {
           "color": "black",
           "width": 3
          },
          "type": "line",
          "x0": 11,
          "x1": 12,
          "xref": "x",
          "y0": 13,
          "y1": 13,
          "yref": "y"
         },
         {
          "line": {
           "color": "black",
           "width": 3
          },
          "type": "line",
          "x0": 11,
          "x1": 12,
          "xref": "x",
          "y0": 14,
          "y1": 14,
          "yref": "y"
         },
         {
          "line": {
           "color": "black",
           "width": 3
          },
          "type": "line",
          "x0": 12,
          "x1": 13,
          "xref": "x",
          "y0": 13,
          "y1": 13,
          "yref": "y"
         },
         {
          "line": {
           "color": "black",
           "width": 3
          },
          "type": "line",
          "x0": 13,
          "x1": 13,
          "xref": "x",
          "y0": 13,
          "y1": 14,
          "yref": "y"
         },
         {
          "line": {
           "color": "black",
           "width": 3
          },
          "type": "line",
          "x0": 12,
          "x1": 13,
          "xref": "x",
          "y0": 14,
          "y1": 14,
          "yref": "y"
         },
         {
          "line": {
           "color": "black",
           "width": 3
          },
          "type": "line",
          "x0": 13,
          "x1": 14,
          "xref": "x",
          "y0": 14,
          "y1": 14,
          "yref": "y"
         },
         {
          "line": {
           "color": "black",
           "width": 3
          },
          "type": "line",
          "x0": 13,
          "x1": 13,
          "xref": "x",
          "y0": 13,
          "y1": 14,
          "yref": "y"
         },
         {
          "line": {
           "color": "black",
           "width": 3
          },
          "type": "line",
          "x0": 15,
          "x1": 15,
          "xref": "x",
          "y0": 13,
          "y1": 14,
          "yref": "y"
         },
         {
          "line": {
           "color": "black",
           "width": 3
          },
          "type": "line",
          "x0": 14,
          "x1": 15,
          "xref": "x",
          "y0": 14,
          "y1": 14,
          "yref": "y"
         },
         {
          "line": {
           "color": "black",
           "width": 3
          },
          "type": "line",
          "x0": 16,
          "x1": 16,
          "xref": "x",
          "y0": 13,
          "y1": 14,
          "yref": "y"
         },
         {
          "line": {
           "color": "black",
           "width": 3
          },
          "type": "line",
          "x0": 15,
          "x1": 15,
          "xref": "x",
          "y0": 13,
          "y1": 14,
          "yref": "y"
         },
         {
          "line": {
           "color": "black",
           "width": 3
          },
          "type": "line",
          "x0": 1,
          "x1": 1,
          "xref": "x",
          "y0": 14,
          "y1": 15,
          "yref": "y"
         },
         {
          "line": {
           "color": "black",
           "width": 3
          },
          "type": "line",
          "x0": 0,
          "x1": 0,
          "xref": "x",
          "y0": 14,
          "y1": 15,
          "yref": "y"
         },
         {
          "line": {
           "color": "black",
           "width": 3
          },
          "type": "line",
          "x0": 1,
          "x1": 2,
          "xref": "x",
          "y0": 14,
          "y1": 14,
          "yref": "y"
         },
         {
          "line": {
           "color": "black",
           "width": 3
          },
          "type": "line",
          "x0": 1,
          "x1": 1,
          "xref": "x",
          "y0": 14,
          "y1": 15,
          "yref": "y"
         },
         {
          "line": {
           "color": "black",
           "width": 3
          },
          "type": "line",
          "x0": 2,
          "x1": 3,
          "xref": "x",
          "y0": 14,
          "y1": 14,
          "yref": "y"
         },
         {
          "line": {
           "color": "black",
           "width": 3
          },
          "type": "line",
          "x0": 3,
          "x1": 3,
          "xref": "x",
          "y0": 14,
          "y1": 15,
          "yref": "y"
         },
         {
          "line": {
           "color": "black",
           "width": 3
          },
          "type": "line",
          "x0": 3,
          "x1": 4,
          "xref": "x",
          "y0": 14,
          "y1": 14,
          "yref": "y"
         },
         {
          "line": {
           "color": "black",
           "width": 3
          },
          "type": "line",
          "x0": 3,
          "x1": 3,
          "xref": "x",
          "y0": 14,
          "y1": 15,
          "yref": "y"
         },
         {
          "line": {
           "color": "black",
           "width": 3
          },
          "type": "line",
          "x0": 4,
          "x1": 5,
          "xref": "x",
          "y0": 14,
          "y1": 14,
          "yref": "y"
         },
         {
          "line": {
           "color": "black",
           "width": 3
          },
          "type": "line",
          "x0": 5,
          "x1": 5,
          "xref": "x",
          "y0": 14,
          "y1": 15,
          "yref": "y"
         },
         {
          "line": {
           "color": "black",
           "width": 3
          },
          "type": "line",
          "x0": 6,
          "x1": 6,
          "xref": "x",
          "y0": 14,
          "y1": 15,
          "yref": "y"
         },
         {
          "line": {
           "color": "black",
           "width": 3
          },
          "type": "line",
          "x0": 5,
          "x1": 5,
          "xref": "x",
          "y0": 14,
          "y1": 15,
          "yref": "y"
         },
         {
          "line": {
           "color": "black",
           "width": 3
          },
          "type": "line",
          "x0": 6,
          "x1": 7,
          "xref": "x",
          "y0": 14,
          "y1": 14,
          "yref": "y"
         },
         {
          "line": {
           "color": "black",
           "width": 3
          },
          "type": "line",
          "x0": 7,
          "x1": 7,
          "xref": "x",
          "y0": 14,
          "y1": 15,
          "yref": "y"
         },
         {
          "line": {
           "color": "black",
           "width": 3
          },
          "type": "line",
          "x0": 6,
          "x1": 6,
          "xref": "x",
          "y0": 14,
          "y1": 15,
          "yref": "y"
         },
         {
          "line": {
           "color": "black",
           "width": 3
          },
          "type": "line",
          "x0": 8,
          "x1": 8,
          "xref": "x",
          "y0": 14,
          "y1": 15,
          "yref": "y"
         },
         {
          "line": {
           "color": "black",
           "width": 3
          },
          "type": "line",
          "x0": 7,
          "x1": 7,
          "xref": "x",
          "y0": 14,
          "y1": 15,
          "yref": "y"
         },
         {
          "line": {
           "color": "black",
           "width": 3
          },
          "type": "line",
          "x0": 9,
          "x1": 9,
          "xref": "x",
          "y0": 14,
          "y1": 15,
          "yref": "y"
         },
         {
          "line": {
           "color": "black",
           "width": 3
          },
          "type": "line",
          "x0": 8,
          "x1": 8,
          "xref": "x",
          "y0": 14,
          "y1": 15,
          "yref": "y"
         },
         {
          "line": {
           "color": "black",
           "width": 3
          },
          "type": "line",
          "x0": 10,
          "x1": 10,
          "xref": "x",
          "y0": 14,
          "y1": 15,
          "yref": "y"
         },
         {
          "line": {
           "color": "black",
           "width": 3
          },
          "type": "line",
          "x0": 9,
          "x1": 9,
          "xref": "x",
          "y0": 14,
          "y1": 15,
          "yref": "y"
         },
         {
          "line": {
           "color": "black",
           "width": 3
          },
          "type": "line",
          "x0": 11,
          "x1": 11,
          "xref": "x",
          "y0": 14,
          "y1": 15,
          "yref": "y"
         },
         {
          "line": {
           "color": "black",
           "width": 3
          },
          "type": "line",
          "x0": 10,
          "x1": 10,
          "xref": "x",
          "y0": 14,
          "y1": 15,
          "yref": "y"
         },
         {
          "line": {
           "color": "black",
           "width": 3
          },
          "type": "line",
          "x0": 11,
          "x1": 12,
          "xref": "x",
          "y0": 14,
          "y1": 14,
          "yref": "y"
         },
         {
          "line": {
           "color": "black",
           "width": 3
          },
          "type": "line",
          "x0": 11,
          "x1": 11,
          "xref": "x",
          "y0": 14,
          "y1": 15,
          "yref": "y"
         },
         {
          "line": {
           "color": "black",
           "width": 3
          },
          "type": "line",
          "x0": 12,
          "x1": 13,
          "xref": "x",
          "y0": 14,
          "y1": 14,
          "yref": "y"
         },
         {
          "line": {
           "color": "black",
           "width": 3
          },
          "type": "line",
          "x0": 13,
          "x1": 13,
          "xref": "x",
          "y0": 14,
          "y1": 15,
          "yref": "y"
         },
         {
          "line": {
           "color": "black",
           "width": 3
          },
          "type": "line",
          "x0": 13,
          "x1": 14,
          "xref": "x",
          "y0": 14,
          "y1": 14,
          "yref": "y"
         },
         {
          "line": {
           "color": "black",
           "width": 3
          },
          "type": "line",
          "x0": 13,
          "x1": 13,
          "xref": "x",
          "y0": 14,
          "y1": 15,
          "yref": "y"
         },
         {
          "line": {
           "color": "black",
           "width": 3
          },
          "type": "line",
          "x0": 14,
          "x1": 15,
          "xref": "x",
          "y0": 14,
          "y1": 14,
          "yref": "y"
         },
         {
          "line": {
           "color": "black",
           "width": 3
          },
          "type": "line",
          "x0": 15,
          "x1": 15,
          "xref": "x",
          "y0": 14,
          "y1": 15,
          "yref": "y"
         },
         {
          "line": {
           "color": "black",
           "width": 3
          },
          "type": "line",
          "x0": 16,
          "x1": 16,
          "xref": "x",
          "y0": 14,
          "y1": 15,
          "yref": "y"
         },
         {
          "line": {
           "color": "black",
           "width": 3
          },
          "type": "line",
          "x0": 15,
          "x1": 15,
          "xref": "x",
          "y0": 14,
          "y1": 15,
          "yref": "y"
         },
         {
          "line": {
           "color": "black",
           "width": 3
          },
          "type": "line",
          "x0": 0,
          "x1": 1,
          "xref": "x",
          "y0": 16,
          "y1": 16,
          "yref": "y"
         },
         {
          "line": {
           "color": "black",
           "width": 3
          },
          "type": "line",
          "x0": 0,
          "x1": 0,
          "xref": "x",
          "y0": 15,
          "y1": 16,
          "yref": "y"
         },
         {
          "line": {
           "color": "black",
           "width": 3
          },
          "type": "line",
          "x0": 2,
          "x1": 2,
          "xref": "x",
          "y0": 15,
          "y1": 16,
          "yref": "y"
         },
         {
          "line": {
           "color": "black",
           "width": 3
          },
          "type": "line",
          "x0": 1,
          "x1": 2,
          "xref": "x",
          "y0": 16,
          "y1": 16,
          "yref": "y"
         },
         {
          "line": {
           "color": "black",
           "width": 3
          },
          "type": "line",
          "x0": 2,
          "x1": 3,
          "xref": "x",
          "y0": 16,
          "y1": 16,
          "yref": "y"
         },
         {
          "line": {
           "color": "black",
           "width": 3
          },
          "type": "line",
          "x0": 2,
          "x1": 2,
          "xref": "x",
          "y0": 15,
          "y1": 16,
          "yref": "y"
         },
         {
          "line": {
           "color": "black",
           "width": 3
          },
          "type": "line",
          "x0": 4,
          "x1": 4,
          "xref": "x",
          "y0": 15,
          "y1": 16,
          "yref": "y"
         },
         {
          "line": {
           "color": "black",
           "width": 3
          },
          "type": "line",
          "x0": 3,
          "x1": 4,
          "xref": "x",
          "y0": 16,
          "y1": 16,
          "yref": "y"
         },
         {
          "line": {
           "color": "black",
           "width": 3
          },
          "type": "line",
          "x0": 4,
          "x1": 5,
          "xref": "x",
          "y0": 16,
          "y1": 16,
          "yref": "y"
         },
         {
          "line": {
           "color": "black",
           "width": 3
          },
          "type": "line",
          "x0": 4,
          "x1": 4,
          "xref": "x",
          "y0": 15,
          "y1": 16,
          "yref": "y"
         },
         {
          "line": {
           "color": "black",
           "width": 3
          },
          "type": "line",
          "x0": 5,
          "x1": 6,
          "xref": "x",
          "y0": 16,
          "y1": 16,
          "yref": "y"
         },
         {
          "line": {
           "color": "black",
           "width": 3
          },
          "type": "line",
          "x0": 7,
          "x1": 7,
          "xref": "x",
          "y0": 15,
          "y1": 16,
          "yref": "y"
         },
         {
          "line": {
           "color": "black",
           "width": 3
          },
          "type": "line",
          "x0": 6,
          "x1": 7,
          "xref": "x",
          "y0": 16,
          "y1": 16,
          "yref": "y"
         },
         {
          "line": {
           "color": "black",
           "width": 3
          },
          "type": "line",
          "x0": 7,
          "x1": 8,
          "xref": "x",
          "y0": 16,
          "y1": 16,
          "yref": "y"
         },
         {
          "line": {
           "color": "black",
           "width": 3
          },
          "type": "line",
          "x0": 7,
          "x1": 7,
          "xref": "x",
          "y0": 15,
          "y1": 16,
          "yref": "y"
         },
         {
          "line": {
           "color": "black",
           "width": 3
          },
          "type": "line",
          "x0": 8,
          "x1": 9,
          "xref": "x",
          "y0": 16,
          "y1": 16,
          "yref": "y"
         },
         {
          "line": {
           "color": "black",
           "width": 3
          },
          "type": "line",
          "x0": 10,
          "x1": 10,
          "xref": "x",
          "y0": 15,
          "y1": 16,
          "yref": "y"
         },
         {
          "line": {
           "color": "black",
           "width": 3
          },
          "type": "line",
          "x0": 9,
          "x1": 10,
          "xref": "x",
          "y0": 16,
          "y1": 16,
          "yref": "y"
         },
         {
          "line": {
           "color": "black",
           "width": 3
          },
          "type": "line",
          "x0": 10,
          "x1": 11,
          "xref": "x",
          "y0": 16,
          "y1": 16,
          "yref": "y"
         },
         {
          "line": {
           "color": "black",
           "width": 3
          },
          "type": "line",
          "x0": 10,
          "x1": 10,
          "xref": "x",
          "y0": 15,
          "y1": 16,
          "yref": "y"
         },
         {
          "line": {
           "color": "black",
           "width": 3
          },
          "type": "line",
          "x0": 12,
          "x1": 12,
          "xref": "x",
          "y0": 15,
          "y1": 16,
          "yref": "y"
         },
         {
          "line": {
           "color": "black",
           "width": 3
          },
          "type": "line",
          "x0": 11,
          "x1": 12,
          "xref": "x",
          "y0": 16,
          "y1": 16,
          "yref": "y"
         },
         {
          "line": {
           "color": "black",
           "width": 3
          },
          "type": "line",
          "x0": 12,
          "x1": 13,
          "xref": "x",
          "y0": 16,
          "y1": 16,
          "yref": "y"
         },
         {
          "line": {
           "color": "black",
           "width": 3
          },
          "type": "line",
          "x0": 12,
          "x1": 12,
          "xref": "x",
          "y0": 15,
          "y1": 16,
          "yref": "y"
         },
         {
          "line": {
           "color": "black",
           "width": 3
          },
          "type": "line",
          "x0": 14,
          "x1": 14,
          "xref": "x",
          "y0": 15,
          "y1": 16,
          "yref": "y"
         },
         {
          "line": {
           "color": "black",
           "width": 3
          },
          "type": "line",
          "x0": 13,
          "x1": 14,
          "xref": "x",
          "y0": 16,
          "y1": 16,
          "yref": "y"
         },
         {
          "line": {
           "color": "black",
           "width": 3
          },
          "type": "line",
          "x0": 14,
          "x1": 15,
          "xref": "x",
          "y0": 16,
          "y1": 16,
          "yref": "y"
         },
         {
          "line": {
           "color": "black",
           "width": 3
          },
          "type": "line",
          "x0": 14,
          "x1": 14,
          "xref": "x",
          "y0": 15,
          "y1": 16,
          "yref": "y"
         },
         {
          "line": {
           "color": "black",
           "width": 3
          },
          "type": "line",
          "x0": 16,
          "x1": 16,
          "xref": "x",
          "y0": 15,
          "y1": 16,
          "yref": "y"
         },
         {
          "line": {
           "color": "black",
           "width": 3
          },
          "type": "line",
          "x0": 15,
          "x1": 16,
          "xref": "x",
          "y0": 16,
          "y1": 16,
          "yref": "y"
         }
        ],
        "template": {
         "data": {
          "bar": [
           {
            "error_x": {
             "color": "#2a3f5f"
            },
            "error_y": {
             "color": "#2a3f5f"
            },
            "marker": {
             "line": {
              "color": "#E5ECF6",
              "width": 0.5
             }
            },
            "type": "bar"
           }
          ],
          "barpolar": [
           {
            "marker": {
             "line": {
              "color": "#E5ECF6",
              "width": 0.5
             }
            },
            "type": "barpolar"
           }
          ],
          "carpet": [
           {
            "aaxis": {
             "endlinecolor": "#2a3f5f",
             "gridcolor": "white",
             "linecolor": "white",
             "minorgridcolor": "white",
             "startlinecolor": "#2a3f5f"
            },
            "baxis": {
             "endlinecolor": "#2a3f5f",
             "gridcolor": "white",
             "linecolor": "white",
             "minorgridcolor": "white",
             "startlinecolor": "#2a3f5f"
            },
            "type": "carpet"
           }
          ],
          "choropleth": [
           {
            "colorbar": {
             "outlinewidth": 0,
             "ticks": ""
            },
            "type": "choropleth"
           }
          ],
          "contour": [
           {
            "colorbar": {
             "outlinewidth": 0,
             "ticks": ""
            },
            "colorscale": [
             [
              0,
              "#0d0887"
             ],
             [
              0.1111111111111111,
              "#46039f"
             ],
             [
              0.2222222222222222,
              "#7201a8"
             ],
             [
              0.3333333333333333,
              "#9c179e"
             ],
             [
              0.4444444444444444,
              "#bd3786"
             ],
             [
              0.5555555555555556,
              "#d8576b"
             ],
             [
              0.6666666666666666,
              "#ed7953"
             ],
             [
              0.7777777777777778,
              "#fb9f3a"
             ],
             [
              0.8888888888888888,
              "#fdca26"
             ],
             [
              1,
              "#f0f921"
             ]
            ],
            "type": "contour"
           }
          ],
          "contourcarpet": [
           {
            "colorbar": {
             "outlinewidth": 0,
             "ticks": ""
            },
            "type": "contourcarpet"
           }
          ],
          "heatmap": [
           {
            "colorbar": {
             "outlinewidth": 0,
             "ticks": ""
            },
            "colorscale": [
             [
              0,
              "#0d0887"
             ],
             [
              0.1111111111111111,
              "#46039f"
             ],
             [
              0.2222222222222222,
              "#7201a8"
             ],
             [
              0.3333333333333333,
              "#9c179e"
             ],
             [
              0.4444444444444444,
              "#bd3786"
             ],
             [
              0.5555555555555556,
              "#d8576b"
             ],
             [
              0.6666666666666666,
              "#ed7953"
             ],
             [
              0.7777777777777778,
              "#fb9f3a"
             ],
             [
              0.8888888888888888,
              "#fdca26"
             ],
             [
              1,
              "#f0f921"
             ]
            ],
            "type": "heatmap"
           }
          ],
          "heatmapgl": [
           {
            "colorbar": {
             "outlinewidth": 0,
             "ticks": ""
            },
            "colorscale": [
             [
              0,
              "#0d0887"
             ],
             [
              0.1111111111111111,
              "#46039f"
             ],
             [
              0.2222222222222222,
              "#7201a8"
             ],
             [
              0.3333333333333333,
              "#9c179e"
             ],
             [
              0.4444444444444444,
              "#bd3786"
             ],
             [
              0.5555555555555556,
              "#d8576b"
             ],
             [
              0.6666666666666666,
              "#ed7953"
             ],
             [
              0.7777777777777778,
              "#fb9f3a"
             ],
             [
              0.8888888888888888,
              "#fdca26"
             ],
             [
              1,
              "#f0f921"
             ]
            ],
            "type": "heatmapgl"
           }
          ],
          "histogram": [
           {
            "marker": {
             "colorbar": {
              "outlinewidth": 0,
              "ticks": ""
             }
            },
            "type": "histogram"
           }
          ],
          "histogram2d": [
           {
            "colorbar": {
             "outlinewidth": 0,
             "ticks": ""
            },
            "colorscale": [
             [
              0,
              "#0d0887"
             ],
             [
              0.1111111111111111,
              "#46039f"
             ],
             [
              0.2222222222222222,
              "#7201a8"
             ],
             [
              0.3333333333333333,
              "#9c179e"
             ],
             [
              0.4444444444444444,
              "#bd3786"
             ],
             [
              0.5555555555555556,
              "#d8576b"
             ],
             [
              0.6666666666666666,
              "#ed7953"
             ],
             [
              0.7777777777777778,
              "#fb9f3a"
             ],
             [
              0.8888888888888888,
              "#fdca26"
             ],
             [
              1,
              "#f0f921"
             ]
            ],
            "type": "histogram2d"
           }
          ],
          "histogram2dcontour": [
           {
            "colorbar": {
             "outlinewidth": 0,
             "ticks": ""
            },
            "colorscale": [
             [
              0,
              "#0d0887"
             ],
             [
              0.1111111111111111,
              "#46039f"
             ],
             [
              0.2222222222222222,
              "#7201a8"
             ],
             [
              0.3333333333333333,
              "#9c179e"
             ],
             [
              0.4444444444444444,
              "#bd3786"
             ],
             [
              0.5555555555555556,
              "#d8576b"
             ],
             [
              0.6666666666666666,
              "#ed7953"
             ],
             [
              0.7777777777777778,
              "#fb9f3a"
             ],
             [
              0.8888888888888888,
              "#fdca26"
             ],
             [
              1,
              "#f0f921"
             ]
            ],
            "type": "histogram2dcontour"
           }
          ],
          "mesh3d": [
           {
            "colorbar": {
             "outlinewidth": 0,
             "ticks": ""
            },
            "type": "mesh3d"
           }
          ],
          "parcoords": [
           {
            "line": {
             "colorbar": {
              "outlinewidth": 0,
              "ticks": ""
             }
            },
            "type": "parcoords"
           }
          ],
          "pie": [
           {
            "automargin": true,
            "type": "pie"
           }
          ],
          "scatter": [
           {
            "marker": {
             "colorbar": {
              "outlinewidth": 0,
              "ticks": ""
             }
            },
            "type": "scatter"
           }
          ],
          "scatter3d": [
           {
            "line": {
             "colorbar": {
              "outlinewidth": 0,
              "ticks": ""
             }
            },
            "marker": {
             "colorbar": {
              "outlinewidth": 0,
              "ticks": ""
             }
            },
            "type": "scatter3d"
           }
          ],
          "scattercarpet": [
           {
            "marker": {
             "colorbar": {
              "outlinewidth": 0,
              "ticks": ""
             }
            },
            "type": "scattercarpet"
           }
          ],
          "scattergeo": [
           {
            "marker": {
             "colorbar": {
              "outlinewidth": 0,
              "ticks": ""
             }
            },
            "type": "scattergeo"
           }
          ],
          "scattergl": [
           {
            "marker": {
             "colorbar": {
              "outlinewidth": 0,
              "ticks": ""
             }
            },
            "type": "scattergl"
           }
          ],
          "scattermapbox": [
           {
            "marker": {
             "colorbar": {
              "outlinewidth": 0,
              "ticks": ""
             }
            },
            "type": "scattermapbox"
           }
          ],
          "scatterpolar": [
           {
            "marker": {
             "colorbar": {
              "outlinewidth": 0,
              "ticks": ""
             }
            },
            "type": "scatterpolar"
           }
          ],
          "scatterpolargl": [
           {
            "marker": {
             "colorbar": {
              "outlinewidth": 0,
              "ticks": ""
             }
            },
            "type": "scatterpolargl"
           }
          ],
          "scatterternary": [
           {
            "marker": {
             "colorbar": {
              "outlinewidth": 0,
              "ticks": ""
             }
            },
            "type": "scatterternary"
           }
          ],
          "surface": [
           {
            "colorbar": {
             "outlinewidth": 0,
             "ticks": ""
            },
            "colorscale": [
             [
              0,
              "#0d0887"
             ],
             [
              0.1111111111111111,
              "#46039f"
             ],
             [
              0.2222222222222222,
              "#7201a8"
             ],
             [
              0.3333333333333333,
              "#9c179e"
             ],
             [
              0.4444444444444444,
              "#bd3786"
             ],
             [
              0.5555555555555556,
              "#d8576b"
             ],
             [
              0.6666666666666666,
              "#ed7953"
             ],
             [
              0.7777777777777778,
              "#fb9f3a"
             ],
             [
              0.8888888888888888,
              "#fdca26"
             ],
             [
              1,
              "#f0f921"
             ]
            ],
            "type": "surface"
           }
          ],
          "table": [
           {
            "cells": {
             "fill": {
              "color": "#EBF0F8"
             },
             "line": {
              "color": "white"
             }
            },
            "header": {
             "fill": {
              "color": "#C8D4E3"
             },
             "line": {
              "color": "white"
             }
            },
            "type": "table"
           }
          ]
         },
         "layout": {
          "annotationdefaults": {
           "arrowcolor": "#2a3f5f",
           "arrowhead": 0,
           "arrowwidth": 1
          },
          "coloraxis": {
           "colorbar": {
            "outlinewidth": 0,
            "ticks": ""
           }
          },
          "colorscale": {
           "diverging": [
            [
             0,
             "#8e0152"
            ],
            [
             0.1,
             "#c51b7d"
            ],
            [
             0.2,
             "#de77ae"
            ],
            [
             0.3,
             "#f1b6da"
            ],
            [
             0.4,
             "#fde0ef"
            ],
            [
             0.5,
             "#f7f7f7"
            ],
            [
             0.6,
             "#e6f5d0"
            ],
            [
             0.7,
             "#b8e186"
            ],
            [
             0.8,
             "#7fbc41"
            ],
            [
             0.9,
             "#4d9221"
            ],
            [
             1,
             "#276419"
            ]
           ],
           "sequential": [
            [
             0,
             "#0d0887"
            ],
            [
             0.1111111111111111,
             "#46039f"
            ],
            [
             0.2222222222222222,
             "#7201a8"
            ],
            [
             0.3333333333333333,
             "#9c179e"
            ],
            [
             0.4444444444444444,
             "#bd3786"
            ],
            [
             0.5555555555555556,
             "#d8576b"
            ],
            [
             0.6666666666666666,
             "#ed7953"
            ],
            [
             0.7777777777777778,
             "#fb9f3a"
            ],
            [
             0.8888888888888888,
             "#fdca26"
            ],
            [
             1,
             "#f0f921"
            ]
           ],
           "sequentialminus": [
            [
             0,
             "#0d0887"
            ],
            [
             0.1111111111111111,
             "#46039f"
            ],
            [
             0.2222222222222222,
             "#7201a8"
            ],
            [
             0.3333333333333333,
             "#9c179e"
            ],
            [
             0.4444444444444444,
             "#bd3786"
            ],
            [
             0.5555555555555556,
             "#d8576b"
            ],
            [
             0.6666666666666666,
             "#ed7953"
            ],
            [
             0.7777777777777778,
             "#fb9f3a"
            ],
            [
             0.8888888888888888,
             "#fdca26"
            ],
            [
             1,
             "#f0f921"
            ]
           ]
          },
          "colorway": [
           "#636efa",
           "#EF553B",
           "#00cc96",
           "#ab63fa",
           "#FFA15A",
           "#19d3f3",
           "#FF6692",
           "#B6E880",
           "#FF97FF",
           "#FECB52"
          ],
          "font": {
           "color": "#2a3f5f"
          },
          "geo": {
           "bgcolor": "white",
           "lakecolor": "white",
           "landcolor": "#E5ECF6",
           "showlakes": true,
           "showland": true,
           "subunitcolor": "white"
          },
          "hoverlabel": {
           "align": "left"
          },
          "hovermode": "closest",
          "mapbox": {
           "style": "light"
          },
          "paper_bgcolor": "white",
          "plot_bgcolor": "#E5ECF6",
          "polar": {
           "angularaxis": {
            "gridcolor": "white",
            "linecolor": "white",
            "ticks": ""
           },
           "bgcolor": "#E5ECF6",
           "radialaxis": {
            "gridcolor": "white",
            "linecolor": "white",
            "ticks": ""
           }
          },
          "scene": {
           "xaxis": {
            "backgroundcolor": "#E5ECF6",
            "gridcolor": "white",
            "gridwidth": 2,
            "linecolor": "white",
            "showbackground": true,
            "ticks": "",
            "zerolinecolor": "white"
           },
           "yaxis": {
            "backgroundcolor": "#E5ECF6",
            "gridcolor": "white",
            "gridwidth": 2,
            "linecolor": "white",
            "showbackground": true,
            "ticks": "",
            "zerolinecolor": "white"
           },
           "zaxis": {
            "backgroundcolor": "#E5ECF6",
            "gridcolor": "white",
            "gridwidth": 2,
            "linecolor": "white",
            "showbackground": true,
            "ticks": "",
            "zerolinecolor": "white"
           }
          },
          "shapedefaults": {
           "line": {
            "color": "#2a3f5f"
           }
          },
          "ternary": {
           "aaxis": {
            "gridcolor": "white",
            "linecolor": "white",
            "ticks": ""
           },
           "baxis": {
            "gridcolor": "white",
            "linecolor": "white",
            "ticks": ""
           },
           "bgcolor": "#E5ECF6",
           "caxis": {
            "gridcolor": "white",
            "linecolor": "white",
            "ticks": ""
           }
          },
          "title": {
           "x": 0.05
          },
          "xaxis": {
           "automargin": true,
           "gridcolor": "white",
           "linecolor": "white",
           "ticks": "",
           "title": {
            "standoff": 15
           },
           "zerolinecolor": "white",
           "zerolinewidth": 2
          },
          "yaxis": {
           "automargin": true,
           "gridcolor": "white",
           "linecolor": "white",
           "ticks": "",
           "title": {
            "standoff": 15
           },
           "zerolinecolor": "white",
           "zerolinewidth": 2
          }
         }
        },
        "xaxis": {
         "anchor": "y",
         "domain": [
          0,
          1
         ]
        },
        "yaxis": {
         "anchor": "x",
         "domain": [
          0,
          1
         ]
        }
       }
      },
      "text/html": [
       "<div>\n",
       "        \n",
       "        \n",
       "            <div id=\"6ebb4b0a-29c1-41c3-b31a-43fb354a918c\" class=\"plotly-graph-div\" style=\"height:525px; width:100%;\"></div>\n",
       "            <script type=\"text/javascript\">\n",
       "                require([\"plotly\"], function(Plotly) {\n",
       "                    window.PLOTLYENV=window.PLOTLYENV || {};\n",
       "                    \n",
       "                if (document.getElementById(\"6ebb4b0a-29c1-41c3-b31a-43fb354a918c\")) {\n",
       "                    Plotly.newPlot(\n",
       "                        '6ebb4b0a-29c1-41c3-b31a-43fb354a918c',\n",
       "                        [{\"type\": \"scatter\", \"x\": [], \"xaxis\": \"x\", \"y\": [], \"yaxis\": \"y\"}],\n",
       "                        {\"shapes\": [{\"fillcolor\": \"green\", \"line\": {\"width\": 0}, \"opacity\": 0.2, \"type\": \"rect\", \"x0\": 0, \"x1\": 1, \"xref\": \"x\", \"y0\": 0, \"y1\": 1, \"yref\": \"y\"}, {\"line\": {\"color\": \"black\", \"width\": 3}, \"type\": \"line\", \"x0\": 0, \"x1\": 1, \"xref\": \"x\", \"y0\": 0, \"y1\": 0, \"yref\": \"y\"}, {\"line\": {\"color\": \"black\", \"width\": 3}, \"type\": \"line\", \"x0\": 0, \"x1\": 1, \"xref\": \"x\", \"y0\": 1, \"y1\": 1, \"yref\": \"y\"}, {\"line\": {\"color\": \"black\", \"width\": 3}, \"type\": \"line\", \"x0\": 0, \"x1\": 0, \"xref\": \"x\", \"y0\": 0, \"y1\": 1, \"yref\": \"y\"}, {\"line\": {\"color\": \"black\", \"width\": 3}, \"type\": \"line\", \"x0\": 1, \"x1\": 2, \"xref\": \"x\", \"y0\": 0, \"y1\": 0, \"yref\": \"y\"}, {\"line\": {\"color\": \"black\", \"width\": 3}, \"type\": \"line\", \"x0\": 1, \"x1\": 2, \"xref\": \"x\", \"y0\": 1, \"y1\": 1, \"yref\": \"y\"}, {\"line\": {\"color\": \"black\", \"width\": 3}, \"type\": \"line\", \"x0\": 2, \"x1\": 3, \"xref\": \"x\", \"y0\": 0, \"y1\": 0, \"yref\": \"y\"}, {\"line\": {\"color\": \"black\", \"width\": 3}, \"type\": \"line\", \"x0\": 3, \"x1\": 3, \"xref\": \"x\", \"y0\": 0, \"y1\": 1, \"yref\": \"y\"}, {\"line\": {\"color\": \"black\", \"width\": 3}, \"type\": \"line\", \"x0\": 3, \"x1\": 4, \"xref\": \"x\", \"y0\": 0, \"y1\": 0, \"yref\": \"y\"}, {\"line\": {\"color\": \"black\", \"width\": 3}, \"type\": \"line\", \"x0\": 3, \"x1\": 4, \"xref\": \"x\", \"y0\": 1, \"y1\": 1, \"yref\": \"y\"}, {\"line\": {\"color\": \"black\", \"width\": 3}, \"type\": \"line\", \"x0\": 3, \"x1\": 3, \"xref\": \"x\", \"y0\": 0, \"y1\": 1, \"yref\": \"y\"}, {\"line\": {\"color\": \"black\", \"width\": 3}, \"type\": \"line\", \"x0\": 4, \"x1\": 5, \"xref\": \"x\", \"y0\": 0, \"y1\": 0, \"yref\": \"y\"}, {\"line\": {\"color\": \"black\", \"width\": 3}, \"type\": \"line\", \"x0\": 5, \"x1\": 6, \"xref\": \"x\", \"y0\": 0, \"y1\": 0, \"yref\": \"y\"}, {\"line\": {\"color\": \"black\", \"width\": 3}, \"type\": \"line\", \"x0\": 6, \"x1\": 7, \"xref\": \"x\", \"y0\": 0, \"y1\": 0, \"yref\": \"y\"}, {\"line\": {\"color\": \"black\", \"width\": 3}, \"type\": \"line\", \"x0\": 6, \"x1\": 7, \"xref\": \"x\", \"y0\": 1, \"y1\": 1, \"yref\": \"y\"}, {\"line\": {\"color\": \"black\", \"width\": 3}, \"type\": \"line\", \"x0\": 7, \"x1\": 8, \"xref\": \"x\", \"y0\": 0, \"y1\": 0, \"yref\": \"y\"}, {\"line\": {\"color\": \"black\", \"width\": 3}, \"type\": \"line\", \"x0\": 8, \"x1\": 8, \"xref\": \"x\", \"y0\": 0, \"y1\": 1, \"yref\": \"y\"}, {\"line\": {\"color\": \"black\", \"width\": 3}, \"type\": \"line\", \"x0\": 8, \"x1\": 9, \"xref\": \"x\", \"y0\": 0, \"y1\": 0, \"yref\": \"y\"}, {\"line\": {\"color\": \"black\", \"width\": 3}, \"type\": \"line\", \"x0\": 8, \"x1\": 8, \"xref\": \"x\", \"y0\": 0, \"y1\": 1, \"yref\": \"y\"}, {\"line\": {\"color\": \"black\", \"width\": 3}, \"type\": \"line\", \"x0\": 9, \"x1\": 10, \"xref\": \"x\", \"y0\": 0, \"y1\": 0, \"yref\": \"y\"}, {\"line\": {\"color\": \"black\", \"width\": 3}, \"type\": \"line\", \"x0\": 9, \"x1\": 10, \"xref\": \"x\", \"y0\": 1, \"y1\": 1, \"yref\": \"y\"}, {\"line\": {\"color\": \"black\", \"width\": 3}, \"type\": \"line\", \"x0\": 10, \"x1\": 11, \"xref\": \"x\", \"y0\": 0, \"y1\": 0, \"yref\": \"y\"}, {\"line\": {\"color\": \"black\", \"width\": 3}, \"type\": \"line\", \"x0\": 11, \"x1\": 11, \"xref\": \"x\", \"y0\": 0, \"y1\": 1, \"yref\": \"y\"}, {\"line\": {\"color\": \"black\", \"width\": 3}, \"type\": \"line\", \"x0\": 11, \"x1\": 12, \"xref\": \"x\", \"y0\": 0, \"y1\": 0, \"yref\": \"y\"}, {\"line\": {\"color\": \"black\", \"width\": 3}, \"type\": \"line\", \"x0\": 11, \"x1\": 12, \"xref\": \"x\", \"y0\": 1, \"y1\": 1, \"yref\": \"y\"}, {\"line\": {\"color\": \"black\", \"width\": 3}, \"type\": \"line\", \"x0\": 11, \"x1\": 11, \"xref\": \"x\", \"y0\": 0, \"y1\": 1, \"yref\": \"y\"}, {\"line\": {\"color\": \"black\", \"width\": 3}, \"type\": \"line\", \"x0\": 12, \"x1\": 13, \"xref\": \"x\", \"y0\": 0, \"y1\": 0, \"yref\": \"y\"}, {\"line\": {\"color\": \"black\", \"width\": 3}, \"type\": \"line\", \"x0\": 12, \"x1\": 13, \"xref\": \"x\", \"y0\": 1, \"y1\": 1, \"yref\": \"y\"}, {\"line\": {\"color\": \"black\", \"width\": 3}, \"type\": \"line\", \"x0\": 13, \"x1\": 14, \"xref\": \"x\", \"y0\": 0, \"y1\": 0, \"yref\": \"y\"}, {\"line\": {\"color\": \"black\", \"width\": 3}, \"type\": \"line\", \"x0\": 14, \"x1\": 15, \"xref\": \"x\", \"y0\": 0, \"y1\": 0, \"yref\": \"y\"}, {\"line\": {\"color\": \"black\", \"width\": 3}, \"type\": \"line\", \"x0\": 15, \"x1\": 15, \"xref\": \"x\", \"y0\": 0, \"y1\": 1, \"yref\": \"y\"}, {\"line\": {\"color\": \"black\", \"width\": 3}, \"type\": \"line\", \"x0\": 15, \"x1\": 16, \"xref\": \"x\", \"y0\": 0, \"y1\": 0, \"yref\": \"y\"}, {\"line\": {\"color\": \"black\", \"width\": 3}, \"type\": \"line\", \"x0\": 16, \"x1\": 16, \"xref\": \"x\", \"y0\": 0, \"y1\": 1, \"yref\": \"y\"}, {\"line\": {\"color\": \"black\", \"width\": 3}, \"type\": \"line\", \"x0\": 15, \"x1\": 15, \"xref\": \"x\", \"y0\": 0, \"y1\": 1, \"yref\": \"y\"}, {\"line\": {\"color\": \"black\", \"width\": 3}, \"type\": \"line\", \"x0\": 0, \"x1\": 1, \"xref\": \"x\", \"y0\": 1, \"y1\": 1, \"yref\": \"y\"}, {\"line\": {\"color\": \"black\", \"width\": 3}, \"type\": \"line\", \"x0\": 0, \"x1\": 1, \"xref\": \"x\", \"y0\": 2, \"y1\": 2, \"yref\": \"y\"}, {\"line\": {\"color\": \"black\", \"width\": 3}, \"type\": \"line\", \"x0\": 0, \"x1\": 0, \"xref\": \"x\", \"y0\": 1, \"y1\": 2, \"yref\": \"y\"}, {\"line\": {\"color\": \"black\", \"width\": 3}, \"type\": \"line\", \"x0\": 1, \"x1\": 2, \"xref\": \"x\", \"y0\": 1, \"y1\": 1, \"yref\": \"y\"}, {\"line\": {\"color\": \"black\", \"width\": 3}, \"type\": \"line\", \"x0\": 2, \"x1\": 2, \"xref\": \"x\", \"y0\": 1, \"y1\": 2, \"yref\": \"y\"}, {\"line\": {\"color\": \"black\", \"width\": 3}, \"type\": \"line\", \"x0\": 2, \"x1\": 3, \"xref\": \"x\", \"y0\": 2, \"y1\": 2, \"yref\": \"y\"}, {\"line\": {\"color\": \"black\", \"width\": 3}, \"type\": \"line\", \"x0\": 2, \"x1\": 2, \"xref\": \"x\", \"y0\": 1, \"y1\": 2, \"yref\": \"y\"}, {\"line\": {\"color\": \"black\", \"width\": 3}, \"type\": \"line\", \"x0\": 3, \"x1\": 4, \"xref\": \"x\", \"y0\": 1, \"y1\": 1, \"yref\": \"y\"}, {\"line\": {\"color\": \"black\", \"width\": 3}, \"type\": \"line\", \"x0\": 4, \"x1\": 4, \"xref\": \"x\", \"y0\": 1, \"y1\": 2, \"yref\": \"y\"}, {\"line\": {\"color\": \"black\", \"width\": 3}, \"type\": \"line\", \"x0\": 5, \"x1\": 5, \"xref\": \"x\", \"y0\": 1, \"y1\": 2, \"yref\": \"y\"}, {\"line\": {\"color\": \"black\", \"width\": 3}, \"type\": \"line\", \"x0\": 4, \"x1\": 4, \"xref\": \"x\", \"y0\": 1, \"y1\": 2, \"yref\": \"y\"}, {\"line\": {\"color\": \"black\", \"width\": 3}, \"type\": \"line\", \"x0\": 5, \"x1\": 6, \"xref\": \"x\", \"y0\": 2, \"y1\": 2, \"yref\": \"y\"}, {\"line\": {\"color\": \"black\", \"width\": 3}, \"type\": \"line\", \"x0\": 5, \"x1\": 5, \"xref\": \"x\", \"y0\": 1, \"y1\": 2, \"yref\": \"y\"}, {\"line\": {\"color\": \"black\", \"width\": 3}, \"type\": \"line\", \"x0\": 6, \"x1\": 7, \"xref\": \"x\", \"y0\": 1, \"y1\": 1, \"yref\": \"y\"}, {\"line\": {\"color\": \"black\", \"width\": 3}, \"type\": \"line\", \"x0\": 7, \"x1\": 7, \"xref\": \"x\", \"y0\": 1, \"y1\": 2, \"yref\": \"y\"}, {\"line\": {\"color\": \"black\", \"width\": 3}, \"type\": \"line\", \"x0\": 8, \"x1\": 8, \"xref\": \"x\", \"y0\": 1, \"y1\": 2, \"yref\": \"y\"}, {\"line\": {\"color\": \"black\", \"width\": 3}, \"type\": \"line\", \"x0\": 7, \"x1\": 7, \"xref\": \"x\", \"y0\": 1, \"y1\": 2, \"yref\": \"y\"}, {\"line\": {\"color\": \"black\", \"width\": 3}, \"type\": \"line\", \"x0\": 9, \"x1\": 9, \"xref\": \"x\", \"y0\": 1, \"y1\": 2, \"yref\": \"y\"}, {\"line\": {\"color\": \"black\", \"width\": 3}, \"type\": \"line\", \"x0\": 8, \"x1\": 8, \"xref\": \"x\", \"y0\": 1, \"y1\": 2, \"yref\": \"y\"}, {\"line\": {\"color\": \"black\", \"width\": 3}, \"type\": \"line\", \"x0\": 9, \"x1\": 10, \"xref\": \"x\", \"y0\": 1, \"y1\": 1, \"yref\": \"y\"}, {\"line\": {\"color\": \"black\", \"width\": 3}, \"type\": \"line\", \"x0\": 9, \"x1\": 9, \"xref\": \"x\", \"y0\": 1, \"y1\": 2, \"yref\": \"y\"}, {\"line\": {\"color\": \"black\", \"width\": 3}, \"type\": \"line\", \"x0\": 11, \"x1\": 11, \"xref\": \"x\", \"y0\": 1, \"y1\": 2, \"yref\": \"y\"}, {\"line\": {\"color\": \"black\", \"width\": 3}, \"type\": \"line\", \"x0\": 10, \"x1\": 11, \"xref\": \"x\", \"y0\": 2, \"y1\": 2, \"yref\": \"y\"}, {\"line\": {\"color\": \"black\", \"width\": 3}, \"type\": \"line\", \"x0\": 11, \"x1\": 12, \"xref\": \"x\", \"y0\": 1, \"y1\": 1, \"yref\": \"y\"}, {\"line\": {\"color\": \"black\", \"width\": 3}, \"type\": \"line\", \"x0\": 11, \"x1\": 11, \"xref\": \"x\", \"y0\": 1, \"y1\": 2, \"yref\": \"y\"}, {\"line\": {\"color\": \"black\", \"width\": 3}, \"type\": \"line\", \"x0\": 12, \"x1\": 13, \"xref\": \"x\", \"y0\": 1, \"y1\": 1, \"yref\": \"y\"}, {\"line\": {\"color\": \"black\", \"width\": 3}, \"type\": \"line\", \"x0\": 12, \"x1\": 13, \"xref\": \"x\", \"y0\": 2, \"y1\": 2, \"yref\": \"y\"}, {\"line\": {\"color\": \"black\", \"width\": 3}, \"type\": \"line\", \"x0\": 14, \"x1\": 14, \"xref\": \"x\", \"y0\": 1, \"y1\": 2, \"yref\": \"y\"}, {\"line\": {\"color\": \"black\", \"width\": 3}, \"type\": \"line\", \"x0\": 13, \"x1\": 14, \"xref\": \"x\", \"y0\": 2, \"y1\": 2, \"yref\": \"y\"}, {\"line\": {\"color\": \"black\", \"width\": 3}, \"type\": \"line\", \"x0\": 14, \"x1\": 15, \"xref\": \"x\", \"y0\": 2, \"y1\": 2, \"yref\": \"y\"}, {\"line\": {\"color\": \"black\", \"width\": 3}, \"type\": \"line\", \"x0\": 14, \"x1\": 14, \"xref\": \"x\", \"y0\": 1, \"y1\": 2, \"yref\": \"y\"}, {\"line\": {\"color\": \"black\", \"width\": 3}, \"type\": \"line\", \"x0\": 16, \"x1\": 16, \"xref\": \"x\", \"y0\": 1, \"y1\": 2, \"yref\": \"y\"}, {\"line\": {\"color\": \"black\", \"width\": 3}, \"type\": \"line\", \"x0\": 0, \"x1\": 1, \"xref\": \"x\", \"y0\": 2, \"y1\": 2, \"yref\": \"y\"}, {\"line\": {\"color\": \"black\", \"width\": 3}, \"type\": \"line\", \"x0\": 0, \"x1\": 0, \"xref\": \"x\", \"y0\": 2, \"y1\": 3, \"yref\": \"y\"}, {\"line\": {\"color\": \"black\", \"width\": 3}, \"type\": \"line\", \"x0\": 2, \"x1\": 2, \"xref\": \"x\", \"y0\": 2, \"y1\": 3, \"yref\": \"y\"}, {\"line\": {\"color\": \"black\", \"width\": 3}, \"type\": \"line\", \"x0\": 1, \"x1\": 2, \"xref\": \"x\", \"y0\": 3, \"y1\": 3, \"yref\": \"y\"}, {\"line\": {\"color\": \"black\", \"width\": 3}, \"type\": \"line\", \"x0\": 2, \"x1\": 3, \"xref\": \"x\", \"y0\": 2, \"y1\": 2, \"yref\": \"y\"}, {\"line\": {\"color\": \"black\", \"width\": 3}, \"type\": \"line\", \"x0\": 2, \"x1\": 2, \"xref\": \"x\", \"y0\": 2, \"y1\": 3, \"yref\": \"y\"}, {\"line\": {\"color\": \"black\", \"width\": 3}, \"type\": \"line\", \"x0\": 4, \"x1\": 4, \"xref\": \"x\", \"y0\": 2, \"y1\": 3, \"yref\": \"y\"}, {\"line\": {\"color\": \"black\", \"width\": 3}, \"type\": \"line\", \"x0\": 3, \"x1\": 4, \"xref\": \"x\", \"y0\": 3, \"y1\": 3, \"yref\": \"y\"}, {\"line\": {\"color\": \"black\", \"width\": 3}, \"type\": \"line\", \"x0\": 4, \"x1\": 5, \"xref\": \"x\", \"y0\": 3, \"y1\": 3, \"yref\": \"y\"}, {\"line\": {\"color\": \"black\", \"width\": 3}, \"type\": \"line\", \"x0\": 4, \"x1\": 4, \"xref\": \"x\", \"y0\": 2, \"y1\": 3, \"yref\": \"y\"}, {\"line\": {\"color\": \"black\", \"width\": 3}, \"type\": \"line\", \"x0\": 5, \"x1\": 6, \"xref\": \"x\", \"y0\": 2, \"y1\": 2, \"yref\": \"y\"}, {\"line\": {\"color\": \"black\", \"width\": 3}, \"type\": \"line\", \"x0\": 6, \"x1\": 6, \"xref\": \"x\", \"y0\": 2, \"y1\": 3, \"yref\": \"y\"}, {\"line\": {\"color\": \"black\", \"width\": 3}, \"type\": \"line\", \"x0\": 5, \"x1\": 6, \"xref\": \"x\", \"y0\": 3, \"y1\": 3, \"yref\": \"y\"}, {\"line\": {\"color\": \"black\", \"width\": 3}, \"type\": \"line\", \"x0\": 7, \"x1\": 7, \"xref\": \"x\", \"y0\": 2, \"y1\": 3, \"yref\": \"y\"}, {\"line\": {\"color\": \"black\", \"width\": 3}, \"type\": \"line\", \"x0\": 6, \"x1\": 6, \"xref\": \"x\", \"y0\": 2, \"y1\": 3, \"yref\": \"y\"}, {\"line\": {\"color\": \"black\", \"width\": 3}, \"type\": \"line\", \"x0\": 8, \"x1\": 8, \"xref\": \"x\", \"y0\": 2, \"y1\": 3, \"yref\": \"y\"}, {\"line\": {\"color\": \"black\", \"width\": 3}, \"type\": \"line\", \"x0\": 7, \"x1\": 7, \"xref\": \"x\", \"y0\": 2, \"y1\": 3, \"yref\": \"y\"}, {\"line\": {\"color\": \"black\", \"width\": 3}, \"type\": \"line\", \"x0\": 9, \"x1\": 9, \"xref\": \"x\", \"y0\": 2, \"y1\": 3, \"yref\": \"y\"}, {\"line\": {\"color\": \"black\", \"width\": 3}, \"type\": \"line\", \"x0\": 8, \"x1\": 8, \"xref\": \"x\", \"y0\": 2, \"y1\": 3, \"yref\": \"y\"}, {\"line\": {\"color\": \"black\", \"width\": 3}, \"type\": \"line\", \"x0\": 9, \"x1\": 10, \"xref\": \"x\", \"y0\": 3, \"y1\": 3, \"yref\": \"y\"}, {\"line\": {\"color\": \"black\", \"width\": 3}, \"type\": \"line\", \"x0\": 9, \"x1\": 9, \"xref\": \"x\", \"y0\": 2, \"y1\": 3, \"yref\": \"y\"}, {\"line\": {\"color\": \"black\", \"width\": 3}, \"type\": \"line\", \"x0\": 10, \"x1\": 11, \"xref\": \"x\", \"y0\": 2, \"y1\": 2, \"yref\": \"y\"}, {\"line\": {\"color\": \"black\", \"width\": 3}, \"type\": \"line\", \"x0\": 11, \"x1\": 11, \"xref\": \"x\", \"y0\": 2, \"y1\": 3, \"yref\": \"y\"}, {\"line\": {\"color\": \"black\", \"width\": 3}, \"type\": \"line\", \"x0\": 12, \"x1\": 12, \"xref\": \"x\", \"y0\": 2, \"y1\": 3, \"yref\": \"y\"}, {\"line\": {\"color\": \"black\", \"width\": 3}, \"type\": \"line\", \"x0\": 11, \"x1\": 11, \"xref\": \"x\", \"y0\": 2, \"y1\": 3, \"yref\": \"y\"}, {\"line\": {\"color\": \"black\", \"width\": 3}, \"type\": \"line\", \"x0\": 12, \"x1\": 13, \"xref\": \"x\", \"y0\": 2, \"y1\": 2, \"yref\": \"y\"}, {\"line\": {\"color\": \"black\", \"width\": 3}, \"type\": \"line\", \"x0\": 12, \"x1\": 12, \"xref\": \"x\", \"y0\": 2, \"y1\": 3, \"yref\": \"y\"}, {\"line\": {\"color\": \"black\", \"width\": 3}, \"type\": \"line\", \"x0\": 13, \"x1\": 14, \"xref\": \"x\", \"y0\": 2, \"y1\": 2, \"yref\": \"y\"}, {\"line\": {\"color\": \"black\", \"width\": 3}, \"type\": \"line\", \"x0\": 13, \"x1\": 14, \"xref\": \"x\", \"y0\": 3, \"y1\": 3, \"yref\": \"y\"}, {\"line\": {\"color\": \"black\", \"width\": 3}, \"type\": \"line\", \"x0\": 14, \"x1\": 15, \"xref\": \"x\", \"y0\": 2, \"y1\": 2, \"yref\": \"y\"}, {\"line\": {\"color\": \"black\", \"width\": 3}, \"type\": \"line\", \"x0\": 15, \"x1\": 15, \"xref\": \"x\", \"y0\": 2, \"y1\": 3, \"yref\": \"y\"}, {\"line\": {\"color\": \"black\", \"width\": 3}, \"type\": \"line\", \"x0\": 14, \"x1\": 15, \"xref\": \"x\", \"y0\": 3, \"y1\": 3, \"yref\": \"y\"}, {\"line\": {\"color\": \"black\", \"width\": 3}, \"type\": \"line\", \"x0\": 16, \"x1\": 16, \"xref\": \"x\", \"y0\": 2, \"y1\": 3, \"yref\": \"y\"}, {\"line\": {\"color\": \"black\", \"width\": 3}, \"type\": \"line\", \"x0\": 15, \"x1\": 15, \"xref\": \"x\", \"y0\": 2, \"y1\": 3, \"yref\": \"y\"}, {\"line\": {\"color\": \"black\", \"width\": 3}, \"type\": \"line\", \"x0\": 0, \"x1\": 1, \"xref\": \"x\", \"y0\": 4, \"y1\": 4, \"yref\": \"y\"}, {\"line\": {\"color\": \"black\", \"width\": 3}, \"type\": \"line\", \"x0\": 0, \"x1\": 0, \"xref\": \"x\", \"y0\": 3, \"y1\": 4, \"yref\": \"y\"}, {\"line\": {\"color\": \"black\", \"width\": 3}, \"type\": \"line\", \"x0\": 1, \"x1\": 2, \"xref\": \"x\", \"y0\": 3, \"y1\": 3, \"yref\": \"y\"}, {\"line\": {\"color\": \"black\", \"width\": 3}, \"type\": \"line\", \"x0\": 2, \"x1\": 2, \"xref\": \"x\", \"y0\": 3, \"y1\": 4, \"yref\": \"y\"}, {\"line\": {\"color\": \"black\", \"width\": 3}, \"type\": \"line\", \"x0\": 2, \"x1\": 3, \"xref\": \"x\", \"y0\": 4, \"y1\": 4, \"yref\": \"y\"}, {\"line\": {\"color\": \"black\", \"width\": 3}, \"type\": \"line\", \"x0\": 2, \"x1\": 2, \"xref\": \"x\", \"y0\": 3, \"y1\": 4, \"yref\": \"y\"}, {\"line\": {\"color\": \"black\", \"width\": 3}, \"type\": \"line\", \"x0\": 3, \"x1\": 4, \"xref\": \"x\", \"y0\": 3, \"y1\": 3, \"yref\": \"y\"}, {\"line\": {\"color\": \"black\", \"width\": 3}, \"type\": \"line\", \"x0\": 3, \"x1\": 4, \"xref\": \"x\", \"y0\": 4, \"y1\": 4, \"yref\": \"y\"}, {\"line\": {\"color\": \"black\", \"width\": 3}, \"type\": \"line\", \"x0\": 4, \"x1\": 5, \"xref\": \"x\", \"y0\": 3, \"y1\": 3, \"yref\": \"y\"}, {\"line\": {\"color\": \"black\", \"width\": 3}, \"type\": \"line\", \"x0\": 4, \"x1\": 5, \"xref\": \"x\", \"y0\": 4, \"y1\": 4, \"yref\": \"y\"}, {\"line\": {\"color\": \"black\", \"width\": 3}, \"type\": \"line\", \"x0\": 5, \"x1\": 6, \"xref\": \"x\", \"y0\": 3, \"y1\": 3, \"yref\": \"y\"}, {\"line\": {\"color\": \"black\", \"width\": 3}, \"type\": \"line\", \"x0\": 5, \"x1\": 6, \"xref\": \"x\", \"y0\": 4, \"y1\": 4, \"yref\": \"y\"}, {\"line\": {\"color\": \"black\", \"width\": 3}, \"type\": \"line\", \"x0\": 7, \"x1\": 7, \"xref\": \"x\", \"y0\": 3, \"y1\": 4, \"yref\": \"y\"}, {\"line\": {\"color\": \"black\", \"width\": 3}, \"type\": \"line\", \"x0\": 6, \"x1\": 7, \"xref\": \"x\", \"y0\": 4, \"y1\": 4, \"yref\": \"y\"}, {\"line\": {\"color\": \"black\", \"width\": 3}, \"type\": \"line\", \"x0\": 8, \"x1\": 8, \"xref\": \"x\", \"y0\": 3, \"y1\": 4, \"yref\": \"y\"}, {\"line\": {\"color\": \"black\", \"width\": 3}, \"type\": \"line\", \"x0\": 7, \"x1\": 7, \"xref\": \"x\", \"y0\": 3, \"y1\": 4, \"yref\": \"y\"}, {\"line\": {\"color\": \"black\", \"width\": 3}, \"type\": \"line\", \"x0\": 8, \"x1\": 8, \"xref\": \"x\", \"y0\": 3, \"y1\": 4, \"yref\": \"y\"}, {\"line\": {\"color\": \"black\", \"width\": 3}, \"type\": \"line\", \"x0\": 9, \"x1\": 10, \"xref\": \"x\", \"y0\": 3, \"y1\": 3, \"yref\": \"y\"}, {\"line\": {\"color\": \"black\", \"width\": 3}, \"type\": \"line\", \"x0\": 10, \"x1\": 10, \"xref\": \"x\", \"y0\": 3, \"y1\": 4, \"yref\": \"y\"}, {\"line\": {\"color\": \"black\", \"width\": 3}, \"type\": \"line\", \"x0\": 10, \"x1\": 11, \"xref\": \"x\", \"y0\": 4, \"y1\": 4, \"yref\": \"y\"}, {\"line\": {\"color\": \"black\", \"width\": 3}, \"type\": \"line\", \"x0\": 10, \"x1\": 10, \"xref\": \"x\", \"y0\": 3, \"y1\": 4, \"yref\": \"y\"}, {\"line\": {\"color\": \"black\", \"width\": 3}, \"type\": \"line\", \"x0\": 12, \"x1\": 12, \"xref\": \"x\", \"y0\": 3, \"y1\": 4, \"yref\": \"y\"}, {\"line\": {\"color\": \"black\", \"width\": 3}, \"type\": \"line\", \"x0\": 11, \"x1\": 12, \"xref\": \"x\", \"y0\": 4, \"y1\": 4, \"yref\": \"y\"}, {\"line\": {\"color\": \"black\", \"width\": 3}, \"type\": \"line\", \"x0\": 12, \"x1\": 12, \"xref\": \"x\", \"y0\": 3, \"y1\": 4, \"yref\": \"y\"}, {\"line\": {\"color\": \"black\", \"width\": 3}, \"type\": \"line\", \"x0\": 13, \"x1\": 14, \"xref\": \"x\", \"y0\": 3, \"y1\": 3, \"yref\": \"y\"}, {\"line\": {\"color\": \"black\", \"width\": 3}, \"type\": \"line\", \"x0\": 14, \"x1\": 14, \"xref\": \"x\", \"y0\": 3, \"y1\": 4, \"yref\": \"y\"}, {\"line\": {\"color\": \"black\", \"width\": 3}, \"type\": \"line\", \"x0\": 14, \"x1\": 15, \"xref\": \"x\", \"y0\": 3, \"y1\": 3, \"yref\": \"y\"}, {\"line\": {\"color\": \"black\", \"width\": 3}, \"type\": \"line\", \"x0\": 14, \"x1\": 14, \"xref\": \"x\", \"y0\": 3, \"y1\": 4, \"yref\": \"y\"}, {\"line\": {\"color\": \"black\", \"width\": 3}, \"type\": \"line\", \"x0\": 16, \"x1\": 16, \"xref\": \"x\", \"y0\": 3, \"y1\": 4, \"yref\": \"y\"}, {\"line\": {\"color\": \"black\", \"width\": 3}, \"type\": \"line\", \"x0\": 15, \"x1\": 16, \"xref\": \"x\", \"y0\": 4, \"y1\": 4, \"yref\": \"y\"}, {\"line\": {\"color\": \"black\", \"width\": 3}, \"type\": \"line\", \"x0\": 0, \"x1\": 1, \"xref\": \"x\", \"y0\": 4, \"y1\": 4, \"yref\": \"y\"}, {\"line\": {\"color\": \"black\", \"width\": 3}, \"type\": \"line\", \"x0\": 0, \"x1\": 0, \"xref\": \"x\", \"y0\": 4, \"y1\": 5, \"yref\": \"y\"}, {\"line\": {\"color\": \"black\", \"width\": 3}, \"type\": \"line\", \"x0\": 1, \"x1\": 2, \"xref\": \"x\", \"y0\": 5, \"y1\": 5, \"yref\": \"y\"}, {\"line\": {\"color\": \"black\", \"width\": 3}, \"type\": \"line\", \"x0\": 2, \"x1\": 3, \"xref\": \"x\", \"y0\": 4, \"y1\": 4, \"yref\": \"y\"}, {\"line\": {\"color\": \"black\", \"width\": 3}, \"type\": \"line\", \"x0\": 2, \"x1\": 3, \"xref\": \"x\", \"y0\": 5, \"y1\": 5, \"yref\": \"y\"}, {\"line\": {\"color\": \"black\", \"width\": 3}, \"type\": \"line\", \"x0\": 3, \"x1\": 4, \"xref\": \"x\", \"y0\": 4, \"y1\": 4, \"yref\": \"y\"}, {\"line\": {\"color\": \"black\", \"width\": 3}, \"type\": \"line\", \"x0\": 3, \"x1\": 4, \"xref\": \"x\", \"y0\": 5, \"y1\": 5, \"yref\": \"y\"}, {\"line\": {\"color\": \"black\", \"width\": 3}, \"type\": \"line\", \"x0\": 4, \"x1\": 5, \"xref\": \"x\", \"y0\": 4, \"y1\": 4, \"yref\": \"y\"}, {\"line\": {\"color\": \"black\", \"width\": 3}, \"type\": \"line\", \"x0\": 5, \"x1\": 5, \"xref\": \"x\", \"y0\": 4, \"y1\": 5, \"yref\": \"y\"}, {\"line\": {\"color\": \"black\", \"width\": 3}, \"type\": \"line\", \"x0\": 5, \"x1\": 6, \"xref\": \"x\", \"y0\": 4, \"y1\": 4, \"yref\": \"y\"}, {\"line\": {\"color\": \"black\", \"width\": 3}, \"type\": \"line\", \"x0\": 5, \"x1\": 5, \"xref\": \"x\", \"y0\": 4, \"y1\": 5, \"yref\": \"y\"}, {\"line\": {\"color\": \"black\", \"width\": 3}, \"type\": \"line\", \"x0\": 6, \"x1\": 7, \"xref\": \"x\", \"y0\": 4, \"y1\": 4, \"yref\": \"y\"}, {\"line\": {\"color\": \"black\", \"width\": 3}, \"type\": \"line\", \"x0\": 6, \"x1\": 7, \"xref\": \"x\", \"y0\": 5, \"y1\": 5, \"yref\": \"y\"}, {\"line\": {\"color\": \"black\", \"width\": 3}, \"type\": \"line\", \"x0\": 8, \"x1\": 8, \"xref\": \"x\", \"y0\": 4, \"y1\": 5, \"yref\": \"y\"}, {\"line\": {\"color\": \"black\", \"width\": 3}, \"type\": \"line\", \"x0\": 7, \"x1\": 8, \"xref\": \"x\", \"y0\": 5, \"y1\": 5, \"yref\": \"y\"}, {\"line\": {\"color\": \"black\", \"width\": 3}, \"type\": \"line\", \"x0\": 9, \"x1\": 9, \"xref\": \"x\", \"y0\": 4, \"y1\": 5, \"yref\": \"y\"}, {\"line\": {\"color\": \"black\", \"width\": 3}, \"type\": \"line\", \"x0\": 8, \"x1\": 9, \"xref\": \"x\", \"y0\": 5, \"y1\": 5, \"yref\": \"y\"}, {\"line\": {\"color\": \"black\", \"width\": 3}, \"type\": \"line\", \"x0\": 8, \"x1\": 8, \"xref\": \"x\", \"y0\": 4, \"y1\": 5, \"yref\": \"y\"}, {\"line\": {\"color\": \"black\", \"width\": 3}, \"type\": \"line\", \"x0\": 9, \"x1\": 10, \"xref\": \"x\", \"y0\": 5, \"y1\": 5, \"yref\": \"y\"}, {\"line\": {\"color\": \"black\", \"width\": 3}, \"type\": \"line\", \"x0\": 9, \"x1\": 9, \"xref\": \"x\", \"y0\": 4, \"y1\": 5, \"yref\": \"y\"}, {\"line\": {\"color\": \"black\", \"width\": 3}, \"type\": \"line\", \"x0\": 10, \"x1\": 11, \"xref\": \"x\", \"y0\": 4, \"y1\": 4, \"yref\": \"y\"}, {\"line\": {\"color\": \"black\", \"width\": 3}, \"type\": \"line\", \"x0\": 11, \"x1\": 11, \"xref\": \"x\", \"y0\": 4, \"y1\": 5, \"yref\": \"y\"}, {\"line\": {\"color\": \"black\", \"width\": 3}, \"type\": \"line\", \"x0\": 11, \"x1\": 12, \"xref\": \"x\", \"y0\": 4, \"y1\": 4, \"yref\": \"y\"}, {\"line\": {\"color\": \"black\", \"width\": 3}, \"type\": \"line\", \"x0\": 11, \"x1\": 11, \"xref\": \"x\", \"y0\": 4, \"y1\": 5, \"yref\": \"y\"}, {\"line\": {\"color\": \"black\", \"width\": 3}, \"type\": \"line\", \"x0\": 13, \"x1\": 13, \"xref\": \"x\", \"y0\": 4, \"y1\": 5, \"yref\": \"y\"}, {\"line\": {\"color\": \"black\", \"width\": 3}, \"type\": \"line\", \"x0\": 12, \"x1\": 13, \"xref\": \"x\", \"y0\": 5, \"y1\": 5, \"yref\": \"y\"}, {\"line\": {\"color\": \"black\", \"width\": 3}, \"type\": \"line\", \"x0\": 14, \"x1\": 14, \"xref\": \"x\", \"y0\": 4, \"y1\": 5, \"yref\": \"y\"}, {\"line\": {\"color\": \"black\", \"width\": 3}, \"type\": \"line\", \"x0\": 13, \"x1\": 13, \"xref\": \"x\", \"y0\": 4, \"y1\": 5, \"yref\": \"y\"}, {\"line\": {\"color\": \"black\", \"width\": 3}, \"type\": \"line\", \"x0\": 15, \"x1\": 15, \"xref\": \"x\", \"y0\": 4, \"y1\": 5, \"yref\": \"y\"}, {\"line\": {\"color\": \"black\", \"width\": 3}, \"type\": \"line\", \"x0\": 14, \"x1\": 14, \"xref\": \"x\", \"y0\": 4, \"y1\": 5, \"yref\": \"y\"}, {\"line\": {\"color\": \"black\", \"width\": 3}, \"type\": \"line\", \"x0\": 15, \"x1\": 16, \"xref\": \"x\", \"y0\": 4, \"y1\": 4, \"yref\": \"y\"}, {\"line\": {\"color\": \"black\", \"width\": 3}, \"type\": \"line\", \"x0\": 16, \"x1\": 16, \"xref\": \"x\", \"y0\": 4, \"y1\": 5, \"yref\": \"y\"}, {\"line\": {\"color\": \"black\", \"width\": 3}, \"type\": \"line\", \"x0\": 15, \"x1\": 15, \"xref\": \"x\", \"y0\": 4, \"y1\": 5, \"yref\": \"y\"}, {\"line\": {\"color\": \"black\", \"width\": 3}, \"type\": \"line\", \"x0\": 0, \"x1\": 1, \"xref\": \"x\", \"y0\": 6, \"y1\": 6, \"yref\": \"y\"}, {\"line\": {\"color\": \"black\", \"width\": 3}, \"type\": \"line\", \"x0\": 0, \"x1\": 0, \"xref\": \"x\", \"y0\": 5, \"y1\": 6, \"yref\": \"y\"}, {\"line\": {\"color\": \"black\", \"width\": 3}, \"type\": \"line\", \"x0\": 1, \"x1\": 2, \"xref\": \"x\", \"y0\": 5, \"y1\": 5, \"yref\": \"y\"}, {\"line\": {\"color\": \"black\", \"width\": 3}, \"type\": \"line\", \"x0\": 2, \"x1\": 2, \"xref\": \"x\", \"y0\": 5, \"y1\": 6, \"yref\": \"y\"}, {\"line\": {\"color\": \"black\", \"width\": 3}, \"type\": \"line\", \"x0\": 2, \"x1\": 3, \"xref\": \"x\", \"y0\": 5, \"y1\": 5, \"yref\": \"y\"}, {\"line\": {\"color\": \"black\", \"width\": 3}, \"type\": \"line\", \"x0\": 3, \"x1\": 3, \"xref\": \"x\", \"y0\": 5, \"y1\": 6, \"yref\": \"y\"}, {\"line\": {\"color\": \"black\", \"width\": 3}, \"type\": \"line\", \"x0\": 2, \"x1\": 2, \"xref\": \"x\", \"y0\": 5, \"y1\": 6, \"yref\": \"y\"}, {\"line\": {\"color\": \"black\", \"width\": 3}, \"type\": \"line\", \"x0\": 3, \"x1\": 4, \"xref\": \"x\", \"y0\": 5, \"y1\": 5, \"yref\": \"y\"}, {\"line\": {\"color\": \"black\", \"width\": 3}, \"type\": \"line\", \"x0\": 3, \"x1\": 3, \"xref\": \"x\", \"y0\": 5, \"y1\": 6, \"yref\": \"y\"}, {\"line\": {\"color\": \"black\", \"width\": 3}, \"type\": \"line\", \"x0\": 5, \"x1\": 5, \"xref\": \"x\", \"y0\": 5, \"y1\": 6, \"yref\": \"y\"}, {\"line\": {\"color\": \"black\", \"width\": 3}, \"type\": \"line\", \"x0\": 4, \"x1\": 5, \"xref\": \"x\", \"y0\": 6, \"y1\": 6, \"yref\": \"y\"}, {\"line\": {\"color\": \"black\", \"width\": 3}, \"type\": \"line\", \"x0\": 6, \"x1\": 6, \"xref\": \"x\", \"y0\": 5, \"y1\": 6, \"yref\": \"y\"}, {\"line\": {\"color\": \"black\", \"width\": 3}, \"type\": \"line\", \"x0\": 5, \"x1\": 5, \"xref\": \"x\", \"y0\": 5, \"y1\": 6, \"yref\": \"y\"}, {\"line\": {\"color\": \"black\", \"width\": 3}, \"type\": \"line\", \"x0\": 6, \"x1\": 7, \"xref\": \"x\", \"y0\": 5, \"y1\": 5, \"yref\": \"y\"}, {\"line\": {\"color\": \"black\", \"width\": 3}, \"type\": \"line\", \"x0\": 6, \"x1\": 7, \"xref\": \"x\", \"y0\": 6, \"y1\": 6, \"yref\": \"y\"}, {\"line\": {\"color\": \"black\", \"width\": 3}, \"type\": \"line\", \"x0\": 6, \"x1\": 6, \"xref\": \"x\", \"y0\": 5, \"y1\": 6, \"yref\": \"y\"}, {\"line\": {\"color\": \"black\", \"width\": 3}, \"type\": \"line\", \"x0\": 7, \"x1\": 8, \"xref\": \"x\", \"y0\": 5, \"y1\": 5, \"yref\": \"y\"}, {\"line\": {\"color\": \"black\", \"width\": 3}, \"type\": \"line\", \"x0\": 7, \"x1\": 8, \"xref\": \"x\", \"y0\": 6, \"y1\": 6, \"yref\": \"y\"}, {\"line\": {\"color\": \"black\", \"width\": 3}, \"type\": \"line\", \"x0\": 8, \"x1\": 9, \"xref\": \"x\", \"y0\": 5, \"y1\": 5, \"yref\": \"y\"}, {\"line\": {\"color\": \"black\", \"width\": 3}, \"type\": \"line\", \"x0\": 9, \"x1\": 10, \"xref\": \"x\", \"y0\": 5, \"y1\": 5, \"yref\": \"y\"}, {\"line\": {\"color\": \"black\", \"width\": 3}, \"type\": \"line\", \"x0\": 9, \"x1\": 10, \"xref\": \"x\", \"y0\": 6, \"y1\": 6, \"yref\": \"y\"}, {\"line\": {\"color\": \"black\", \"width\": 3}, \"type\": \"line\", \"x0\": 11, \"x1\": 11, \"xref\": \"x\", \"y0\": 5, \"y1\": 6, \"yref\": \"y\"}, {\"line\": {\"color\": \"black\", \"width\": 3}, \"type\": \"line\", \"x0\": 10, \"x1\": 11, \"xref\": \"x\", \"y0\": 6, \"y1\": 6, \"yref\": \"y\"}, {\"line\": {\"color\": \"black\", \"width\": 3}, \"type\": \"line\", \"x0\": 12, \"x1\": 12, \"xref\": \"x\", \"y0\": 5, \"y1\": 6, \"yref\": \"y\"}, {\"line\": {\"color\": \"black\", \"width\": 3}, \"type\": \"line\", \"x0\": 11, \"x1\": 12, \"xref\": \"x\", \"y0\": 6, \"y1\": 6, \"yref\": \"y\"}, {\"line\": {\"color\": \"black\", \"width\": 3}, \"type\": \"line\", \"x0\": 11, \"x1\": 11, \"xref\": \"x\", \"y0\": 5, \"y1\": 6, \"yref\": \"y\"}, {\"line\": {\"color\": \"black\", \"width\": 3}, \"type\": \"line\", \"x0\": 12, \"x1\": 13, \"xref\": \"x\", \"y0\": 5, \"y1\": 5, \"yref\": \"y\"}, {\"line\": {\"color\": \"black\", \"width\": 3}, \"type\": \"line\", \"x0\": 12, \"x1\": 12, \"xref\": \"x\", \"y0\": 5, \"y1\": 6, \"yref\": \"y\"}, {\"line\": {\"color\": \"black\", \"width\": 3}, \"type\": \"line\", \"x0\": 14, \"x1\": 14, \"xref\": \"x\", \"y0\": 5, \"y1\": 6, \"yref\": \"y\"}, {\"line\": {\"color\": \"black\", \"width\": 3}, \"type\": \"line\", \"x0\": 15, \"x1\": 15, \"xref\": \"x\", \"y0\": 5, \"y1\": 6, \"yref\": \"y\"}, {\"line\": {\"color\": \"black\", \"width\": 3}, \"type\": \"line\", \"x0\": 14, \"x1\": 14, \"xref\": \"x\", \"y0\": 5, \"y1\": 6, \"yref\": \"y\"}, {\"line\": {\"color\": \"black\", \"width\": 3}, \"type\": \"line\", \"x0\": 16, \"x1\": 16, \"xref\": \"x\", \"y0\": 5, \"y1\": 6, \"yref\": \"y\"}, {\"line\": {\"color\": \"black\", \"width\": 3}, \"type\": \"line\", \"x0\": 15, \"x1\": 15, \"xref\": \"x\", \"y0\": 5, \"y1\": 6, \"yref\": \"y\"}, {\"line\": {\"color\": \"black\", \"width\": 3}, \"type\": \"line\", \"x0\": 0, \"x1\": 1, \"xref\": \"x\", \"y0\": 6, \"y1\": 6, \"yref\": \"y\"}, {\"line\": {\"color\": \"black\", \"width\": 3}, \"type\": \"line\", \"x0\": 0, \"x1\": 0, \"xref\": \"x\", \"y0\": 6, \"y1\": 7, \"yref\": \"y\"}, {\"line\": {\"color\": \"black\", \"width\": 3}, \"type\": \"line\", \"x0\": 2, \"x1\": 2, \"xref\": \"x\", \"y0\": 6, \"y1\": 7, \"yref\": \"y\"}, {\"line\": {\"color\": \"black\", \"width\": 3}, \"type\": \"line\", \"x0\": 1, \"x1\": 2, \"xref\": \"x\", \"y0\": 7, \"y1\": 7, \"yref\": \"y\"}, {\"line\": {\"color\": \"black\", \"width\": 3}, \"type\": \"line\", \"x0\": 2, \"x1\": 3, \"xref\": \"x\", \"y0\": 7, \"y1\": 7, \"yref\": \"y\"}, {\"line\": {\"color\": \"black\", \"width\": 3}, \"type\": \"line\", \"x0\": 2, \"x1\": 2, \"xref\": \"x\", \"y0\": 6, \"y1\": 7, \"yref\": \"y\"}, {\"line\": {\"color\": \"black\", \"width\": 3}, \"type\": \"line\", \"x0\": 4, \"x1\": 5, \"xref\": \"x\", \"y0\": 6, \"y1\": 6, \"yref\": \"y\"}, {\"line\": {\"color\": \"black\", \"width\": 3}, \"type\": \"line\", \"x0\": 5, \"x1\": 5, \"xref\": \"x\", \"y0\": 6, \"y1\": 7, \"yref\": \"y\"}, {\"line\": {\"color\": \"black\", \"width\": 3}, \"type\": \"line\", \"x0\": 4, \"x1\": 5, \"xref\": \"x\", \"y0\": 7, \"y1\": 7, \"yref\": \"y\"}, {\"line\": {\"color\": \"black\", \"width\": 3}, \"type\": \"line\", \"x0\": 6, \"x1\": 6, \"xref\": \"x\", \"y0\": 6, \"y1\": 7, \"yref\": \"y\"}, {\"line\": {\"color\": \"black\", \"width\": 3}, \"type\": \"line\", \"x0\": 5, \"x1\": 5, \"xref\": \"x\", \"y0\": 6, \"y1\": 7, \"yref\": \"y\"}, {\"line\": {\"color\": \"black\", \"width\": 3}, \"type\": \"line\", \"x0\": 6, \"x1\": 7, \"xref\": \"x\", \"y0\": 6, \"y1\": 6, \"yref\": \"y\"}, {\"line\": {\"color\": \"black\", \"width\": 3}, \"type\": \"line\", \"x0\": 6, \"x1\": 6, \"xref\": \"x\", \"y0\": 6, \"y1\": 7, \"yref\": \"y\"}, {\"line\": {\"color\": \"black\", \"width\": 3}, \"type\": \"line\", \"x0\": 7, \"x1\": 8, \"xref\": \"x\", \"y0\": 6, \"y1\": 6, \"yref\": \"y\"}, {\"line\": {\"color\": \"black\", \"width\": 3}, \"type\": \"line\", \"x0\": 9, \"x1\": 9, \"xref\": \"x\", \"y0\": 6, \"y1\": 7, \"yref\": \"y\"}, {\"line\": {\"color\": \"black\", \"width\": 3}, \"type\": \"line\", \"x0\": 8, \"x1\": 9, \"xref\": \"x\", \"y0\": 7, \"y1\": 7, \"yref\": \"y\"}, {\"line\": {\"color\": \"black\", \"width\": 3}, \"type\": \"line\", \"x0\": 9, \"x1\": 10, \"xref\": \"x\", \"y0\": 6, \"y1\": 6, \"yref\": \"y\"}, {\"line\": {\"color\": \"black\", \"width\": 3}, \"type\": \"line\", \"x0\": 9, \"x1\": 9, \"xref\": \"x\", \"y0\": 6, \"y1\": 7, \"yref\": \"y\"}, {\"line\": {\"color\": \"black\", \"width\": 3}, \"type\": \"line\", \"x0\": 10, \"x1\": 11, \"xref\": \"x\", \"y0\": 6, \"y1\": 6, \"yref\": \"y\"}, {\"line\": {\"color\": \"black\", \"width\": 3}, \"type\": \"line\", \"x0\": 10, \"x1\": 11, \"xref\": \"x\", \"y0\": 7, \"y1\": 7, \"yref\": \"y\"}, {\"line\": {\"color\": \"black\", \"width\": 3}, \"type\": \"line\", \"x0\": 11, \"x1\": 12, \"xref\": \"x\", \"y0\": 6, \"y1\": 6, \"yref\": \"y\"}, {\"line\": {\"color\": \"black\", \"width\": 3}, \"type\": \"line\", \"x0\": 13, \"x1\": 13, \"xref\": \"x\", \"y0\": 6, \"y1\": 7, \"yref\": \"y\"}, {\"line\": {\"color\": \"black\", \"width\": 3}, \"type\": \"line\", \"x0\": 12, \"x1\": 13, \"xref\": \"x\", \"y0\": 7, \"y1\": 7, \"yref\": \"y\"}, {\"line\": {\"color\": \"black\", \"width\": 3}, \"type\": \"line\", \"x0\": 14, \"x1\": 14, \"xref\": \"x\", \"y0\": 6, \"y1\": 7, \"yref\": \"y\"}, {\"line\": {\"color\": \"black\", \"width\": 3}, \"type\": \"line\", \"x0\": 13, \"x1\": 14, \"xref\": \"x\", \"y0\": 7, \"y1\": 7, \"yref\": \"y\"}, {\"line\": {\"color\": \"black\", \"width\": 3}, \"type\": \"line\", \"x0\": 13, \"x1\": 13, \"xref\": \"x\", \"y0\": 6, \"y1\": 7, \"yref\": \"y\"}, {\"line\": {\"color\": \"black\", \"width\": 3}, \"type\": \"line\", \"x0\": 15, \"x1\": 15, \"xref\": \"x\", \"y0\": 6, \"y1\": 7, \"yref\": \"y\"}, {\"line\": {\"color\": \"black\", \"width\": 3}, \"type\": \"line\", \"x0\": 14, \"x1\": 14, \"xref\": \"x\", \"y0\": 6, \"y1\": 7, \"yref\": \"y\"}, {\"line\": {\"color\": \"black\", \"width\": 3}, \"type\": \"line\", \"x0\": 16, \"x1\": 16, \"xref\": \"x\", \"y0\": 6, \"y1\": 7, \"yref\": \"y\"}, {\"line\": {\"color\": \"black\", \"width\": 3}, \"type\": \"line\", \"x0\": 15, \"x1\": 15, \"xref\": \"x\", \"y0\": 6, \"y1\": 7, \"yref\": \"y\"}, {\"line\": {\"color\": \"black\", \"width\": 3}, \"type\": \"line\", \"x0\": 0, \"x1\": 0, \"xref\": \"x\", \"y0\": 7, \"y1\": 8, \"yref\": \"y\"}, {\"line\": {\"color\": \"black\", \"width\": 3}, \"type\": \"line\", \"x0\": 1, \"x1\": 2, \"xref\": \"x\", \"y0\": 7, \"y1\": 7, \"yref\": \"y\"}, {\"line\": {\"color\": \"black\", \"width\": 3}, \"type\": \"line\", \"x0\": 1, \"x1\": 2, \"xref\": \"x\", \"y0\": 8, \"y1\": 8, \"yref\": \"y\"}, {\"line\": {\"color\": \"black\", \"width\": 3}, \"type\": \"line\", \"x0\": 2, \"x1\": 3, \"xref\": \"x\", \"y0\": 7, \"y1\": 7, \"yref\": \"y\"}, {\"line\": {\"color\": \"black\", \"width\": 3}, \"type\": \"line\", \"x0\": 3, \"x1\": 3, \"xref\": \"x\", \"y0\": 7, \"y1\": 8, \"yref\": \"y\"}, {\"line\": {\"color\": \"black\", \"width\": 3}, \"type\": \"line\", \"x0\": 4, \"x1\": 4, \"xref\": \"x\", \"y0\": 7, \"y1\": 8, \"yref\": \"y\"}, {\"line\": {\"color\": \"black\", \"width\": 3}, \"type\": \"line\", \"x0\": 3, \"x1\": 4, \"xref\": \"x\", \"y0\": 8, \"y1\": 8, \"yref\": \"y\"}, {\"line\": {\"color\": \"black\", \"width\": 3}, \"type\": \"line\", \"x0\": 3, \"x1\": 3, \"xref\": \"x\", \"y0\": 7, \"y1\": 8, \"yref\": \"y\"}, {\"line\": {\"color\": \"black\", \"width\": 3}, \"type\": \"line\", \"x0\": 4, \"x1\": 5, \"xref\": \"x\", \"y0\": 7, \"y1\": 7, \"yref\": \"y\"}, {\"line\": {\"color\": \"black\", \"width\": 3}, \"type\": \"line\", \"x0\": 4, \"x1\": 4, \"xref\": \"x\", \"y0\": 7, \"y1\": 8, \"yref\": \"y\"}, {\"line\": {\"color\": \"black\", \"width\": 3}, \"type\": \"line\", \"x0\": 6, \"x1\": 6, \"xref\": \"x\", \"y0\": 7, \"y1\": 8, \"yref\": \"y\"}, {\"line\": {\"color\": \"black\", \"width\": 3}, \"type\": \"line\", \"x0\": 5, \"x1\": 6, \"xref\": \"x\", \"y0\": 8, \"y1\": 8, \"yref\": \"y\"}, {\"line\": {\"color\": \"black\", \"width\": 3}, \"type\": \"line\", \"x0\": 7, \"x1\": 7, \"xref\": \"x\", \"y0\": 7, \"y1\": 8, \"yref\": \"y\"}, {\"line\": {\"color\": \"black\", \"width\": 3}, \"type\": \"line\", \"x0\": 6, \"x1\": 6, \"xref\": \"x\", \"y0\": 7, \"y1\": 8, \"yref\": \"y\"}, {\"fillcolor\": \"red\", \"line\": {\"width\": 0}, \"opacity\": 0.2, \"type\": \"rect\", \"x0\": 7, \"x1\": 8, \"xref\": \"x\", \"y0\": 7, \"y1\": 8, \"yref\": \"y\"}, {\"line\": {\"color\": \"black\", \"width\": 3}, \"type\": \"line\", \"x0\": 7, \"x1\": 7, \"xref\": \"x\", \"y0\": 7, \"y1\": 8, \"yref\": \"y\"}, {\"fillcolor\": \"red\", \"line\": {\"width\": 0}, \"opacity\": 0.2, \"type\": \"rect\", \"x0\": 8, \"x1\": 9, \"xref\": \"x\", \"y0\": 7, \"y1\": 8, \"yref\": \"y\"}, {\"line\": {\"color\": \"black\", \"width\": 3}, \"type\": \"line\", \"x0\": 8, \"x1\": 9, \"xref\": \"x\", \"y0\": 7, \"y1\": 7, \"yref\": \"y\"}, {\"line\": {\"color\": \"black\", \"width\": 3}, \"type\": \"line\", \"x0\": 9, \"x1\": 9, \"xref\": \"x\", \"y0\": 7, \"y1\": 8, \"yref\": \"y\"}, {\"line\": {\"color\": \"black\", \"width\": 3}, \"type\": \"line\", \"x0\": 10, \"x1\": 10, \"xref\": \"x\", \"y0\": 7, \"y1\": 8, \"yref\": \"y\"}, {\"line\": {\"color\": \"black\", \"width\": 3}, \"type\": \"line\", \"x0\": 9, \"x1\": 9, \"xref\": \"x\", \"y0\": 7, \"y1\": 8, \"yref\": \"y\"}, {\"line\": {\"color\": \"black\", \"width\": 3}, \"type\": \"line\", \"x0\": 10, \"x1\": 11, \"xref\": \"x\", \"y0\": 7, \"y1\": 7, \"yref\": \"y\"}, {\"line\": {\"color\": \"black\", \"width\": 3}, \"type\": \"line\", \"x0\": 11, \"x1\": 11, \"xref\": \"x\", \"y0\": 7, \"y1\": 8, \"yref\": \"y\"}, {\"line\": {\"color\": \"black\", \"width\": 3}, \"type\": \"line\", \"x0\": 10, \"x1\": 10, \"xref\": \"x\", \"y0\": 7, \"y1\": 8, \"yref\": \"y\"}, {\"line\": {\"color\": \"black\", \"width\": 3}, \"type\": \"line\", \"x0\": 11, \"x1\": 12, \"xref\": \"x\", \"y0\": 8, \"y1\": 8, \"yref\": \"y\"}, {\"line\": {\"color\": \"black\", \"width\": 3}, \"type\": \"line\", \"x0\": 11, \"x1\": 11, \"xref\": \"x\", \"y0\": 7, \"y1\": 8, \"yref\": \"y\"}, {\"line\": {\"color\": \"black\", \"width\": 3}, \"type\": \"line\", \"x0\": 12, \"x1\": 13, \"xref\": \"x\", \"y0\": 7, \"y1\": 7, \"yref\": \"y\"}, {\"line\": {\"color\": \"black\", \"width\": 3}, \"type\": \"line\", \"x0\": 12, \"x1\": 13, \"xref\": \"x\", \"y0\": 8, \"y1\": 8, \"yref\": \"y\"}, {\"line\": {\"color\": \"black\", \"width\": 3}, \"type\": \"line\", \"x0\": 13, \"x1\": 14, \"xref\": \"x\", \"y0\": 7, \"y1\": 7, \"yref\": \"y\"}, {\"line\": {\"color\": \"black\", \"width\": 3}, \"type\": \"line\", \"x0\": 14, \"x1\": 14, \"xref\": \"x\", \"y0\": 7, \"y1\": 8, \"yref\": \"y\"}, {\"line\": {\"color\": \"black\", \"width\": 3}, \"type\": \"line\", \"x0\": 14, \"x1\": 15, \"xref\": \"x\", \"y0\": 8, \"y1\": 8, \"yref\": \"y\"}, {\"line\": {\"color\": \"black\", \"width\": 3}, \"type\": \"line\", \"x0\": 14, \"x1\": 14, \"xref\": \"x\", \"y0\": 7, \"y1\": 8, \"yref\": \"y\"}, {\"line\": {\"color\": \"black\", \"width\": 3}, \"type\": \"line\", \"x0\": 16, \"x1\": 16, \"xref\": \"x\", \"y0\": 7, \"y1\": 8, \"yref\": \"y\"}, {\"line\": {\"color\": \"black\", \"width\": 3}, \"type\": \"line\", \"x0\": 0, \"x1\": 1, \"xref\": \"x\", \"y0\": 9, \"y1\": 9, \"yref\": \"y\"}, {\"line\": {\"color\": \"black\", \"width\": 3}, \"type\": \"line\", \"x0\": 0, \"x1\": 0, \"xref\": \"x\", \"y0\": 8, \"y1\": 9, \"yref\": \"y\"}, {\"line\": {\"color\": \"black\", \"width\": 3}, \"type\": \"line\", \"x0\": 1, \"x1\": 2, \"xref\": \"x\", \"y0\": 8, \"y1\": 8, \"yref\": \"y\"}, {\"line\": {\"color\": \"black\", \"width\": 3}, \"type\": \"line\", \"x0\": 2, \"x1\": 2, \"xref\": \"x\", \"y0\": 8, \"y1\": 9, \"yref\": \"y\"}, {\"line\": {\"color\": \"black\", \"width\": 3}, \"type\": \"line\", \"x0\": 1, \"x1\": 2, \"xref\": \"x\", \"y0\": 9, \"y1\": 9, \"yref\": \"y\"}, {\"line\": {\"color\": \"black\", \"width\": 3}, \"type\": \"line\", \"x0\": 3, \"x1\": 3, \"xref\": \"x\", \"y0\": 8, \"y1\": 9, \"yref\": \"y\"}, {\"line\": {\"color\": \"black\", \"width\": 3}, \"type\": \"line\", \"x0\": 2, \"x1\": 2, \"xref\": \"x\", \"y0\": 8, \"y1\": 9, \"yref\": \"y\"}, {\"line\": {\"color\": \"black\", \"width\": 3}, \"type\": \"line\", \"x0\": 3, \"x1\": 4, \"xref\": \"x\", \"y0\": 8, \"y1\": 8, \"yref\": \"y\"}, {\"line\": {\"color\": \"black\", \"width\": 3}, \"type\": \"line\", \"x0\": 3, \"x1\": 3, \"xref\": \"x\", \"y0\": 8, \"y1\": 9, \"yref\": \"y\"}, {\"line\": {\"color\": \"black\", \"width\": 3}, \"type\": \"line\", \"x0\": 5, \"x1\": 5, \"xref\": \"x\", \"y0\": 8, \"y1\": 9, \"yref\": \"y\"}, {\"line\": {\"color\": \"black\", \"width\": 3}, \"type\": \"line\", \"x0\": 4, \"x1\": 5, \"xref\": \"x\", \"y0\": 9, \"y1\": 9, \"yref\": \"y\"}, {\"line\": {\"color\": \"black\", \"width\": 3}, \"type\": \"line\", \"x0\": 5, \"x1\": 6, \"xref\": \"x\", \"y0\": 8, \"y1\": 8, \"yref\": \"y\"}, {\"line\": {\"color\": \"black\", \"width\": 3}, \"type\": \"line\", \"x0\": 5, \"x1\": 5, \"xref\": \"x\", \"y0\": 8, \"y1\": 9, \"yref\": \"y\"}, {\"line\": {\"color\": \"black\", \"width\": 3}, \"type\": \"line\", \"x0\": 7, \"x1\": 7, \"xref\": \"x\", \"y0\": 8, \"y1\": 9, \"yref\": \"y\"}, {\"line\": {\"color\": \"black\", \"width\": 3}, \"type\": \"line\", \"x0\": 6, \"x1\": 7, \"xref\": \"x\", \"y0\": 9, \"y1\": 9, \"yref\": \"y\"}, {\"fillcolor\": \"red\", \"line\": {\"width\": 0}, \"opacity\": 0.2, \"type\": \"rect\", \"x0\": 7, \"x1\": 8, \"xref\": \"x\", \"y0\": 8, \"y1\": 9, \"yref\": \"y\"}, {\"line\": {\"color\": \"black\", \"width\": 3}, \"type\": \"line\", \"x0\": 7, \"x1\": 8, \"xref\": \"x\", \"y0\": 9, \"y1\": 9, \"yref\": \"y\"}, {\"line\": {\"color\": \"black\", \"width\": 3}, \"type\": \"line\", \"x0\": 7, \"x1\": 7, \"xref\": \"x\", \"y0\": 8, \"y1\": 9, \"yref\": \"y\"}, {\"fillcolor\": \"red\", \"line\": {\"width\": 0}, \"opacity\": 0.2, \"type\": \"rect\", \"x0\": 8, \"x1\": 9, \"xref\": \"x\", \"y0\": 8, \"y1\": 9, \"yref\": \"y\"}, {\"line\": {\"color\": \"black\", \"width\": 3}, \"type\": \"line\", \"x0\": 9, \"x1\": 9, \"xref\": \"x\", \"y0\": 8, \"y1\": 9, \"yref\": \"y\"}, {\"line\": {\"color\": \"black\", \"width\": 3}, \"type\": \"line\", \"x0\": 8, \"x1\": 9, \"xref\": \"x\", \"y0\": 9, \"y1\": 9, \"yref\": \"y\"}, {\"line\": {\"color\": \"black\", \"width\": 3}, \"type\": \"line\", \"x0\": 10, \"x1\": 10, \"xref\": \"x\", \"y0\": 8, \"y1\": 9, \"yref\": \"y\"}, {\"line\": {\"color\": \"black\", \"width\": 3}, \"type\": \"line\", \"x0\": 9, \"x1\": 9, \"xref\": \"x\", \"y0\": 8, \"y1\": 9, \"yref\": \"y\"}, {\"line\": {\"color\": \"black\", \"width\": 3}, \"type\": \"line\", \"x0\": 10, \"x1\": 10, \"xref\": \"x\", \"y0\": 8, \"y1\": 9, \"yref\": \"y\"}, {\"line\": {\"color\": \"black\", \"width\": 3}, \"type\": \"line\", \"x0\": 11, \"x1\": 12, \"xref\": \"x\", \"y0\": 8, \"y1\": 8, \"yref\": \"y\"}, {\"line\": {\"color\": \"black\", \"width\": 3}, \"type\": \"line\", \"x0\": 12, \"x1\": 12, \"xref\": \"x\", \"y0\": 8, \"y1\": 9, \"yref\": \"y\"}, {\"line\": {\"color\": \"black\", \"width\": 3}, \"type\": \"line\", \"x0\": 12, \"x1\": 13, \"xref\": \"x\", \"y0\": 8, \"y1\": 8, \"yref\": \"y\"}, {\"line\": {\"color\": \"black\", \"width\": 3}, \"type\": \"line\", \"x0\": 13, \"x1\": 13, \"xref\": \"x\", \"y0\": 8, \"y1\": 9, \"yref\": \"y\"}, {\"line\": {\"color\": \"black\", \"width\": 3}, \"type\": \"line\", \"x0\": 12, \"x1\": 12, \"xref\": \"x\", \"y0\": 8, \"y1\": 9, \"yref\": \"y\"}, {\"line\": {\"color\": \"black\", \"width\": 3}, \"type\": \"line\", \"x0\": 13, \"x1\": 14, \"xref\": \"x\", \"y0\": 9, \"y1\": 9, \"yref\": \"y\"}, {\"line\": {\"color\": \"black\", \"width\": 3}, \"type\": \"line\", \"x0\": 13, \"x1\": 13, \"xref\": \"x\", \"y0\": 8, \"y1\": 9, \"yref\": \"y\"}, {\"line\": {\"color\": \"black\", \"width\": 3}, \"type\": \"line\", \"x0\": 14, \"x1\": 15, \"xref\": \"x\", \"y0\": 8, \"y1\": 8, \"yref\": \"y\"}, {\"line\": {\"color\": \"black\", \"width\": 3}, \"type\": \"line\", \"x0\": 15, \"x1\": 15, \"xref\": \"x\", \"y0\": 8, \"y1\": 9, \"yref\": \"y\"}, {\"line\": {\"color\": \"black\", \"width\": 3}, \"type\": \"line\", \"x0\": 16, \"x1\": 16, \"xref\": \"x\", \"y0\": 8, \"y1\": 9, \"yref\": \"y\"}, {\"line\": {\"color\": \"black\", \"width\": 3}, \"type\": \"line\", \"x0\": 15, \"x1\": 15, \"xref\": \"x\", \"y0\": 8, \"y1\": 9, \"yref\": \"y\"}, {\"line\": {\"color\": \"black\", \"width\": 3}, \"type\": \"line\", \"x0\": 0, \"x1\": 1, \"xref\": \"x\", \"y0\": 9, \"y1\": 9, \"yref\": \"y\"}, {\"line\": {\"color\": \"black\", \"width\": 3}, \"type\": \"line\", \"x0\": 0, \"x1\": 0, \"xref\": \"x\", \"y0\": 9, \"y1\": 10, \"yref\": \"y\"}, {\"line\": {\"color\": \"black\", \"width\": 3}, \"type\": \"line\", \"x0\": 1, \"x1\": 2, \"xref\": \"x\", \"y0\": 9, \"y1\": 9, \"yref\": \"y\"}, {\"line\": {\"color\": \"black\", \"width\": 3}, \"type\": \"line\", \"x0\": 1, \"x1\": 2, \"xref\": \"x\", \"y0\": 10, \"y1\": 10, \"yref\": \"y\"}, {\"line\": {\"color\": \"black\", \"width\": 3}, \"type\": \"line\", \"x0\": 3, \"x1\": 3, \"xref\": \"x\", \"y0\": 9, \"y1\": 10, \"yref\": \"y\"}, {\"line\": {\"color\": \"black\", \"width\": 3}, \"type\": \"line\", \"x0\": 4, \"x1\": 4, \"xref\": \"x\", \"y0\": 9, \"y1\": 10, \"yref\": \"y\"}, {\"line\": {\"color\": \"black\", \"width\": 3}, \"type\": \"line\", \"x0\": 3, \"x1\": 3, \"xref\": \"x\", \"y0\": 9, \"y1\": 10, \"yref\": \"y\"}, {\"line\": {\"color\": \"black\", \"width\": 3}, \"type\": \"line\", \"x0\": 4, \"x1\": 5, \"xref\": \"x\", \"y0\": 9, \"y1\": 9, \"yref\": \"y\"}, {\"line\": {\"color\": \"black\", \"width\": 3}, \"type\": \"line\", \"x0\": 4, \"x1\": 5, \"xref\": \"x\", \"y0\": 10, \"y1\": 10, \"yref\": \"y\"}, {\"line\": {\"color\": \"black\", \"width\": 3}, \"type\": \"line\", \"x0\": 4, \"x1\": 4, \"xref\": \"x\", \"y0\": 9, \"y1\": 10, \"yref\": \"y\"}, {\"line\": {\"color\": \"black\", \"width\": 3}, \"type\": \"line\", \"x0\": 6, \"x1\": 6, \"xref\": \"x\", \"y0\": 9, \"y1\": 10, \"yref\": \"y\"}, {\"line\": {\"color\": \"black\", \"width\": 3}, \"type\": \"line\", \"x0\": 6, \"x1\": 7, \"xref\": \"x\", \"y0\": 9, \"y1\": 9, \"yref\": \"y\"}, {\"line\": {\"color\": \"black\", \"width\": 3}, \"type\": \"line\", \"x0\": 7, \"x1\": 7, \"xref\": \"x\", \"y0\": 9, \"y1\": 10, \"yref\": \"y\"}, {\"line\": {\"color\": \"black\", \"width\": 3}, \"type\": \"line\", \"x0\": 6, \"x1\": 6, \"xref\": \"x\", \"y0\": 9, \"y1\": 10, \"yref\": \"y\"}, {\"line\": {\"color\": \"black\", \"width\": 3}, \"type\": \"line\", \"x0\": 7, \"x1\": 8, \"xref\": \"x\", \"y0\": 9, \"y1\": 9, \"yref\": \"y\"}, {\"line\": {\"color\": \"black\", \"width\": 3}, \"type\": \"line\", \"x0\": 7, \"x1\": 7, \"xref\": \"x\", \"y0\": 9, \"y1\": 10, \"yref\": \"y\"}, {\"line\": {\"color\": \"black\", \"width\": 3}, \"type\": \"line\", \"x0\": 8, \"x1\": 9, \"xref\": \"x\", \"y0\": 9, \"y1\": 9, \"yref\": \"y\"}, {\"line\": {\"color\": \"black\", \"width\": 3}, \"type\": \"line\", \"x0\": 8, \"x1\": 9, \"xref\": \"x\", \"y0\": 10, \"y1\": 10, \"yref\": \"y\"}, {\"line\": {\"color\": \"black\", \"width\": 3}, \"type\": \"line\", \"x0\": 10, \"x1\": 10, \"xref\": \"x\", \"y0\": 9, \"y1\": 10, \"yref\": \"y\"}, {\"line\": {\"color\": \"black\", \"width\": 3}, \"type\": \"line\", \"x0\": 9, \"x1\": 10, \"xref\": \"x\", \"y0\": 10, \"y1\": 10, \"yref\": \"y\"}, {\"line\": {\"color\": \"black\", \"width\": 3}, \"type\": \"line\", \"x0\": 11, \"x1\": 11, \"xref\": \"x\", \"y0\": 9, \"y1\": 10, \"yref\": \"y\"}, {\"line\": {\"color\": \"black\", \"width\": 3}, \"type\": \"line\", \"x0\": 10, \"x1\": 10, \"xref\": \"x\", \"y0\": 9, \"y1\": 10, \"yref\": \"y\"}, {\"line\": {\"color\": \"black\", \"width\": 3}, \"type\": \"line\", \"x0\": 12, \"x1\": 12, \"xref\": \"x\", \"y0\": 9, \"y1\": 10, \"yref\": \"y\"}, {\"line\": {\"color\": \"black\", \"width\": 3}, \"type\": \"line\", \"x0\": 11, \"x1\": 11, \"xref\": \"x\", \"y0\": 9, \"y1\": 10, \"yref\": \"y\"}, {\"line\": {\"color\": \"black\", \"width\": 3}, \"type\": \"line\", \"x0\": 12, \"x1\": 13, \"xref\": \"x\", \"y0\": 10, \"y1\": 10, \"yref\": \"y\"}, {\"line\": {\"color\": \"black\", \"width\": 3}, \"type\": \"line\", \"x0\": 12, \"x1\": 12, \"xref\": \"x\", \"y0\": 9, \"y1\": 10, \"yref\": \"y\"}, {\"line\": {\"color\": \"black\", \"width\": 3}, \"type\": \"line\", \"x0\": 13, \"x1\": 14, \"xref\": \"x\", \"y0\": 9, \"y1\": 9, \"yref\": \"y\"}, {\"line\": {\"color\": \"black\", \"width\": 3}, \"type\": \"line\", \"x0\": 14, \"x1\": 14, \"xref\": \"x\", \"y0\": 9, \"y1\": 10, \"yref\": \"y\"}, {\"line\": {\"color\": \"black\", \"width\": 3}, \"type\": \"line\", \"x0\": 14, \"x1\": 15, \"xref\": \"x\", \"y0\": 10, \"y1\": 10, \"yref\": \"y\"}, {\"line\": {\"color\": \"black\", \"width\": 3}, \"type\": \"line\", \"x0\": 14, \"x1\": 14, \"xref\": \"x\", \"y0\": 9, \"y1\": 10, \"yref\": \"y\"}, {\"line\": {\"color\": \"black\", \"width\": 3}, \"type\": \"line\", \"x0\": 16, \"x1\": 16, \"xref\": \"x\", \"y0\": 9, \"y1\": 10, \"yref\": \"y\"}, {\"line\": {\"color\": \"black\", \"width\": 3}, \"type\": \"line\", \"x0\": 15, \"x1\": 16, \"xref\": \"x\", \"y0\": 10, \"y1\": 10, \"yref\": \"y\"}, {\"line\": {\"color\": \"black\", \"width\": 3}, \"type\": \"line\", \"x0\": 1, \"x1\": 1, \"xref\": \"x\", \"y0\": 10, \"y1\": 11, \"yref\": \"y\"}, {\"line\": {\"color\": \"black\", \"width\": 3}, \"type\": \"line\", \"x0\": 0, \"x1\": 0, \"xref\": \"x\", \"y0\": 10, \"y1\": 11, \"yref\": \"y\"}, {\"line\": {\"color\": \"black\", \"width\": 3}, \"type\": \"line\", \"x0\": 1, \"x1\": 2, \"xref\": \"x\", \"y0\": 10, \"y1\": 10, \"yref\": \"y\"}, {\"line\": {\"color\": \"black\", \"width\": 3}, \"type\": \"line\", \"x0\": 1, \"x1\": 1, \"xref\": \"x\", \"y0\": 10, \"y1\": 11, \"yref\": \"y\"}, {\"line\": {\"color\": \"black\", \"width\": 3}, \"type\": \"line\", \"x0\": 3, \"x1\": 3, \"xref\": \"x\", \"y0\": 10, \"y1\": 11, \"yref\": \"y\"}, {\"line\": {\"color\": \"black\", \"width\": 3}, \"type\": \"line\", \"x0\": 2, \"x1\": 3, \"xref\": \"x\", \"y0\": 11, \"y1\": 11, \"yref\": \"y\"}, {\"line\": {\"color\": \"black\", \"width\": 3}, \"type\": \"line\", \"x0\": 3, \"x1\": 4, \"xref\": \"x\", \"y0\": 11, \"y1\": 11, \"yref\": \"y\"}, {\"line\": {\"color\": \"black\", \"width\": 3}, \"type\": \"line\", \"x0\": 3, \"x1\": 3, \"xref\": \"x\", \"y0\": 10, \"y1\": 11, \"yref\": \"y\"}, {\"line\": {\"color\": \"black\", \"width\": 3}, \"type\": \"line\", \"x0\": 4, \"x1\": 5, \"xref\": \"x\", \"y0\": 10, \"y1\": 10, \"yref\": \"y\"}, {\"line\": {\"color\": \"black\", \"width\": 3}, \"type\": \"line\", \"x0\": 4, \"x1\": 5, \"xref\": \"x\", \"y0\": 11, \"y1\": 11, \"yref\": \"y\"}, {\"line\": {\"color\": \"black\", \"width\": 3}, \"type\": \"line\", \"x0\": 6, \"x1\": 6, \"xref\": \"x\", \"y0\": 10, \"y1\": 11, \"yref\": \"y\"}, {\"line\": {\"color\": \"black\", \"width\": 3}, \"type\": \"line\", \"x0\": 5, \"x1\": 6, \"xref\": \"x\", \"y0\": 11, \"y1\": 11, \"yref\": \"y\"}, {\"line\": {\"color\": \"black\", \"width\": 3}, \"type\": \"line\", \"x0\": 6, \"x1\": 6, \"xref\": \"x\", \"y0\": 10, \"y1\": 11, \"yref\": \"y\"}, {\"line\": {\"color\": \"black\", \"width\": 3}, \"type\": \"line\", \"x0\": 8, \"x1\": 8, \"xref\": \"x\", \"y0\": 10, \"y1\": 11, \"yref\": \"y\"}, {\"line\": {\"color\": \"black\", \"width\": 3}, \"type\": \"line\", \"x0\": 7, \"x1\": 8, \"xref\": \"x\", \"y0\": 11, \"y1\": 11, \"yref\": \"y\"}, {\"line\": {\"color\": \"black\", \"width\": 3}, \"type\": \"line\", \"x0\": 8, \"x1\": 9, \"xref\": \"x\", \"y0\": 10, \"y1\": 10, \"yref\": \"y\"}, {\"line\": {\"color\": \"black\", \"width\": 3}, \"type\": \"line\", \"x0\": 8, \"x1\": 9, \"xref\": \"x\", \"y0\": 11, \"y1\": 11, \"yref\": \"y\"}, {\"line\": {\"color\": \"black\", \"width\": 3}, \"type\": \"line\", \"x0\": 8, \"x1\": 8, \"xref\": \"x\", \"y0\": 10, \"y1\": 11, \"yref\": \"y\"}, {\"line\": {\"color\": \"black\", \"width\": 3}, \"type\": \"line\", \"x0\": 9, \"x1\": 10, \"xref\": \"x\", \"y0\": 10, \"y1\": 10, \"yref\": \"y\"}, {\"line\": {\"color\": \"black\", \"width\": 3}, \"type\": \"line\", \"x0\": 9, \"x1\": 10, \"xref\": \"x\", \"y0\": 11, \"y1\": 11, \"yref\": \"y\"}, {\"line\": {\"color\": \"black\", \"width\": 3}, \"type\": \"line\", \"x0\": 11, \"x1\": 11, \"xref\": \"x\", \"y0\": 10, \"y1\": 11, \"yref\": \"y\"}, {\"line\": {\"color\": \"black\", \"width\": 3}, \"type\": \"line\", \"x0\": 12, \"x1\": 12, \"xref\": \"x\", \"y0\": 10, \"y1\": 11, \"yref\": \"y\"}, {\"line\": {\"color\": \"black\", \"width\": 3}, \"type\": \"line\", \"x0\": 11, \"x1\": 11, \"xref\": \"x\", \"y0\": 10, \"y1\": 11, \"yref\": \"y\"}, {\"line\": {\"color\": \"black\", \"width\": 3}, \"type\": \"line\", \"x0\": 12, \"x1\": 13, \"xref\": \"x\", \"y0\": 10, \"y1\": 10, \"yref\": \"y\"}, {\"line\": {\"color\": \"black\", \"width\": 3}, \"type\": \"line\", \"x0\": 12, \"x1\": 12, \"xref\": \"x\", \"y0\": 10, \"y1\": 11, \"yref\": \"y\"}, {\"line\": {\"color\": \"black\", \"width\": 3}, \"type\": \"line\", \"x0\": 13, \"x1\": 14, \"xref\": \"x\", \"y0\": 11, \"y1\": 11, \"yref\": \"y\"}, {\"line\": {\"color\": \"black\", \"width\": 3}, \"type\": \"line\", \"x0\": 14, \"x1\": 15, \"xref\": \"x\", \"y0\": 10, \"y1\": 10, \"yref\": \"y\"}, {\"line\": {\"color\": \"black\", \"width\": 3}, \"type\": \"line\", \"x0\": 14, \"x1\": 15, \"xref\": \"x\", \"y0\": 11, \"y1\": 11, \"yref\": \"y\"}, {\"line\": {\"color\": \"black\", \"width\": 3}, \"type\": \"line\", \"x0\": 15, \"x1\": 16, \"xref\": \"x\", \"y0\": 10, \"y1\": 10, \"yref\": \"y\"}, {\"line\": {\"color\": \"black\", \"width\": 3}, \"type\": \"line\", \"x0\": 16, \"x1\": 16, \"xref\": \"x\", \"y0\": 10, \"y1\": 11, \"yref\": \"y\"}, {\"line\": {\"color\": \"black\", \"width\": 3}, \"type\": \"line\", \"x0\": 1, \"x1\": 1, \"xref\": \"x\", \"y0\": 11, \"y1\": 12, \"yref\": \"y\"}, {\"line\": {\"color\": \"black\", \"width\": 3}, \"type\": \"line\", \"x0\": 0, \"x1\": 0, \"xref\": \"x\", \"y0\": 11, \"y1\": 12, \"yref\": \"y\"}, {\"line\": {\"color\": \"black\", \"width\": 3}, \"type\": \"line\", \"x0\": 2, \"x1\": 2, \"xref\": \"x\", \"y0\": 11, \"y1\": 12, \"yref\": \"y\"}, {\"line\": {\"color\": \"black\", \"width\": 3}, \"type\": \"line\", \"x0\": 1, \"x1\": 1, \"xref\": \"x\", \"y0\": 11, \"y1\": 12, \"yref\": \"y\"}, {\"line\": {\"color\": \"black\", \"width\": 3}, \"type\": \"line\", \"x0\": 2, \"x1\": 3, \"xref\": \"x\", \"y0\": 11, \"y1\": 11, \"yref\": \"y\"}, {\"line\": {\"color\": \"black\", \"width\": 3}, \"type\": \"line\", \"x0\": 2, \"x1\": 3, \"xref\": \"x\", \"y0\": 12, \"y1\": 12, \"yref\": \"y\"}, {\"line\": {\"color\": \"black\", \"width\": 3}, \"type\": \"line\", \"x0\": 2, \"x1\": 2, \"xref\": \"x\", \"y0\": 11, \"y1\": 12, \"yref\": \"y\"}, {\"line\": {\"color\": \"black\", \"width\": 3}, \"type\": \"line\", \"x0\": 3, \"x1\": 4, \"xref\": \"x\", \"y0\": 11, \"y1\": 11, \"yref\": \"y\"}, {\"line\": {\"color\": \"black\", \"width\": 3}, \"type\": \"line\", \"x0\": 4, \"x1\": 4, \"xref\": \"x\", \"y0\": 11, \"y1\": 12, \"yref\": \"y\"}, {\"line\": {\"color\": \"black\", \"width\": 3}, \"type\": \"line\", \"x0\": 4, \"x1\": 5, \"xref\": \"x\", \"y0\": 11, \"y1\": 11, \"yref\": \"y\"}, {\"line\": {\"color\": \"black\", \"width\": 3}, \"type\": \"line\", \"x0\": 4, \"x1\": 4, \"xref\": \"x\", \"y0\": 11, \"y1\": 12, \"yref\": \"y\"}, {\"line\": {\"color\": \"black\", \"width\": 3}, \"type\": \"line\", \"x0\": 5, \"x1\": 6, \"xref\": \"x\", \"y0\": 11, \"y1\": 11, \"yref\": \"y\"}, {\"line\": {\"color\": \"black\", \"width\": 3}, \"type\": \"line\", \"x0\": 6, \"x1\": 6, \"xref\": \"x\", \"y0\": 11, \"y1\": 12, \"yref\": \"y\"}, {\"line\": {\"color\": \"black\", \"width\": 3}, \"type\": \"line\", \"x0\": 6, \"x1\": 7, \"xref\": \"x\", \"y0\": 12, \"y1\": 12, \"yref\": \"y\"}, {\"line\": {\"color\": \"black\", \"width\": 3}, \"type\": \"line\", \"x0\": 6, \"x1\": 6, \"xref\": \"x\", \"y0\": 11, \"y1\": 12, \"yref\": \"y\"}, {\"line\": {\"color\": \"black\", \"width\": 3}, \"type\": \"line\", \"x0\": 7, \"x1\": 8, \"xref\": \"x\", \"y0\": 11, \"y1\": 11, \"yref\": \"y\"}, {\"line\": {\"color\": \"black\", \"width\": 3}, \"type\": \"line\", \"x0\": 7, \"x1\": 8, \"xref\": \"x\", \"y0\": 12, \"y1\": 12, \"yref\": \"y\"}, {\"line\": {\"color\": \"black\", \"width\": 3}, \"type\": \"line\", \"x0\": 8, \"x1\": 9, \"xref\": \"x\", \"y0\": 11, \"y1\": 11, \"yref\": \"y\"}, {\"line\": {\"color\": \"black\", \"width\": 3}, \"type\": \"line\", \"x0\": 8, \"x1\": 9, \"xref\": \"x\", \"y0\": 12, \"y1\": 12, \"yref\": \"y\"}, {\"line\": {\"color\": \"black\", \"width\": 3}, \"type\": \"line\", \"x0\": 9, \"x1\": 10, \"xref\": \"x\", \"y0\": 11, \"y1\": 11, \"yref\": \"y\"}, {\"line\": {\"color\": \"black\", \"width\": 3}, \"type\": \"line\", \"x0\": 9, \"x1\": 10, \"xref\": \"x\", \"y0\": 12, \"y1\": 12, \"yref\": \"y\"}, {\"line\": {\"color\": \"black\", \"width\": 3}, \"type\": \"line\", \"x0\": 11, \"x1\": 11, \"xref\": \"x\", \"y0\": 11, \"y1\": 12, \"yref\": \"y\"}, {\"line\": {\"color\": \"black\", \"width\": 3}, \"type\": \"line\", \"x0\": 10, \"x1\": 11, \"xref\": \"x\", \"y0\": 12, \"y1\": 12, \"yref\": \"y\"}, {\"line\": {\"color\": \"black\", \"width\": 3}, \"type\": \"line\", \"x0\": 12, \"x1\": 12, \"xref\": \"x\", \"y0\": 11, \"y1\": 12, \"yref\": \"y\"}, {\"line\": {\"color\": \"black\", \"width\": 3}, \"type\": \"line\", \"x0\": 11, \"x1\": 11, \"xref\": \"x\", \"y0\": 11, \"y1\": 12, \"yref\": \"y\"}, {\"line\": {\"color\": \"black\", \"width\": 3}, \"type\": \"line\", \"x0\": 13, \"x1\": 13, \"xref\": \"x\", \"y0\": 11, \"y1\": 12, \"yref\": \"y\"}, {\"line\": {\"color\": \"black\", \"width\": 3}, \"type\": \"line\", \"x0\": 12, \"x1\": 12, \"xref\": \"x\", \"y0\": 11, \"y1\": 12, \"yref\": \"y\"}, {\"line\": {\"color\": \"black\", \"width\": 3}, \"type\": \"line\", \"x0\": 13, \"x1\": 14, \"xref\": \"x\", \"y0\": 11, \"y1\": 11, \"yref\": \"y\"}, {\"line\": {\"color\": \"black\", \"width\": 3}, \"type\": \"line\", \"x0\": 13, \"x1\": 13, \"xref\": \"x\", \"y0\": 11, \"y1\": 12, \"yref\": \"y\"}, {\"line\": {\"color\": \"black\", \"width\": 3}, \"type\": \"line\", \"x0\": 14, \"x1\": 15, \"xref\": \"x\", \"y0\": 11, \"y1\": 11, \"yref\": \"y\"}, {\"line\": {\"color\": \"black\", \"width\": 3}, \"type\": \"line\", \"x0\": 14, \"x1\": 15, \"xref\": \"x\", \"y0\": 12, \"y1\": 12, \"yref\": \"y\"}, {\"line\": {\"color\": \"black\", \"width\": 3}, \"type\": \"line\", \"x0\": 16, \"x1\": 16, \"xref\": \"x\", \"y0\": 11, \"y1\": 12, \"yref\": \"y\"}, {\"line\": {\"color\": \"black\", \"width\": 3}, \"type\": \"line\", \"x0\": 15, \"x1\": 16, \"xref\": \"x\", \"y0\": 12, \"y1\": 12, \"yref\": \"y\"}, {\"line\": {\"color\": \"black\", \"width\": 3}, \"type\": \"line\", \"x0\": 1, \"x1\": 1, \"xref\": \"x\", \"y0\": 12, \"y1\": 13, \"yref\": \"y\"}, {\"line\": {\"color\": \"black\", \"width\": 3}, \"type\": \"line\", \"x0\": 0, \"x1\": 0, \"xref\": \"x\", \"y0\": 12, \"y1\": 13, \"yref\": \"y\"}, {\"line\": {\"color\": \"black\", \"width\": 3}, \"type\": \"line\", \"x0\": 1, \"x1\": 2, \"xref\": \"x\", \"y0\": 13, \"y1\": 13, \"yref\": \"y\"}, {\"line\": {\"color\": \"black\", \"width\": 3}, \"type\": \"line\", \"x0\": 1, \"x1\": 1, \"xref\": \"x\", \"y0\": 12, \"y1\": 13, \"yref\": \"y\"}, {\"line\": {\"color\": \"black\", \"width\": 3}, \"type\": \"line\", \"x0\": 2, \"x1\": 3, \"xref\": \"x\", \"y0\": 12, \"y1\": 12, \"yref\": \"y\"}, {\"line\": {\"color\": \"black\", \"width\": 3}, \"type\": \"line\", \"x0\": 2, \"x1\": 3, \"xref\": \"x\", \"y0\": 13, \"y1\": 13, \"yref\": \"y\"}, {\"line\": {\"color\": \"black\", \"width\": 3}, \"type\": \"line\", \"x0\": 4, \"x1\": 4, \"xref\": \"x\", \"y0\": 12, \"y1\": 13, \"yref\": \"y\"}, {\"line\": {\"color\": \"black\", \"width\": 3}, \"type\": \"line\", \"x0\": 5, \"x1\": 5, \"xref\": \"x\", \"y0\": 12, \"y1\": 13, \"yref\": \"y\"}, {\"line\": {\"color\": \"black\", \"width\": 3}, \"type\": \"line\", \"x0\": 4, \"x1\": 4, \"xref\": \"x\", \"y0\": 12, \"y1\": 13, \"yref\": \"y\"}, {\"line\": {\"color\": \"black\", \"width\": 3}, \"type\": \"line\", \"x0\": 5, \"x1\": 6, \"xref\": \"x\", \"y0\": 13, \"y1\": 13, \"yref\": \"y\"}, {\"line\": {\"color\": \"black\", \"width\": 3}, \"type\": \"line\", \"x0\": 5, \"x1\": 5, \"xref\": \"x\", \"y0\": 12, \"y1\": 13, \"yref\": \"y\"}, {\"line\": {\"color\": \"black\", \"width\": 3}, \"type\": \"line\", \"x0\": 6, \"x1\": 7, \"xref\": \"x\", \"y0\": 12, \"y1\": 12, \"yref\": \"y\"}, {\"line\": {\"color\": \"black\", \"width\": 3}, \"type\": \"line\", \"x0\": 7, \"x1\": 8, \"xref\": \"x\", \"y0\": 12, \"y1\": 12, \"yref\": \"y\"}, {\"line\": {\"color\": \"black\", \"width\": 3}, \"type\": \"line\", \"x0\": 8, \"x1\": 8, \"xref\": \"x\", \"y0\": 12, \"y1\": 13, \"yref\": \"y\"}, {\"line\": {\"color\": \"black\", \"width\": 3}, \"type\": \"line\", \"x0\": 7, \"x1\": 8, \"xref\": \"x\", \"y0\": 13, \"y1\": 13, \"yref\": \"y\"}, {\"line\": {\"color\": \"black\", \"width\": 3}, \"type\": \"line\", \"x0\": 8, \"x1\": 9, \"xref\": \"x\", \"y0\": 12, \"y1\": 12, \"yref\": \"y\"}, {\"line\": {\"color\": \"black\", \"width\": 3}, \"type\": \"line\", \"x0\": 8, \"x1\": 8, \"xref\": \"x\", \"y0\": 12, \"y1\": 13, \"yref\": \"y\"}, {\"line\": {\"color\": \"black\", \"width\": 3}, \"type\": \"line\", \"x0\": 9, \"x1\": 10, \"xref\": \"x\", \"y0\": 12, \"y1\": 12, \"yref\": \"y\"}, {\"line\": {\"color\": \"black\", \"width\": 3}, \"type\": \"line\", \"x0\": 9, \"x1\": 10, \"xref\": \"x\", \"y0\": 13, \"y1\": 13, \"yref\": \"y\"}, {\"line\": {\"color\": \"black\", \"width\": 3}, \"type\": \"line\", \"x0\": 10, \"x1\": 11, \"xref\": \"x\", \"y0\": 12, \"y1\": 12, \"yref\": \"y\"}, {\"line\": {\"color\": \"black\", \"width\": 3}, \"type\": \"line\", \"x0\": 11, \"x1\": 11, \"xref\": \"x\", \"y0\": 12, \"y1\": 13, \"yref\": \"y\"}, {\"line\": {\"color\": \"black\", \"width\": 3}, \"type\": \"line\", \"x0\": 11, \"x1\": 12, \"xref\": \"x\", \"y0\": 13, \"y1\": 13, \"yref\": \"y\"}, {\"line\": {\"color\": \"black\", \"width\": 3}, \"type\": \"line\", \"x0\": 11, \"x1\": 11, \"xref\": \"x\", \"y0\": 12, \"y1\": 13, \"yref\": \"y\"}, {\"line\": {\"color\": \"black\", \"width\": 3}, \"type\": \"line\", \"x0\": 13, \"x1\": 13, \"xref\": \"x\", \"y0\": 12, \"y1\": 13, \"yref\": \"y\"}, {\"line\": {\"color\": \"black\", \"width\": 3}, \"type\": \"line\", \"x0\": 12, \"x1\": 13, \"xref\": \"x\", \"y0\": 13, \"y1\": 13, \"yref\": \"y\"}, {\"line\": {\"color\": \"black\", \"width\": 3}, \"type\": \"line\", \"x0\": 14, \"x1\": 14, \"xref\": \"x\", \"y0\": 12, \"y1\": 13, \"yref\": \"y\"}, {\"line\": {\"color\": \"black\", \"width\": 3}, \"type\": \"line\", \"x0\": 13, \"x1\": 13, \"xref\": \"x\", \"y0\": 12, \"y1\": 13, \"yref\": \"y\"}, {\"line\": {\"color\": \"black\", \"width\": 3}, \"type\": \"line\", \"x0\": 14, \"x1\": 15, \"xref\": \"x\", \"y0\": 12, \"y1\": 12, \"yref\": \"y\"}, {\"line\": {\"color\": \"black\", \"width\": 3}, \"type\": \"line\", \"x0\": 14, \"x1\": 14, \"xref\": \"x\", \"y0\": 12, \"y1\": 13, \"yref\": \"y\"}, {\"line\": {\"color\": \"black\", \"width\": 3}, \"type\": \"line\", \"x0\": 15, \"x1\": 16, \"xref\": \"x\", \"y0\": 12, \"y1\": 12, \"yref\": \"y\"}, {\"line\": {\"color\": \"black\", \"width\": 3}, \"type\": \"line\", \"x0\": 16, \"x1\": 16, \"xref\": \"x\", \"y0\": 12, \"y1\": 13, \"yref\": \"y\"}, {\"line\": {\"color\": \"black\", \"width\": 3}, \"type\": \"line\", \"x0\": 1, \"x1\": 1, \"xref\": \"x\", \"y0\": 13, \"y1\": 14, \"yref\": \"y\"}, {\"line\": {\"color\": \"black\", \"width\": 3}, \"type\": \"line\", \"x0\": 0, \"x1\": 0, \"xref\": \"x\", \"y0\": 13, \"y1\": 14, \"yref\": \"y\"}, {\"line\": {\"color\": \"black\", \"width\": 3}, \"type\": \"line\", \"x0\": 1, \"x1\": 2, \"xref\": \"x\", \"y0\": 13, \"y1\": 13, \"yref\": \"y\"}, {\"line\": {\"color\": \"black\", \"width\": 3}, \"type\": \"line\", \"x0\": 1, \"x1\": 2, \"xref\": \"x\", \"y0\": 14, \"y1\": 14, \"yref\": \"y\"}, {\"line\": {\"color\": \"black\", \"width\": 3}, \"type\": \"line\", \"x0\": 1, \"x1\": 1, \"xref\": \"x\", \"y0\": 13, \"y1\": 14, \"yref\": \"y\"}, {\"line\": {\"color\": \"black\", \"width\": 3}, \"type\": \"line\", \"x0\": 2, \"x1\": 3, \"xref\": \"x\", \"y0\": 13, \"y1\": 13, \"yref\": \"y\"}, {\"line\": {\"color\": \"black\", \"width\": 3}, \"type\": \"line\", \"x0\": 2, \"x1\": 3, \"xref\": \"x\", \"y0\": 14, \"y1\": 14, \"yref\": \"y\"}, {\"line\": {\"color\": \"black\", \"width\": 3}, \"type\": \"line\", \"x0\": 4, \"x1\": 4, \"xref\": \"x\", \"y0\": 13, \"y1\": 14, \"yref\": \"y\"}, {\"line\": {\"color\": \"black\", \"width\": 3}, \"type\": \"line\", \"x0\": 3, \"x1\": 4, \"xref\": \"x\", \"y0\": 14, \"y1\": 14, \"yref\": \"y\"}, {\"line\": {\"color\": \"black\", \"width\": 3}, \"type\": \"line\", \"x0\": 4, \"x1\": 5, \"xref\": \"x\", \"y0\": 14, \"y1\": 14, \"yref\": \"y\"}, {\"line\": {\"color\": \"black\", \"width\": 3}, \"type\": \"line\", \"x0\": 4, \"x1\": 4, \"xref\": \"x\", \"y0\": 13, \"y1\": 14, \"yref\": \"y\"}, {\"line\": {\"color\": \"black\", \"width\": 3}, \"type\": \"line\", \"x0\": 5, \"x1\": 6, \"xref\": \"x\", \"y0\": 13, \"y1\": 13, \"yref\": \"y\"}, {\"line\": {\"color\": \"black\", \"width\": 3}, \"type\": \"line\", \"x0\": 6, \"x1\": 6, \"xref\": \"x\", \"y0\": 13, \"y1\": 14, \"yref\": \"y\"}, {\"line\": {\"color\": \"black\", \"width\": 3}, \"type\": \"line\", \"x0\": 6, \"x1\": 7, \"xref\": \"x\", \"y0\": 14, \"y1\": 14, \"yref\": \"y\"}, {\"line\": {\"color\": \"black\", \"width\": 3}, \"type\": \"line\", \"x0\": 6, \"x1\": 6, \"xref\": \"x\", \"y0\": 13, \"y1\": 14, \"yref\": \"y\"}, {\"line\": {\"color\": \"black\", \"width\": 3}, \"type\": \"line\", \"x0\": 7, \"x1\": 8, \"xref\": \"x\", \"y0\": 13, \"y1\": 13, \"yref\": \"y\"}, {\"line\": {\"color\": \"black\", \"width\": 3}, \"type\": \"line\", \"x0\": 8, \"x1\": 8, \"xref\": \"x\", \"y0\": 13, \"y1\": 14, \"yref\": \"y\"}, {\"line\": {\"color\": \"black\", \"width\": 3}, \"type\": \"line\", \"x0\": 9, \"x1\": 9, \"xref\": \"x\", \"y0\": 13, \"y1\": 14, \"yref\": \"y\"}, {\"line\": {\"color\": \"black\", \"width\": 3}, \"type\": \"line\", \"x0\": 8, \"x1\": 8, \"xref\": \"x\", \"y0\": 13, \"y1\": 14, \"yref\": \"y\"}, {\"line\": {\"color\": \"black\", \"width\": 3}, \"type\": \"line\", \"x0\": 9, \"x1\": 10, \"xref\": \"x\", \"y0\": 13, \"y1\": 13, \"yref\": \"y\"}, {\"line\": {\"color\": \"black\", \"width\": 3}, \"type\": \"line\", \"x0\": 10, \"x1\": 10, \"xref\": \"x\", \"y0\": 13, \"y1\": 14, \"yref\": \"y\"}, {\"line\": {\"color\": \"black\", \"width\": 3}, \"type\": \"line\", \"x0\": 9, \"x1\": 9, \"xref\": \"x\", \"y0\": 13, \"y1\": 14, \"yref\": \"y\"}, {\"line\": {\"color\": \"black\", \"width\": 3}, \"type\": \"line\", \"x0\": 10, \"x1\": 10, \"xref\": \"x\", \"y0\": 13, \"y1\": 14, \"yref\": \"y\"}, {\"line\": {\"color\": \"black\", \"width\": 3}, \"type\": \"line\", \"x0\": 11, \"x1\": 12, \"xref\": \"x\", \"y0\": 13, \"y1\": 13, \"yref\": \"y\"}, {\"line\": {\"color\": \"black\", \"width\": 3}, \"type\": \"line\", \"x0\": 11, \"x1\": 12, \"xref\": \"x\", \"y0\": 14, \"y1\": 14, \"yref\": \"y\"}, {\"line\": {\"color\": \"black\", \"width\": 3}, \"type\": \"line\", \"x0\": 12, \"x1\": 13, \"xref\": \"x\", \"y0\": 13, \"y1\": 13, \"yref\": \"y\"}, {\"line\": {\"color\": \"black\", \"width\": 3}, \"type\": \"line\", \"x0\": 13, \"x1\": 13, \"xref\": \"x\", \"y0\": 13, \"y1\": 14, \"yref\": \"y\"}, {\"line\": {\"color\": \"black\", \"width\": 3}, \"type\": \"line\", \"x0\": 12, \"x1\": 13, \"xref\": \"x\", \"y0\": 14, \"y1\": 14, \"yref\": \"y\"}, {\"line\": {\"color\": \"black\", \"width\": 3}, \"type\": \"line\", \"x0\": 13, \"x1\": 14, \"xref\": \"x\", \"y0\": 14, \"y1\": 14, \"yref\": \"y\"}, {\"line\": {\"color\": \"black\", \"width\": 3}, \"type\": \"line\", \"x0\": 13, \"x1\": 13, \"xref\": \"x\", \"y0\": 13, \"y1\": 14, \"yref\": \"y\"}, {\"line\": {\"color\": \"black\", \"width\": 3}, \"type\": \"line\", \"x0\": 15, \"x1\": 15, \"xref\": \"x\", \"y0\": 13, \"y1\": 14, \"yref\": \"y\"}, {\"line\": {\"color\": \"black\", \"width\": 3}, \"type\": \"line\", \"x0\": 14, \"x1\": 15, \"xref\": \"x\", \"y0\": 14, \"y1\": 14, \"yref\": \"y\"}, {\"line\": {\"color\": \"black\", \"width\": 3}, \"type\": \"line\", \"x0\": 16, \"x1\": 16, \"xref\": \"x\", \"y0\": 13, \"y1\": 14, \"yref\": \"y\"}, {\"line\": {\"color\": \"black\", \"width\": 3}, \"type\": \"line\", \"x0\": 15, \"x1\": 15, \"xref\": \"x\", \"y0\": 13, \"y1\": 14, \"yref\": \"y\"}, {\"line\": {\"color\": \"black\", \"width\": 3}, \"type\": \"line\", \"x0\": 1, \"x1\": 1, \"xref\": \"x\", \"y0\": 14, \"y1\": 15, \"yref\": \"y\"}, {\"line\": {\"color\": \"black\", \"width\": 3}, \"type\": \"line\", \"x0\": 0, \"x1\": 0, \"xref\": \"x\", \"y0\": 14, \"y1\": 15, \"yref\": \"y\"}, {\"line\": {\"color\": \"black\", \"width\": 3}, \"type\": \"line\", \"x0\": 1, \"x1\": 2, \"xref\": \"x\", \"y0\": 14, \"y1\": 14, \"yref\": \"y\"}, {\"line\": {\"color\": \"black\", \"width\": 3}, \"type\": \"line\", \"x0\": 1, \"x1\": 1, \"xref\": \"x\", \"y0\": 14, \"y1\": 15, \"yref\": \"y\"}, {\"line\": {\"color\": \"black\", \"width\": 3}, \"type\": \"line\", \"x0\": 2, \"x1\": 3, \"xref\": \"x\", \"y0\": 14, \"y1\": 14, \"yref\": \"y\"}, {\"line\": {\"color\": \"black\", \"width\": 3}, \"type\": \"line\", \"x0\": 3, \"x1\": 3, \"xref\": \"x\", \"y0\": 14, \"y1\": 15, \"yref\": \"y\"}, {\"line\": {\"color\": \"black\", \"width\": 3}, \"type\": \"line\", \"x0\": 3, \"x1\": 4, \"xref\": \"x\", \"y0\": 14, \"y1\": 14, \"yref\": \"y\"}, {\"line\": {\"color\": \"black\", \"width\": 3}, \"type\": \"line\", \"x0\": 3, \"x1\": 3, \"xref\": \"x\", \"y0\": 14, \"y1\": 15, \"yref\": \"y\"}, {\"line\": {\"color\": \"black\", \"width\": 3}, \"type\": \"line\", \"x0\": 4, \"x1\": 5, \"xref\": \"x\", \"y0\": 14, \"y1\": 14, \"yref\": \"y\"}, {\"line\": {\"color\": \"black\", \"width\": 3}, \"type\": \"line\", \"x0\": 5, \"x1\": 5, \"xref\": \"x\", \"y0\": 14, \"y1\": 15, \"yref\": \"y\"}, {\"line\": {\"color\": \"black\", \"width\": 3}, \"type\": \"line\", \"x0\": 6, \"x1\": 6, \"xref\": \"x\", \"y0\": 14, \"y1\": 15, \"yref\": \"y\"}, {\"line\": {\"color\": \"black\", \"width\": 3}, \"type\": \"line\", \"x0\": 5, \"x1\": 5, \"xref\": \"x\", \"y0\": 14, \"y1\": 15, \"yref\": \"y\"}, {\"line\": {\"color\": \"black\", \"width\": 3}, \"type\": \"line\", \"x0\": 6, \"x1\": 7, \"xref\": \"x\", \"y0\": 14, \"y1\": 14, \"yref\": \"y\"}, {\"line\": {\"color\": \"black\", \"width\": 3}, \"type\": \"line\", \"x0\": 7, \"x1\": 7, \"xref\": \"x\", \"y0\": 14, \"y1\": 15, \"yref\": \"y\"}, {\"line\": {\"color\": \"black\", \"width\": 3}, \"type\": \"line\", \"x0\": 6, \"x1\": 6, \"xref\": \"x\", \"y0\": 14, \"y1\": 15, \"yref\": \"y\"}, {\"line\": {\"color\": \"black\", \"width\": 3}, \"type\": \"line\", \"x0\": 8, \"x1\": 8, \"xref\": \"x\", \"y0\": 14, \"y1\": 15, \"yref\": \"y\"}, {\"line\": {\"color\": \"black\", \"width\": 3}, \"type\": \"line\", \"x0\": 7, \"x1\": 7, \"xref\": \"x\", \"y0\": 14, \"y1\": 15, \"yref\": \"y\"}, {\"line\": {\"color\": \"black\", \"width\": 3}, \"type\": \"line\", \"x0\": 9, \"x1\": 9, \"xref\": \"x\", \"y0\": 14, \"y1\": 15, \"yref\": \"y\"}, {\"line\": {\"color\": \"black\", \"width\": 3}, \"type\": \"line\", \"x0\": 8, \"x1\": 8, \"xref\": \"x\", \"y0\": 14, \"y1\": 15, \"yref\": \"y\"}, {\"line\": {\"color\": \"black\", \"width\": 3}, \"type\": \"line\", \"x0\": 10, \"x1\": 10, \"xref\": \"x\", \"y0\": 14, \"y1\": 15, \"yref\": \"y\"}, {\"line\": {\"color\": \"black\", \"width\": 3}, \"type\": \"line\", \"x0\": 9, \"x1\": 9, \"xref\": \"x\", \"y0\": 14, \"y1\": 15, \"yref\": \"y\"}, {\"line\": {\"color\": \"black\", \"width\": 3}, \"type\": \"line\", \"x0\": 11, \"x1\": 11, \"xref\": \"x\", \"y0\": 14, \"y1\": 15, \"yref\": \"y\"}, {\"line\": {\"color\": \"black\", \"width\": 3}, \"type\": \"line\", \"x0\": 10, \"x1\": 10, \"xref\": \"x\", \"y0\": 14, \"y1\": 15, \"yref\": \"y\"}, {\"line\": {\"color\": \"black\", \"width\": 3}, \"type\": \"line\", \"x0\": 11, \"x1\": 12, \"xref\": \"x\", \"y0\": 14, \"y1\": 14, \"yref\": \"y\"}, {\"line\": {\"color\": \"black\", \"width\": 3}, \"type\": \"line\", \"x0\": 11, \"x1\": 11, \"xref\": \"x\", \"y0\": 14, \"y1\": 15, \"yref\": \"y\"}, {\"line\": {\"color\": \"black\", \"width\": 3}, \"type\": \"line\", \"x0\": 12, \"x1\": 13, \"xref\": \"x\", \"y0\": 14, \"y1\": 14, \"yref\": \"y\"}, {\"line\": {\"color\": \"black\", \"width\": 3}, \"type\": \"line\", \"x0\": 13, \"x1\": 13, \"xref\": \"x\", \"y0\": 14, \"y1\": 15, \"yref\": \"y\"}, {\"line\": {\"color\": \"black\", \"width\": 3}, \"type\": \"line\", \"x0\": 13, \"x1\": 14, \"xref\": \"x\", \"y0\": 14, \"y1\": 14, \"yref\": \"y\"}, {\"line\": {\"color\": \"black\", \"width\": 3}, \"type\": \"line\", \"x0\": 13, \"x1\": 13, \"xref\": \"x\", \"y0\": 14, \"y1\": 15, \"yref\": \"y\"}, {\"line\": {\"color\": \"black\", \"width\": 3}, \"type\": \"line\", \"x0\": 14, \"x1\": 15, \"xref\": \"x\", \"y0\": 14, \"y1\": 14, \"yref\": \"y\"}, {\"line\": {\"color\": \"black\", \"width\": 3}, \"type\": \"line\", \"x0\": 15, \"x1\": 15, \"xref\": \"x\", \"y0\": 14, \"y1\": 15, \"yref\": \"y\"}, {\"line\": {\"color\": \"black\", \"width\": 3}, \"type\": \"line\", \"x0\": 16, \"x1\": 16, \"xref\": \"x\", \"y0\": 14, \"y1\": 15, \"yref\": \"y\"}, {\"line\": {\"color\": \"black\", \"width\": 3}, \"type\": \"line\", \"x0\": 15, \"x1\": 15, \"xref\": \"x\", \"y0\": 14, \"y1\": 15, \"yref\": \"y\"}, {\"line\": {\"color\": \"black\", \"width\": 3}, \"type\": \"line\", \"x0\": 0, \"x1\": 1, \"xref\": \"x\", \"y0\": 16, \"y1\": 16, \"yref\": \"y\"}, {\"line\": {\"color\": \"black\", \"width\": 3}, \"type\": \"line\", \"x0\": 0, \"x1\": 0, \"xref\": \"x\", \"y0\": 15, \"y1\": 16, \"yref\": \"y\"}, {\"line\": {\"color\": \"black\", \"width\": 3}, \"type\": \"line\", \"x0\": 2, \"x1\": 2, \"xref\": \"x\", \"y0\": 15, \"y1\": 16, \"yref\": \"y\"}, {\"line\": {\"color\": \"black\", \"width\": 3}, \"type\": \"line\", \"x0\": 1, \"x1\": 2, \"xref\": \"x\", \"y0\": 16, \"y1\": 16, \"yref\": \"y\"}, {\"line\": {\"color\": \"black\", \"width\": 3}, \"type\": \"line\", \"x0\": 2, \"x1\": 3, \"xref\": \"x\", \"y0\": 16, \"y1\": 16, \"yref\": \"y\"}, {\"line\": {\"color\": \"black\", \"width\": 3}, \"type\": \"line\", \"x0\": 2, \"x1\": 2, \"xref\": \"x\", \"y0\": 15, \"y1\": 16, \"yref\": \"y\"}, {\"line\": {\"color\": \"black\", \"width\": 3}, \"type\": \"line\", \"x0\": 4, \"x1\": 4, \"xref\": \"x\", \"y0\": 15, \"y1\": 16, \"yref\": \"y\"}, {\"line\": {\"color\": \"black\", \"width\": 3}, \"type\": \"line\", \"x0\": 3, \"x1\": 4, \"xref\": \"x\", \"y0\": 16, \"y1\": 16, \"yref\": \"y\"}, {\"line\": {\"color\": \"black\", \"width\": 3}, \"type\": \"line\", \"x0\": 4, \"x1\": 5, \"xref\": \"x\", \"y0\": 16, \"y1\": 16, \"yref\": \"y\"}, {\"line\": {\"color\": \"black\", \"width\": 3}, \"type\": \"line\", \"x0\": 4, \"x1\": 4, \"xref\": \"x\", \"y0\": 15, \"y1\": 16, \"yref\": \"y\"}, {\"line\": {\"color\": \"black\", \"width\": 3}, \"type\": \"line\", \"x0\": 5, \"x1\": 6, \"xref\": \"x\", \"y0\": 16, \"y1\": 16, \"yref\": \"y\"}, {\"line\": {\"color\": \"black\", \"width\": 3}, \"type\": \"line\", \"x0\": 7, \"x1\": 7, \"xref\": \"x\", \"y0\": 15, \"y1\": 16, \"yref\": \"y\"}, {\"line\": {\"color\": \"black\", \"width\": 3}, \"type\": \"line\", \"x0\": 6, \"x1\": 7, \"xref\": \"x\", \"y0\": 16, \"y1\": 16, \"yref\": \"y\"}, {\"line\": {\"color\": \"black\", \"width\": 3}, \"type\": \"line\", \"x0\": 7, \"x1\": 8, \"xref\": \"x\", \"y0\": 16, \"y1\": 16, \"yref\": \"y\"}, {\"line\": {\"color\": \"black\", \"width\": 3}, \"type\": \"line\", \"x0\": 7, \"x1\": 7, \"xref\": \"x\", \"y0\": 15, \"y1\": 16, \"yref\": \"y\"}, {\"line\": {\"color\": \"black\", \"width\": 3}, \"type\": \"line\", \"x0\": 8, \"x1\": 9, \"xref\": \"x\", \"y0\": 16, \"y1\": 16, \"yref\": \"y\"}, {\"line\": {\"color\": \"black\", \"width\": 3}, \"type\": \"line\", \"x0\": 10, \"x1\": 10, \"xref\": \"x\", \"y0\": 15, \"y1\": 16, \"yref\": \"y\"}, {\"line\": {\"color\": \"black\", \"width\": 3}, \"type\": \"line\", \"x0\": 9, \"x1\": 10, \"xref\": \"x\", \"y0\": 16, \"y1\": 16, \"yref\": \"y\"}, {\"line\": {\"color\": \"black\", \"width\": 3}, \"type\": \"line\", \"x0\": 10, \"x1\": 11, \"xref\": \"x\", \"y0\": 16, \"y1\": 16, \"yref\": \"y\"}, {\"line\": {\"color\": \"black\", \"width\": 3}, \"type\": \"line\", \"x0\": 10, \"x1\": 10, \"xref\": \"x\", \"y0\": 15, \"y1\": 16, \"yref\": \"y\"}, {\"line\": {\"color\": \"black\", \"width\": 3}, \"type\": \"line\", \"x0\": 12, \"x1\": 12, \"xref\": \"x\", \"y0\": 15, \"y1\": 16, \"yref\": \"y\"}, {\"line\": {\"color\": \"black\", \"width\": 3}, \"type\": \"line\", \"x0\": 11, \"x1\": 12, \"xref\": \"x\", \"y0\": 16, \"y1\": 16, \"yref\": \"y\"}, {\"line\": {\"color\": \"black\", \"width\": 3}, \"type\": \"line\", \"x0\": 12, \"x1\": 13, \"xref\": \"x\", \"y0\": 16, \"y1\": 16, \"yref\": \"y\"}, {\"line\": {\"color\": \"black\", \"width\": 3}, \"type\": \"line\", \"x0\": 12, \"x1\": 12, \"xref\": \"x\", \"y0\": 15, \"y1\": 16, \"yref\": \"y\"}, {\"line\": {\"color\": \"black\", \"width\": 3}, \"type\": \"line\", \"x0\": 14, \"x1\": 14, \"xref\": \"x\", \"y0\": 15, \"y1\": 16, \"yref\": \"y\"}, {\"line\": {\"color\": \"black\", \"width\": 3}, \"type\": \"line\", \"x0\": 13, \"x1\": 14, \"xref\": \"x\", \"y0\": 16, \"y1\": 16, \"yref\": \"y\"}, {\"line\": {\"color\": \"black\", \"width\": 3}, \"type\": \"line\", \"x0\": 14, \"x1\": 15, \"xref\": \"x\", \"y0\": 16, \"y1\": 16, \"yref\": \"y\"}, {\"line\": {\"color\": \"black\", \"width\": 3}, \"type\": \"line\", \"x0\": 14, \"x1\": 14, \"xref\": \"x\", \"y0\": 15, \"y1\": 16, \"yref\": \"y\"}, {\"line\": {\"color\": \"black\", \"width\": 3}, \"type\": \"line\", \"x0\": 16, \"x1\": 16, \"xref\": \"x\", \"y0\": 15, \"y1\": 16, \"yref\": \"y\"}, {\"line\": {\"color\": \"black\", \"width\": 3}, \"type\": \"line\", \"x0\": 15, \"x1\": 16, \"xref\": \"x\", \"y0\": 16, \"y1\": 16, \"yref\": \"y\"}], \"template\": {\"data\": {\"bar\": [{\"error_x\": {\"color\": \"#2a3f5f\"}, \"error_y\": {\"color\": \"#2a3f5f\"}, \"marker\": {\"line\": {\"color\": \"#E5ECF6\", \"width\": 0.5}}, \"type\": \"bar\"}], \"barpolar\": [{\"marker\": {\"line\": {\"color\": \"#E5ECF6\", \"width\": 0.5}}, \"type\": \"barpolar\"}], \"carpet\": [{\"aaxis\": {\"endlinecolor\": \"#2a3f5f\", \"gridcolor\": \"white\", \"linecolor\": \"white\", \"minorgridcolor\": \"white\", \"startlinecolor\": \"#2a3f5f\"}, \"baxis\": {\"endlinecolor\": \"#2a3f5f\", \"gridcolor\": \"white\", \"linecolor\": \"white\", \"minorgridcolor\": \"white\", \"startlinecolor\": \"#2a3f5f\"}, \"type\": \"carpet\"}], \"choropleth\": [{\"colorbar\": {\"outlinewidth\": 0, \"ticks\": \"\"}, \"type\": \"choropleth\"}], \"contour\": [{\"colorbar\": {\"outlinewidth\": 0, \"ticks\": \"\"}, \"colorscale\": [[0.0, \"#0d0887\"], [0.1111111111111111, \"#46039f\"], [0.2222222222222222, \"#7201a8\"], [0.3333333333333333, \"#9c179e\"], [0.4444444444444444, \"#bd3786\"], [0.5555555555555556, \"#d8576b\"], [0.6666666666666666, \"#ed7953\"], [0.7777777777777778, \"#fb9f3a\"], [0.8888888888888888, \"#fdca26\"], [1.0, \"#f0f921\"]], \"type\": \"contour\"}], \"contourcarpet\": [{\"colorbar\": {\"outlinewidth\": 0, \"ticks\": \"\"}, \"type\": \"contourcarpet\"}], \"heatmap\": [{\"colorbar\": {\"outlinewidth\": 0, \"ticks\": \"\"}, \"colorscale\": [[0.0, \"#0d0887\"], [0.1111111111111111, \"#46039f\"], [0.2222222222222222, \"#7201a8\"], [0.3333333333333333, \"#9c179e\"], [0.4444444444444444, \"#bd3786\"], [0.5555555555555556, \"#d8576b\"], [0.6666666666666666, \"#ed7953\"], [0.7777777777777778, \"#fb9f3a\"], [0.8888888888888888, \"#fdca26\"], [1.0, \"#f0f921\"]], \"type\": \"heatmap\"}], \"heatmapgl\": [{\"colorbar\": {\"outlinewidth\": 0, \"ticks\": \"\"}, \"colorscale\": [[0.0, \"#0d0887\"], [0.1111111111111111, \"#46039f\"], [0.2222222222222222, \"#7201a8\"], [0.3333333333333333, \"#9c179e\"], [0.4444444444444444, \"#bd3786\"], [0.5555555555555556, \"#d8576b\"], [0.6666666666666666, \"#ed7953\"], [0.7777777777777778, \"#fb9f3a\"], [0.8888888888888888, \"#fdca26\"], [1.0, \"#f0f921\"]], \"type\": \"heatmapgl\"}], \"histogram\": [{\"marker\": {\"colorbar\": {\"outlinewidth\": 0, \"ticks\": \"\"}}, \"type\": \"histogram\"}], \"histogram2d\": [{\"colorbar\": {\"outlinewidth\": 0, \"ticks\": \"\"}, \"colorscale\": [[0.0, \"#0d0887\"], [0.1111111111111111, \"#46039f\"], [0.2222222222222222, \"#7201a8\"], [0.3333333333333333, \"#9c179e\"], [0.4444444444444444, \"#bd3786\"], [0.5555555555555556, \"#d8576b\"], [0.6666666666666666, \"#ed7953\"], [0.7777777777777778, \"#fb9f3a\"], [0.8888888888888888, \"#fdca26\"], [1.0, \"#f0f921\"]], \"type\": \"histogram2d\"}], \"histogram2dcontour\": [{\"colorbar\": {\"outlinewidth\": 0, \"ticks\": \"\"}, \"colorscale\": [[0.0, \"#0d0887\"], [0.1111111111111111, \"#46039f\"], [0.2222222222222222, \"#7201a8\"], [0.3333333333333333, \"#9c179e\"], [0.4444444444444444, \"#bd3786\"], [0.5555555555555556, \"#d8576b\"], [0.6666666666666666, \"#ed7953\"], [0.7777777777777778, \"#fb9f3a\"], [0.8888888888888888, \"#fdca26\"], [1.0, \"#f0f921\"]], \"type\": \"histogram2dcontour\"}], \"mesh3d\": [{\"colorbar\": {\"outlinewidth\": 0, \"ticks\": \"\"}, \"type\": \"mesh3d\"}], \"parcoords\": [{\"line\": {\"colorbar\": {\"outlinewidth\": 0, \"ticks\": \"\"}}, \"type\": \"parcoords\"}], \"pie\": [{\"automargin\": true, \"type\": \"pie\"}], \"scatter\": [{\"marker\": {\"colorbar\": {\"outlinewidth\": 0, \"ticks\": \"\"}}, \"type\": \"scatter\"}], \"scatter3d\": [{\"line\": {\"colorbar\": {\"outlinewidth\": 0, \"ticks\": \"\"}}, \"marker\": {\"colorbar\": {\"outlinewidth\": 0, \"ticks\": \"\"}}, \"type\": \"scatter3d\"}], \"scattercarpet\": [{\"marker\": {\"colorbar\": {\"outlinewidth\": 0, \"ticks\": \"\"}}, \"type\": \"scattercarpet\"}], \"scattergeo\": [{\"marker\": {\"colorbar\": {\"outlinewidth\": 0, \"ticks\": \"\"}}, \"type\": \"scattergeo\"}], \"scattergl\": [{\"marker\": {\"colorbar\": {\"outlinewidth\": 0, \"ticks\": \"\"}}, \"type\": \"scattergl\"}], \"scattermapbox\": [{\"marker\": {\"colorbar\": {\"outlinewidth\": 0, \"ticks\": \"\"}}, \"type\": \"scattermapbox\"}], \"scatterpolar\": [{\"marker\": {\"colorbar\": {\"outlinewidth\": 0, \"ticks\": \"\"}}, \"type\": \"scatterpolar\"}], \"scatterpolargl\": [{\"marker\": {\"colorbar\": {\"outlinewidth\": 0, \"ticks\": \"\"}}, \"type\": \"scatterpolargl\"}], \"scatterternary\": [{\"marker\": {\"colorbar\": {\"outlinewidth\": 0, \"ticks\": \"\"}}, \"type\": \"scatterternary\"}], \"surface\": [{\"colorbar\": {\"outlinewidth\": 0, \"ticks\": \"\"}, \"colorscale\": [[0.0, \"#0d0887\"], [0.1111111111111111, \"#46039f\"], [0.2222222222222222, \"#7201a8\"], [0.3333333333333333, \"#9c179e\"], [0.4444444444444444, \"#bd3786\"], [0.5555555555555556, \"#d8576b\"], [0.6666666666666666, \"#ed7953\"], [0.7777777777777778, \"#fb9f3a\"], [0.8888888888888888, \"#fdca26\"], [1.0, \"#f0f921\"]], \"type\": \"surface\"}], \"table\": [{\"cells\": {\"fill\": {\"color\": \"#EBF0F8\"}, \"line\": {\"color\": \"white\"}}, \"header\": {\"fill\": {\"color\": \"#C8D4E3\"}, \"line\": {\"color\": \"white\"}}, \"type\": \"table\"}]}, \"layout\": {\"annotationdefaults\": {\"arrowcolor\": \"#2a3f5f\", \"arrowhead\": 0, \"arrowwidth\": 1}, \"coloraxis\": {\"colorbar\": {\"outlinewidth\": 0, \"ticks\": \"\"}}, \"colorscale\": {\"diverging\": [[0, \"#8e0152\"], [0.1, \"#c51b7d\"], [0.2, \"#de77ae\"], [0.3, \"#f1b6da\"], [0.4, \"#fde0ef\"], [0.5, \"#f7f7f7\"], [0.6, \"#e6f5d0\"], [0.7, \"#b8e186\"], [0.8, \"#7fbc41\"], [0.9, \"#4d9221\"], [1, \"#276419\"]], \"sequential\": [[0.0, \"#0d0887\"], [0.1111111111111111, \"#46039f\"], [0.2222222222222222, \"#7201a8\"], [0.3333333333333333, \"#9c179e\"], [0.4444444444444444, \"#bd3786\"], [0.5555555555555556, \"#d8576b\"], [0.6666666666666666, \"#ed7953\"], [0.7777777777777778, \"#fb9f3a\"], [0.8888888888888888, \"#fdca26\"], [1.0, \"#f0f921\"]], \"sequentialminus\": [[0.0, \"#0d0887\"], [0.1111111111111111, \"#46039f\"], [0.2222222222222222, \"#7201a8\"], [0.3333333333333333, \"#9c179e\"], [0.4444444444444444, \"#bd3786\"], [0.5555555555555556, \"#d8576b\"], [0.6666666666666666, \"#ed7953\"], [0.7777777777777778, \"#fb9f3a\"], [0.8888888888888888, \"#fdca26\"], [1.0, \"#f0f921\"]]}, \"colorway\": [\"#636efa\", \"#EF553B\", \"#00cc96\", \"#ab63fa\", \"#FFA15A\", \"#19d3f3\", \"#FF6692\", \"#B6E880\", \"#FF97FF\", \"#FECB52\"], \"font\": {\"color\": \"#2a3f5f\"}, \"geo\": {\"bgcolor\": \"white\", \"lakecolor\": \"white\", \"landcolor\": \"#E5ECF6\", \"showlakes\": true, \"showland\": true, \"subunitcolor\": \"white\"}, \"hoverlabel\": {\"align\": \"left\"}, \"hovermode\": \"closest\", \"mapbox\": {\"style\": \"light\"}, \"paper_bgcolor\": \"white\", \"plot_bgcolor\": \"#E5ECF6\", \"polar\": {\"angularaxis\": {\"gridcolor\": \"white\", \"linecolor\": \"white\", \"ticks\": \"\"}, \"bgcolor\": \"#E5ECF6\", \"radialaxis\": {\"gridcolor\": \"white\", \"linecolor\": \"white\", \"ticks\": \"\"}}, \"scene\": {\"xaxis\": {\"backgroundcolor\": \"#E5ECF6\", \"gridcolor\": \"white\", \"gridwidth\": 2, \"linecolor\": \"white\", \"showbackground\": true, \"ticks\": \"\", \"zerolinecolor\": \"white\"}, \"yaxis\": {\"backgroundcolor\": \"#E5ECF6\", \"gridcolor\": \"white\", \"gridwidth\": 2, \"linecolor\": \"white\", \"showbackground\": true, \"ticks\": \"\", \"zerolinecolor\": \"white\"}, \"zaxis\": {\"backgroundcolor\": \"#E5ECF6\", \"gridcolor\": \"white\", \"gridwidth\": 2, \"linecolor\": \"white\", \"showbackground\": true, \"ticks\": \"\", \"zerolinecolor\": \"white\"}}, \"shapedefaults\": {\"line\": {\"color\": \"#2a3f5f\"}}, \"ternary\": {\"aaxis\": {\"gridcolor\": \"white\", \"linecolor\": \"white\", \"ticks\": \"\"}, \"baxis\": {\"gridcolor\": \"white\", \"linecolor\": \"white\", \"ticks\": \"\"}, \"bgcolor\": \"#E5ECF6\", \"caxis\": {\"gridcolor\": \"white\", \"linecolor\": \"white\", \"ticks\": \"\"}}, \"title\": {\"x\": 0.05}, \"xaxis\": {\"automargin\": true, \"gridcolor\": \"white\", \"linecolor\": \"white\", \"ticks\": \"\", \"title\": {\"standoff\": 15}, \"zerolinecolor\": \"white\", \"zerolinewidth\": 2}, \"yaxis\": {\"automargin\": true, \"gridcolor\": \"white\", \"linecolor\": \"white\", \"ticks\": \"\", \"title\": {\"standoff\": 15}, \"zerolinecolor\": \"white\", \"zerolinewidth\": 2}}}, \"xaxis\": {\"anchor\": \"y\", \"domain\": [0.0, 1.0]}, \"yaxis\": {\"anchor\": \"x\", \"domain\": [0.0, 1.0]}},\n",
       "                        {\"responsive\": true}\n",
       "                    ).then(function(){\n",
       "                            \n",
       "var gd = document.getElementById('6ebb4b0a-29c1-41c3-b31a-43fb354a918c');\n",
       "var x = new MutationObserver(function (mutations, observer) {{\n",
       "        var display = window.getComputedStyle(gd).display;\n",
       "        if (!display || display === 'none') {{\n",
       "            console.log([gd, 'removed!']);\n",
       "            Plotly.purge(gd);\n",
       "            observer.disconnect();\n",
       "        }}\n",
       "}});\n",
       "\n",
       "// Listen for the removal of the full notebook cells\n",
       "var notebookContainer = gd.closest('#notebook-container');\n",
       "if (notebookContainer) {{\n",
       "    x.observe(notebookContainer, {childList: true});\n",
       "}}\n",
       "\n",
       "// Listen for the clearing of the current output cell\n",
       "var outputEl = gd.closest('.output');\n",
       "if (outputEl) {{\n",
       "    x.observe(outputEl, {childList: true});\n",
       "}}\n",
       "\n",
       "                        })\n",
       "                };\n",
       "                });\n",
       "            </script>\n",
       "        </div>"
      ]
     },
     "metadata": {},
     "output_type": "display_data"
    }
   ],
   "source": [
    "sim.maze.visualize()"
   ]
  }
 ],
 "metadata": {
  "interpreter": {
   "hash": "ffe38c00a382087b73f93941c60445f7201d9309de0b357761b8eeba0a65aff6"
  },
  "kernelspec": {
   "display_name": "Python 3",
   "language": "python",
   "name": "python3"
  },
  "language_info": {
   "codemirror_mode": {
    "name": "ipython",
    "version": 3
   },
   "file_extension": ".py",
   "mimetype": "text/x-python",
   "name": "python",
   "nbconvert_exporter": "python",
   "pygments_lexer": "ipython3",
   "version": "3.7.6"
  }
 },
 "nbformat": 4,
 "nbformat_minor": 2
}
